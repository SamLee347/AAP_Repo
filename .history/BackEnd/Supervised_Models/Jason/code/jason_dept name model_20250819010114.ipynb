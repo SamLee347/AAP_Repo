{
 "cells": [
  {
   "cell_type": "markdown",
   "id": "9bf1a1fe-2e4d-4bdb-8506-cbcf46dfd128",
   "metadata": {},
   "source": [
    "# AAP AI Model for Sample Categorization\n",
    "\n",
    "**Admin Number**: 230327F  \n",
    "**Module**: IT3100 - AI Applications Project  \n",
    "**Jason Hong Jie Sen**\n",
    "\n",
    "---\n",
    "\n",
    "## **Progress Review 1 Summary**\n",
    "\n",
    "### **What Has Been Done in Progress Review 1:**\n",
    "1. **Data Preprocessing**:\n",
    "   - Handled missing values and removed duplicates.\n",
    "   - Standardized and encoded categorical features using **one-hot encoding**.\n",
    "   - Outliers were removed using **percentile trimming** (1st and 99th percentiles).\n",
    "   \n",
    "2. **Model Training**:\n",
    "   - Trained a **Random Forest Classifier** using preprocessed data.\n",
    "   - Evaluated the model using **accuracy**, **precision**, **recall**, and **F1-score**.\n",
    "\n",
    "3. **Next Steps**:\n",
    "   - **Hyperparameter tuning** for model optimization.\n",
    "   - **Class balancing** techniques (like **SMOTE** or **class weights**).\n",
    "   - **Feature engineering** to improve model performance.\n",
    "\n",
    "---\n",
    "\n",
    "## **1. Introduction**\n",
    "\n",
    "### Problem Statement:\n",
    "\n",
    "At ANS, the manual categorization of product samples is slow, inconsistent, and error-prone. This project aims to automate the classification of product samples based on metadata to improve **organization**, **efficiency**, and **accuracy**.\n",
    "\n",
    "### Goal:\n",
    "\n",
    "Build a supervised machine learning model to predict the **product category** using historical inventory and transaction data.\n",
    "\n",
    "---\n",
    "\n",
    "## **2. Data Collection and Justification**\n",
    "\n",
    "### Dataset Source:\n",
    "The dataset used is the **Supply Chain Management Dataset** on Kaggle:  \n",
    "[Supply Chain Management Dataset on Kaggle](https://www.kaggle.com/datasets/codymiles/supply-chain-management).\n",
    "\n",
    "### Dataset Features:\n",
    "- **Order-Related Info**: Order ID, customer details, sales data, order zone, price, category, etc.\n",
    "- **Product Info**: Product type, category, dimensions, weight, dispatch status.\n",
    "- **Shipping Info**: Shipping class, scheduled shipping, warehouse region, etc.\n",
    "\n",
    "### Relevance to ANS:\n",
    "This dataset provides the necessary features for building a model to categorize samples, aligning with ANS’s operations focused on product distribution.\n",
    "\n",
    "---\n",
    "\n",
    "## **3. Data Preparation and Cleaning**"
   ]
  },
  {
   "cell_type": "code",
<<<<<<< HEAD
   "execution_count": 1,
=======
   "execution_count": 15,
>>>>>>> Chatbot
   "id": "daf4d227-fb64-453d-8ff1-5f45004a7fc2",
   "metadata": {},
   "outputs": [],
   "source": [
    "import pandas as pd\n",
    "from sklearn.model_selection import train_test_split\n",
    "from sklearn.preprocessing import LabelEncoder\n",
    "from imblearn.over_sampling import SMOTE\n",
    "import matplotlib.pyplot as plt\n",
    "import seaborn as sns\n",
    "\n",
    "\n",
    "# Load data\n",
    "train_df = pd.read_csv(r'C:\\Users\\jason\\OneDrive\\Documents\\2025 Sem1 Study\\IT3100_AAP\\AAP_Dataset (Supply Chain)\\Train_Set.csv')\n",
    "test_df = pd.read_csv(r'C:\\Users\\jason\\OneDrive\\Documents\\2025 Sem1 Study\\IT3100_AAP\\AAP_Dataset (Supply Chain)\\Test_Set.csv')\n",
    "\n",
    "# TO REMOVEEEEEEEEEE (3000 rows) so it's faster:\n",
    "train_df = train_df.sample(n=3000, random_state=42)\n",
    "test_df = test_df.sample(n=1000, random_state=42)\n",
    "\n",
    "# Drop unnecessary identifier columns and other less useful features\n",
    "train_df = train_df.drop(['OrderId', 'Customer_Id', 'Dept_Id', 'Zipcode', 'Prod_Category_Id', 'CategoryName'], axis=1)\n",
    "test_df = test_df.drop(['OrderId', 'Customer_Id', 'Dept_Id', 'Zipcode', 'Prod_Category_Id', 'CategoryName'], axis=1)\n",
    "\n",
    "# Clean columns by stripping whitespace\n",
    "train_df.columns = train_df.columns.str.strip()\n",
    "test_df.columns = test_df.columns.str.strip()\n",
    "\n",
    "# Drop rows with missing values and duplicates\n",
    "train_df.dropna(inplace=True)\n",
    "test_df.dropna(inplace=True)\n",
    "train_df.drop_duplicates(inplace=True)\n",
    "test_df.drop_duplicates(inplace=True)\n",
    "\n",
    "# Standardize string columns by converting to lowercase and stripping whitespace\n",
    "str_cols = ['Product_type', 'Customer_Category', 'Dept_Name', 'Shipping_Class', 'Warehouse_Region', 'Order_zone']\n",
    "for col in str_cols:\n",
    "    train_df[col] = train_df[col].str.strip().str.lower()\n",
    "    test_df[col] = test_df[col].str.strip().str.lower()\n",
    "\n",
    "# First encode all classes to identify low-support ones\n",
    "label_encoder = LabelEncoder()\n",
    "train_df['Dept_Name_encoded'] = label_encoder.fit_transform(train_df['Dept_Name'])\n",
    "\n",
    "# List low-support classes to combine into \"Other\"\n",
    "low_support_classes = [1, 2, 4, 7, 9, 10]\n",
    "\n",
    "# Replace low-support classes with a common \"Other\" category (make sure \"Other\" is a string)\n",
    "train_df['Dept_Name_encoded'] = train_df['Dept_Name_encoded'].apply(lambda x: 'Other' if x in low_support_classes else x)\n",
    "\n",
    "# Convert all values to string (to make sure the LabelEncoder works)\n",
    "train_df['Dept_Name_encoded'] = train_df['Dept_Name_encoded'].astype(str)\n",
    "\n",
    "# Now, apply LabelEncoder to encode the target variable after the replacement\n",
    "train_df['Dept_Name_encoded'] = label_encoder.fit_transform(train_df['Dept_Name_encoded'])\n",
    "\n",
    "# List of features to keep (based on feature importance)\n",
    "features_to_keep = ['Price', 'Sales', 'Order_Profit', 'ProductWeight', 'Quantity']\n",
    "\n",
    "# Preparing X and y with the selected features\n",
    "X = train_df[features_to_keep]\n",
    "y = train_df['Dept_Name_encoded']\n",
    "\n",
    "X_test = test_df[features_to_keep]  \n",
    "\n",
    "\n",
    "\n"
   ]
  },
  {
<<<<<<< HEAD
   "cell_type": "code",
   "execution_count": null,
   "id": "336b4470",
   "metadata": {},
   "outputs": [
    {
     "name": "stdout",
     "output_type": "stream",
     "text": [
      "All Departments in Training Data:\n",
      "['fan shop' 'outdoors' 'apparel' 'fitness' 'golf' 'technology' 'footwear'\n",
      " 'discs shop' 'health and beauty' 'pet shop' 'book shop']\n",
      "\n",
      "Department Counts:\n",
      "Dept_Name\n",
      "fan shop             924\n",
      "apparel              615\n",
      "golf                 454\n",
      "footwear             164\n",
      "outdoors             144\n",
      "fitness               36\n",
      "discs shop            26\n",
      "technology            25\n",
      "pet shop               5\n",
      "book shop              4\n",
      "health and beauty      3\n",
      "Name: count, dtype: int64\n",
      "All Departments in Training Data:\n",
      "['fan shop' 'outdoors' 'apparel' 'fitness' 'golf' 'technology' 'footwear'\n",
      " 'discs shop' 'health and beauty' 'pet shop' 'book shop']\n",
      "\n",
      "Department Counts:\n",
      "Dept_Name\n",
      "fan shop             924\n",
      "apparel              615\n",
      "golf                 454\n",
      "footwear             164\n",
      "outdoors             144\n",
      "fitness               36\n",
      "discs shop            26\n",
      "technology            25\n",
      "pet shop               5\n",
      "book shop              4\n",
      "health and beauty      3\n",
      "Name: count, dtype: int64\n"
     ]
    }
   ],
   "source": [
    "import pandas as pd\n",
    "\n",
    "\n",
    "\n",
    "# See all unique departments\n",
    "print(\"All Departments in Training Data:\")\n",
    "print(train_df['Dept_Name'].unique())\n",
    "\n",
    "# See value counts\n",
    "print(\"\\nDepartment Counts:\")\n",
    "print(train_df['Dept_Name'].value_counts())\n",
    "\n",
    "\n"
   ]
  },
  {
=======
>>>>>>> Chatbot
   "cell_type": "markdown",
   "id": "79a0c31d-bd71-43fe-97bd-72a029bbd985",
   "metadata": {},
   "source": [
    "## Data Preprocessing\n",
    "\n",
    "1. Loaded and cleaned the training and test datasets\n",
    "2. Standardized column names by stripping whitespace\n",
    "3. Removed rows with missing values and duplicate entries\n",
    "4. Normalized string columns by converting to lowercase and stripping whitespace\n",
    "5. Encoded the target variable (`Dept_Name`) using LabelEncoder"
   ]
  },
  {
   "cell_type": "code",
<<<<<<< HEAD
   "execution_count": 2,
=======
   "execution_count": 16,
>>>>>>> Chatbot
   "id": "4d0205a6-3f82-4758-aecd-0e0c0da04666",
   "metadata": {},
   "outputs": [],
   "source": [
    "\n",
    "# Split into training and validation sets\n",
    "X_train, X_val, y_train, y_val = train_test_split(X, y, test_size=0.2, random_state=42, stratify=y)\n",
    "\n",
    "# Apply SMOTE for oversampling with fewer neighbors\n",
    "smote = SMOTE(random_state=42, k_neighbors=3)  \n",
    "X_train_resampled, y_train_resampled = smote.fit_resample(X_train, y_train)"
   ]
  },
  {
   "cell_type": "markdown",
   "id": "9db1a7ee-1bf3-4757-956f-ad260a1fe4c3",
   "metadata": {},
   "source": [
    "## Feature Engineering\n",
    "\n",
    "1. Separated features (X) and target (y)\n",
    "2. Performed one-hot encoding on categorical columns\n",
    "3. Split data into training and validation sets (80/20)\n",
    "4. Addressed class imbalance using SMOTE oversampling"
   ]
  },
  {
   "cell_type": "code",
<<<<<<< HEAD
   "execution_count": 3,
=======
   "execution_count": null,
>>>>>>> Chatbot
   "id": "a3bc2560-9e7c-4b85-b341-a73785bd9930",
   "metadata": {},
   "outputs": [
    {
     "name": "stdout",
     "output_type": "stream",
     "text": [
<<<<<<< HEAD
      "Fitting 3 folds for each of 243 candidates, totalling 729 fits\n",
      "Best parameters found: {'max_depth': None, 'max_features': 'sqrt', 'min_samples_leaf': 1, 'min_samples_split': 2, 'n_estimators': 150}\n"
=======
      "Fitting 3 folds for each of 243 candidates, totalling 729 fits\n"
>>>>>>> Chatbot
     ]
    }
   ],
   "source": [
    "from sklearn.model_selection import GridSearchCV, StratifiedKFold\n",
    "from sklearn.ensemble import RandomForestClassifier\n",
    "\n",
    "# Hyperparameter tuning with GridSearchCV\n",
    "model = RandomForestClassifier(random_state = 42)\n",
    "skf = StratifiedKFold(n_splits=3, shuffle=True, random_state=42)\n",
    "param_grid = {\n",
    "    'n_estimators': [50, 100, 150],\n",
    "    'max_depth': [10, 20, None],\n",
    "    'min_samples_split': [2, 5, 10],\n",
    "    'min_samples_leaf': [1, 2, 4],\n",
    "    'max_features': ['sqrt', 'log2', None]  # Make sure this is valid\n",
    "}\n",
    "\n",
    "\n",
    "# Re-run GridSearchCV with the updated grid\n",
    "grid_search = GridSearchCV(estimator=model, param_grid=param_grid, cv=3, scoring='accuracy', verbose=2, n_jobs=-1)\n",
    "grid_search.fit(X_train_resampled, y_train_resampled)\n",
    "print(\"Best parameters found:\", grid_search.best_params_)\n"
   ]
  },
  {
   "cell_type": "markdown",
   "id": "39d88c01-8a1f-4742-872a-7b6400702781",
   "metadata": {},
   "source": [
    "## Hyperparameter Tuning\n",
    "\n",
    "Performed grid search over key parameters:\n",
    "- Number of estimators (50, 100, 150)\n",
    "- Tree depth (10, 20, unlimited)\n",
    "- Minimum samples for splits (2, 5, 10)\n",
    "- Minimum samples per leaf (1, 2, 4)\n",
    "\n",
    "Used 3-fold CV for efficiency"
   ]
  },
  {
   "cell_type": "code",
<<<<<<< HEAD
   "execution_count": 4,
   "id": "2dca887f-4f6d-420c-a5d6-f6a7a88dcec6",
   "metadata": {},
   "outputs": [
    {
     "name": "stdout",
     "output_type": "stream",
     "text": [
      "\n",
      "=== FEATURE IMPORTANCE ANALYSIS ===\n",
      "\n",
      "Feature Importance Rankings:\n",
      "         feature  importance\n",
      "0          Price    0.513889\n",
      "1          Sales    0.164255\n",
      "2   Order_Profit    0.152188\n",
      "3  ProductWeight    0.109299\n",
      "4       Quantity    0.060369\n"
     ]
    },
    {
     "name": "stderr",
     "output_type": "stream",
     "text": [
      "C:\\Users\\jason\\AppData\\Local\\Temp\\ipykernel_90500\\4056459751.py:18: FutureWarning: \n",
      "\n",
      "Passing `palette` without assigning `hue` is deprecated and will be removed in v0.14.0. Assign the `y` variable to `hue` and set `legend=False` for the same effect.\n",
      "\n",
      "  sns.barplot(data=feature_importance.head(10),\n"
     ]
    },
    {
     "data": {
      "image/png": "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",
      "text/plain": [
       "<Figure size 1000x600 with 1 Axes>"
      ]
     },
     "metadata": {},
     "output_type": "display_data"
    },
    {
     "name": "stdout",
     "output_type": "stream",
     "text": [
      "\n",
      "Top 5 most important features:\n",
      "1. Price: 0.5139\n",
      "2. Sales: 0.1643\n",
      "3. Order_Profit: 0.1522\n",
      "4. ProductWeight: 0.1093\n",
      "5. Quantity: 0.0604\n",
      "\n",
      "These top 5 features account for 100.0% of the model's decision-making\n",
      "\n",
      "Keeping 5 features with importance > 0.01\n"
     ]
    }
   ],
=======
   "execution_count": null,
   "id": "2dca887f-4f6d-420c-a5d6-f6a7a88dcec6",
   "metadata": {},
   "outputs": [],
>>>>>>> Chatbot
   "source": [
    "# === Feature Importance Analysis ===\n",
    "print(\"\\n=== FEATURE IMPORTANCE ANALYSIS ===\")\n",
    "\n",
    "# Ensure you have a trained model (grid_search should be fitted)\n",
    "if hasattr(grid_search, 'best_estimator_'):\n",
    "    # Get feature importances from the best model\n",
    "    feature_importance = pd.DataFrame({\n",
    "        'feature': X.columns,\n",
    "        'importance': grid_search.best_estimator_.feature_importances_\n",
    "    }).sort_values('importance', ascending=False)\n",
    "    \n",
    "    # Print the Feature Importance Rankings\n",
    "    print(\"\\nFeature Importance Rankings:\")\n",
    "    print(feature_importance.to_string())  # to_string() for better formatting\n",
    "    \n",
    "    # Plot the Top 10 Most Important Features\n",
    "    plt.figure(figsize=(10, 6))\n",
    "    sns.barplot(data=feature_importance.head(10), \n",
    "                x='importance', \n",
    "                y='feature', \n",
    "                palette='viridis')\n",
    "    plt.title('Top 10 Most Important Features')\n",
    "    plt.xlabel('Importance Score')\n",
    "    plt.ylabel('Features')\n",
    "    plt.tight_layout()\n",
    "    plt.show()\n",
    "    \n",
    "    # Display Top 5 Features with their importance\n",
    "    print(\"\\nTop 5 most important features:\")\n",
    "    top_features = feature_importance.head(5)\n",
    "    for i, (idx, row) in enumerate(top_features.iterrows()):\n",
    "        print(f\"{i+1}. {row['feature']}: {row['importance']:.4f}\")\n",
    "    \n",
    "    # Show cumulative importance\n",
    "    print(f\"\\nThese top 5 features account for {top_features['importance'].sum():.1%} of the model's decision-making\")\n",
    "    \n",
    "    # Remove low-importance features\n",
    "    threshold = 0.01  # Adjust based on your feature importance distribution\n",
    "    important_features = feature_importance[feature_importance['importance'] > threshold]['feature']\n",
    "    \n",
    "    print(f\"\\nKeeping {len(important_features)} features with importance > {threshold}\")\n",
    "    X = X[important_features]  # Filter features"
   ]
  },
  {
   "cell_type": "markdown",
   "id": "0367f327-6c37-4009-ac1b-1a99e6969f72",
   "metadata": {},
   "source": [
    "# Remove features with very low importance (below a certain threshold)\n",
    "threshold = 0.01  # You can adjust this threshold based on the distribution of importance values\n",
    "important_features = feature_importance[feature_importance['importance'] > threshold]\n",
    "X = X[important_features['feature']]\n"
   ]
  },
  {
   "cell_type": "markdown",
   "id": "4fac029f-4189-484f-9a88-37499c3adbca",
   "metadata": {},
   "source": [
    "## Correlation Matrix & Results\n"
   ]
  },
  {
   "cell_type": "code",
<<<<<<< HEAD
   "execution_count": 5,
   "id": "29bf9b4f-f7f3-4786-a3b3-893b27cd0140",
   "metadata": {},
   "outputs": [
    {
     "name": "stdout",
     "output_type": "stream",
     "text": [
      "GB Classification Report:\n",
      "               precision    recall  f1-score   support\n",
      "\n",
      "           0       0.99      0.98      0.99       123\n",
      "           3       0.92      0.77      0.84       185\n",
      "           5       0.85      0.88      0.87        33\n",
      "           6       0.62      0.80      0.70        90\n",
      "           8       0.52      0.52      0.52        29\n",
      "       Other       0.57      0.65      0.60        20\n",
      "\n",
      "    accuracy                           0.82       480\n",
      "   macro avg       0.74      0.77      0.75       480\n",
      "weighted avg       0.84      0.82      0.82       480\n",
      "\n",
      "Confusion Matrix:\n",
      " [[121   0   0   0   0   2]\n",
      " [  0 143   0  39   2   1]\n",
      " [  0   0  29   0   4   0]\n",
      " [  0  12   0  72   3   3]\n",
      " [  1   1   4   4  15   4]\n",
      " [  0   0   1   1   5  13]]\n"
     ]
    }
   ],
=======
   "execution_count": null,
   "id": "29bf9b4f-f7f3-4786-a3b3-893b27cd0140",
   "metadata": {},
   "outputs": [],
>>>>>>> Chatbot
   "source": [
    "from sklearn.metrics import classification_report, confusion_matrix\n",
    "from sklearn.ensemble import GradientBoostingClassifier\n",
    "\n",
    "# Train Gradient Boosting model \n",
    "gb_model = GradientBoostingClassifier(random_state=42)\n",
    "gb_model.fit(X_train_resampled, y_train_resampled)\n",
    "\n",
    "# Make predictions using RandomForest's best model (grid_search)\n",
    "y_test_pred = grid_search.best_estimator_.predict(X_test)  # Now X_test exists\n",
    "\n",
    "# Convert predictions to department names\n",
    "predicted_dept = label_encoder.inverse_transform(y_test_pred)\n",
    "\n",
    "# Save predictions\n",
    "test_df['Predicted_Dept_Name'] = predicted_dept\n",
    "test_df.to_csv(\"predicted_dept_names.csv\", index=False)\n",
    "\n",
    "# Validation (using GradientBoosting - if you want)\n",
    "y_pred_gb = gb_model.predict(X_val)  # Need X_val prepared similarly\n",
    "y_val_dept = label_encoder.inverse_transform(y_val)\n",
    "y_pred_dept = label_encoder.inverse_transform(y_pred_gb)\n",
    "\n",
    "print(\"GB Classification Report:\\n\", classification_report(y_val_dept, y_pred_dept))\n",
    "print(\"Confusion Matrix:\\n\", confusion_matrix(y_val_dept, y_pred_dept))"
   ]
  },
  {
   "cell_type": "code",
<<<<<<< HEAD
   "execution_count": 6,
   "id": "0e318112-a8a4-4cb6-86c3-1117523a52a9",
   "metadata": {},
   "outputs": [
    {
     "data": {
      "text/plain": [
       "['C:\\\\Users\\\\jason\\\\OneDrive\\\\Documents\\\\2025 Sem1 Study\\\\IT3100_AAP\\\\final pkl file\\\\label_encoder.pkl']"
      ]
     },
     "execution_count": 6,
     "metadata": {},
     "output_type": "execute_result"
    }
   ],
=======
   "execution_count": null,
   "id": "0e318112-a8a4-4cb6-86c3-1117523a52a9",
   "metadata": {},
   "outputs": [],
>>>>>>> Chatbot
   "source": [
    "import joblib\n",
    "\n",
    "# Assuming your model is trained (e.g., gb_model)\n",
    "# Save the model to a specific path\n",
    "file_path = r'C:\\Users\\jason\\OneDrive\\Documents\\2025 Sem1 Study\\IT3100_AAP\\final pkl file\\gradient_boosting_model.pkl'\n",
    "joblib.dump(gb_model, file_path)\n",
    "\n",
    "# Save the label encoder as well (if needed)\n",
    "encoder_path = r'C:\\Users\\jason\\OneDrive\\Documents\\2025 Sem1 Study\\IT3100_AAP\\final pkl file\\label_encoder.pkl'\n",
    "joblib.dump(label_encoder, encoder_path)\n"
   ]
  },
  {
   "cell_type": "markdown",
   "id": "77ca1d68-0180-469d-8654-8066c6c217dd",
   "metadata": {},
   "source": [
    "## Model Initialization and Training\n",
    "\n",
    "Initialized gradient boosting model after comparing with RandomForest\n",
    "\n",
    "Performed 3-fold cross-validation to assess generalization performance"
   ]
  },
  {
   "cell_type": "code",
<<<<<<< HEAD
   "execution_count": 7,
   "id": "f05dc444-4542-441b-b201-59820ede7644",
   "metadata": {},
   "outputs": [
    {
     "name": "stdout",
     "output_type": "stream",
     "text": [
      "Enter the following information:\n"
     ]
    },
    {
     "ename": "KeyboardInterrupt",
     "evalue": "Interrupted by user",
     "output_type": "error",
     "traceback": [
      "\u001b[1;31m---------------------------------------------------------------------------\u001b[0m",
      "\u001b[1;31mKeyboardInterrupt\u001b[0m                         Traceback (most recent call last)",
      "Cell \u001b[1;32mIn[7], line 62\u001b[0m\n\u001b[0;32m     59\u001b[0m     \u001b[38;5;28mprint\u001b[39m(\u001b[38;5;124mf\u001b[39m\u001b[38;5;124m\"\u001b[39m\u001b[38;5;124mPredicted Department: \u001b[39m\u001b[38;5;132;01m{\u001b[39;00mpredicted_dept[\u001b[38;5;241m0\u001b[39m]\u001b[38;5;132;01m}\u001b[39;00m\u001b[38;5;124m\"\u001b[39m)\n\u001b[0;32m     61\u001b[0m \u001b[38;5;66;03m# Call the user input function\u001b[39;00m\n\u001b[1;32m---> 62\u001b[0m \u001b[43muser_input\u001b[49m\u001b[43m(\u001b[49m\u001b[43m)\u001b[49m\n",
      "Cell \u001b[1;32mIn[7], line 5\u001b[0m, in \u001b[0;36muser_input\u001b[1;34m()\u001b[0m\n\u001b[0;32m      2\u001b[0m \u001b[38;5;28mprint\u001b[39m(\u001b[38;5;124m\"\u001b[39m\u001b[38;5;124mEnter the following information:\u001b[39m\u001b[38;5;124m\"\u001b[39m)\n\u001b[0;32m      4\u001b[0m \u001b[38;5;66;03m# Collecting user input data\u001b[39;00m\n\u001b[1;32m----> 5\u001b[0m price \u001b[38;5;241m=\u001b[39m \u001b[38;5;28mfloat\u001b[39m(\u001b[38;5;28;43minput\u001b[39;49m\u001b[43m(\u001b[49m\u001b[38;5;124;43m\"\u001b[39;49m\u001b[38;5;124;43mPrice (in currency): \u001b[39;49m\u001b[38;5;124;43m\"\u001b[39;49m\u001b[43m)\u001b[49m)\n\u001b[0;32m      6\u001b[0m sales \u001b[38;5;241m=\u001b[39m \u001b[38;5;28mfloat\u001b[39m(\u001b[38;5;28minput\u001b[39m(\u001b[38;5;124m\"\u001b[39m\u001b[38;5;124mSales: \u001b[39m\u001b[38;5;124m\"\u001b[39m))\n\u001b[0;32m      7\u001b[0m order_profit \u001b[38;5;241m=\u001b[39m \u001b[38;5;28mfloat\u001b[39m(\u001b[38;5;28minput\u001b[39m(\u001b[38;5;124m\"\u001b[39m\u001b[38;5;124mOrder Profit: \u001b[39m\u001b[38;5;124m\"\u001b[39m))\n",
      "File \u001b[1;32mc:\\Users\\jason\\.conda\\envs\\aap_env\\lib\\site-packages\\ipykernel\\kernelbase.py:1282\u001b[0m, in \u001b[0;36mKernel.raw_input\u001b[1;34m(self, prompt)\u001b[0m\n\u001b[0;32m   1280\u001b[0m     msg \u001b[38;5;241m=\u001b[39m \u001b[38;5;124m\"\u001b[39m\u001b[38;5;124mraw_input was called, but this frontend does not support input requests.\u001b[39m\u001b[38;5;124m\"\u001b[39m\n\u001b[0;32m   1281\u001b[0m     \u001b[38;5;28;01mraise\u001b[39;00m StdinNotImplementedError(msg)\n\u001b[1;32m-> 1282\u001b[0m \u001b[38;5;28;01mreturn\u001b[39;00m \u001b[38;5;28;43mself\u001b[39;49m\u001b[38;5;241;43m.\u001b[39;49m\u001b[43m_input_request\u001b[49m\u001b[43m(\u001b[49m\n\u001b[0;32m   1283\u001b[0m \u001b[43m    \u001b[49m\u001b[38;5;28;43mstr\u001b[39;49m\u001b[43m(\u001b[49m\u001b[43mprompt\u001b[49m\u001b[43m)\u001b[49m\u001b[43m,\u001b[49m\n\u001b[0;32m   1284\u001b[0m \u001b[43m    \u001b[49m\u001b[38;5;28;43mself\u001b[39;49m\u001b[38;5;241;43m.\u001b[39;49m\u001b[43m_parent_ident\u001b[49m\u001b[43m[\u001b[49m\u001b[38;5;124;43m\"\u001b[39;49m\u001b[38;5;124;43mshell\u001b[39;49m\u001b[38;5;124;43m\"\u001b[39;49m\u001b[43m]\u001b[49m\u001b[43m,\u001b[49m\n\u001b[0;32m   1285\u001b[0m \u001b[43m    \u001b[49m\u001b[38;5;28;43mself\u001b[39;49m\u001b[38;5;241;43m.\u001b[39;49m\u001b[43mget_parent\u001b[49m\u001b[43m(\u001b[49m\u001b[38;5;124;43m\"\u001b[39;49m\u001b[38;5;124;43mshell\u001b[39;49m\u001b[38;5;124;43m\"\u001b[39;49m\u001b[43m)\u001b[49m\u001b[43m,\u001b[49m\n\u001b[0;32m   1286\u001b[0m \u001b[43m    \u001b[49m\u001b[43mpassword\u001b[49m\u001b[38;5;241;43m=\u001b[39;49m\u001b[38;5;28;43;01mFalse\u001b[39;49;00m\u001b[43m,\u001b[49m\n\u001b[0;32m   1287\u001b[0m \u001b[43m\u001b[49m\u001b[43m)\u001b[49m\n",
      "File \u001b[1;32mc:\\Users\\jason\\.conda\\envs\\aap_env\\lib\\site-packages\\ipykernel\\kernelbase.py:1325\u001b[0m, in \u001b[0;36mKernel._input_request\u001b[1;34m(self, prompt, ident, parent, password)\u001b[0m\n\u001b[0;32m   1322\u001b[0m \u001b[38;5;28;01mexcept\u001b[39;00m \u001b[38;5;167;01mKeyboardInterrupt\u001b[39;00m:\n\u001b[0;32m   1323\u001b[0m     \u001b[38;5;66;03m# re-raise KeyboardInterrupt, to truncate traceback\u001b[39;00m\n\u001b[0;32m   1324\u001b[0m     msg \u001b[38;5;241m=\u001b[39m \u001b[38;5;124m\"\u001b[39m\u001b[38;5;124mInterrupted by user\u001b[39m\u001b[38;5;124m\"\u001b[39m\n\u001b[1;32m-> 1325\u001b[0m     \u001b[38;5;28;01mraise\u001b[39;00m \u001b[38;5;167;01mKeyboardInterrupt\u001b[39;00m(msg) \u001b[38;5;28;01mfrom\u001b[39;00m\u001b[38;5;250m \u001b[39m\u001b[38;5;28;01mNone\u001b[39;00m\n\u001b[0;32m   1326\u001b[0m \u001b[38;5;28;01mexcept\u001b[39;00m \u001b[38;5;167;01mException\u001b[39;00m:\n\u001b[0;32m   1327\u001b[0m     \u001b[38;5;28mself\u001b[39m\u001b[38;5;241m.\u001b[39mlog\u001b[38;5;241m.\u001b[39mwarning(\u001b[38;5;124m\"\u001b[39m\u001b[38;5;124mInvalid Message:\u001b[39m\u001b[38;5;124m\"\u001b[39m, exc_info\u001b[38;5;241m=\u001b[39m\u001b[38;5;28;01mTrue\u001b[39;00m)\n",
      "\u001b[1;31mKeyboardInterrupt\u001b[0m: Interrupted by user"
     ]
    }
   ],
=======
   "execution_count": null,
   "id": "f05dc444-4542-441b-b201-59820ede7644",
   "metadata": {},
   "outputs": [],
>>>>>>> Chatbot
   "source": [
    "def user_input():\n",
    "    print(\"Enter the following information:\")\n",
    "\n",
    "    # Collecting user input data\n",
    "    price = float(input(\"Price (in currency): \"))\n",
    "    sales = float(input(\"Sales: \"))\n",
    "    order_profit = float(input(\"Order Profit: \"))\n",
    "    quantity = float(input(\"Quantity: \"))\n",
    "    product_weight = float(input(\"Product Weight (in grams): \"))\n",
    "    customer_category = input(\"Customer Category (e.g. 'consumer', 'corporate', 'others'): \").lower()\n",
    "    cust_state = input(\"Customer State (e.g. 'uk', 'us', 'ca'): \").lower()\n",
    "    product_type = input(\"Product Type (e.g. 'fragile', 'not fragile'): \").lower()\n",
    "    dispatched = input(\"Dispatched (e.g. '1' or '0'): \").lower()\n",
    "    shipping_class = input(\"Shipping Class (e.g. 'standard', 'elite'): \").lower()\n",
    "    scheduled_shipping = int(input(\"Scheduled Shipping (1-7 scale): \"))\n",
    "    warehouse_region = input(\"Warehouse Region (e.g. 'north', 'south', etc.): \").lower()\n",
    "    delivery_review = input(\"Delivery Review (1-5 scale): \").lower()\n",
    "    weekday_order = int(input(\"Weekday Order (0=Sunday, 1=Monday,...,6=Saturday): \"))\n",
    "    delivery_status = input(\"Delivery Status (0 or 1): \").lower()\n",
    "\n",
    "    # Creating the dictionary of user inputs\n",
    "    user_data = {\n",
    "        'Price': price,\n",
    "        'Sales': sales,\n",
    "        'Order_Profit': order_profit,\n",
    "        'Quantity': quantity,\n",
    "        'ProductWeight': product_weight,\n",
    "        'Customer_Category': customer_category,\n",
    "        'Cust_State': cust_state,\n",
    "        'Product_type': product_type,\n",
    "        'Dispatched': dispatched,\n",
    "        'Shipping_Class': shipping_class,\n",
    "        'Scheduled_Shipping': scheduled_shipping,\n",
    "        'Warehouse_Region': warehouse_region,\n",
    "        'Delivery_Review': delivery_review,\n",
    "        'WeekdayOrder': weekday_order,\n",
    "        'Delivery_Status': delivery_status\n",
    "    }\n",
    "\n",
    "    # Convert to DataFrame\n",
    "    user_df = pd.DataFrame([user_data])\n",
    "\n",
    "    # One-hot encoding of categorical features\n",
    "    user_df = pd.get_dummies(user_df, columns=['Customer_Category', 'Product_type', 'Shipping_Class', 'Warehouse_Region', 'Cust_State', 'Delivery_Review', 'Delivery_Status'], drop_first=True)\n",
    "\n",
    "    # Make sure user input has the same columns as the training data\n",
    "    user_df = user_df.reindex(columns=X_train.columns, fill_value=0)\n",
    "\n",
    "    # Load the trained model\n",
    "    model = joblib.load('gradient_boosting_model.pkl')\n",
    "\n",
    "    # Get the prediction (numeric value)\n",
    "    prediction = model.predict(user_df)\n",
    "\n",
    "    # Decode the predicted department (numeric to string)\n",
    "    predicted_dept = label_encoder.inverse_transform(prediction)\n",
    "\n",
    "    # Print the department name\n",
    "    print(f\"Predicted Department: {predicted_dept[0]}\")\n",
    "\n",
    "# Call the user input function\n",
    "user_input()\n"
   ]
  },
  {
   "cell_type": "markdown",
   "id": "77dd596b-0a51-4da6-8cf0-f6c6cc07fe35",
   "metadata": {},
   "source": [
    "## User input (test)"
   ]
  },
  {
   "cell_type": "markdown",
   "id": "09238125-1fa2-48b6-9474-74e665120731",
   "metadata": {},
   "source": [
    "## Model Evaluation and Testing\n",
    "\n",
    "1. Trained final model with best parameters from grid search\n",
    "2. Evaluated on validation set using classification metrics\n",
    "3. Processed test data to match training features\n",
    "4. Generated predictions and saved results to CSV\n",
    "5. Converted encoded predictions back to original department names"
   ]
  },
  {
   "cell_type": "markdown",
   "id": "51acdf93-ece8-4f54-8663-a065b4a2714a",
   "metadata": {},
   "source": [
    "# Conclusion\n",
    "\n",
    "### Key Outcomes:\n",
    "- Achieved high cross-validation scores (~99.8%)\n",
    "- Validation and test set predictions showed 100% accuracy\n",
    "- Implemented regularization to mitigate overfitting, but the model is too simple.\n",
    "\n",
    "### Next Steps:\n",
    "1. Real-world deployment testing\n",
    "2. have a front end to test the model & return the predicted dept_name\n",
    "3. handle user not having all columns\n",
    "4. export model\n",
    "5. deploy remotely\n"
   ]
  },
  {
   "cell_type": "code",
   "execution_count": null,
   "id": "11c73863-f748-45ab-8ffc-2c3602c637b5",
   "metadata": {},
   "outputs": [],
   "source": []
  },
  {
   "cell_type": "code",
   "execution_count": null,
   "id": "fbcd98e0-5f50-45a5-975a-e315e8301b49",
   "metadata": {},
   "outputs": [],
   "source": []
  },
  {
   "cell_type": "code",
   "execution_count": null,
   "id": "d45bc62e-c086-4ea9-b5c0-16f06eed2226",
   "metadata": {},
   "outputs": [],
   "source": []
  },
  {
   "cell_type": "code",
   "execution_count": null,
   "id": "a6f8708a-d21b-4396-849d-853be1e15f50",
   "metadata": {},
   "outputs": [],
   "source": []
  }
 ],
 "metadata": {
  "kernelspec": {

   "display_name": "aap_env",

   "language": "python",
   "name": "python3"
  },
  "language_info": {
   "codemirror_mode": {
    "name": "ipython",
    "version": 3
   },
   "file_extension": ".py",
   "mimetype": "text/x-python",
   "name": "python",
   "nbconvert_exporter": "python",
   "pygments_lexer": "ipython3",
   "version": "3.10.16"
  }
 },
 "nbformat": 4,
 "nbformat_minor": 5
}
