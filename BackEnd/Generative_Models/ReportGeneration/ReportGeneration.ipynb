{
 "cells": [
  {
   "cell_type": "markdown",
   "metadata": {
    "id": "yeadDkMiISin",
    "vscode": {
     "languageId": "plaintext"
    }
   },
   "source": [
    "# AI Applications Project: Report Generation"
   ]
  },
  {
   "cell_type": "code",
   "execution_count": null,
   "metadata": {
    "id": "0c13de5f68f6"
   },
   "outputs": [],
   "source": [
    "#Importing the generative ai\n",
    "%pip install -U -q \"google-genai>=1.4.0\""
   ]
  },
  {
   "cell_type": "markdown",
   "metadata": {
    "id": "w4YDYyfRYN7L"
   },
   "source": [
    "### Setting up API Key"
   ]
  },
  {
   "cell_type": "code",
   "execution_count": null,
   "metadata": {
    "id": "p8K1RpmMfh20"
   },
   "outputs": [],
   "source": [
    "from google import genai\n",
    "\n",
    "GOOGLE_API_KEY = input(\"Enter your Google API key:\")\n",
    "client = genai.Client(api_key=GOOGLE_API_KEY)"
   ]
  },
  {
   "cell_type": "code",
   "execution_count": null,
   "metadata": {
    "id": "Ll79uwEK4uPJ"
   },
   "outputs": [],
   "source": [
    "MODEL_ID = \"gemini-2.5-flash\" # @param [\"gemini-2.5-flash-lite\",\"gemini-2.5-flash\",\"gemini-2.5-pro\",\"gemini-2.0-flash\"] {\"allow-input\":true, isTemplate: true}"
   ]
  },
  {
   "cell_type": "markdown",
   "metadata": {},
   "source": [
    "# Data"
   ]
  },
  {
   "cell_type": "markdown",
   "metadata": {},
   "source": [
    "## Database Integration"
   ]
  },
  {
   "cell_type": "code",
   "execution_count": null,
   "metadata": {},
   "outputs": [],
   "source": [
    "import numpy as np\n",
    "import pandas as pd\n",
    "import os\n",
    "import sys\n",
    "\n",
    "sys.path.append('../../')\n",
    "\n",
    "from Database.db import SessionLocal\n",
    "from Database_Table import Inventory, Order\n",
    "\n",
    "def getDbContent():\n",
    "    session = SessionLocal()\n",
    "    inventory_records = session.query(Inventory).all()\n",
    "    order_records = session.query(Order).all()\n",
    "    session.close()\n",
    "    return inventory_records, order_records\n",
    "\n",
    "inventory, order = getDbContent()"
   ]
  },
  {
   "cell_type": "code",
   "execution_count": null,
   "metadata": {},
   "outputs": [],
   "source": [
    "def dbtoList(records):\n",
    "    output_list = []\n",
    "    for r in records:\n",
    "        if isinstance(r, Inventory):\n",
    "            data = {\n",
    "                \"ItemId\": r.ItemId, \n",
    "                \"ItemName\": r.ItemName,\n",
    "                \"Category\": r.ItemCategory,\n",
    "                \"Quantity\": r.ItemQuantity, \n",
    "                \"UnitsSold\": r.UnitsSold,\n",
    "                \"Weight\": r.Weight, \n",
    "                \"Size\": r.Size,\n",
    "                \"Priority\": r.Priority, \n",
    "                \"Location\": r.Location,\n",
    "                \"Date\": r.Date, \n",
    "                \"Dispose\": r.Dispose                \n",
    "            }\n",
    "        elif isinstance(r, Order):\n",
    "            data = {\n",
    "                \"OrderId\": r.OrderId,\n",
    "                \"ItemId\": r.ItemId, \n",
    "                \"OrderQuantity\": r.OrderQuantity, \n",
    "                \"Sales\": r.Sales, \n",
    "                \"Price\": r.Price, \n",
    "                \"Discount\": r.Discount,\n",
    "                \"Profit\": r.Profit, \n",
    "                \"DateOrdered\": r.DateOrdered,\n",
    "                \"DateReceived\": r.DateReceived,\n",
    "                \"CustomerSegment\": r.CustomerSegment\n",
    "            }\n",
    "        else:\n",
    "            continue\n",
    "        output_list.append(data)\n",
    "    \n",
    "    return output_list\n",
    "\n",
    "inventoryData = dbtoList(inventory)\n",
    "orderData = dbtoList(order)"
   ]
  },
  {
   "cell_type": "markdown",
   "metadata": {},
   "source": [
    "## Supervised Models"
   ]
  },
  {
   "cell_type": "code",
   "execution_count": null,
   "metadata": {},
   "outputs": [],
   "source": [
    "import pickle\n",
    "import joblib\n",
    "from datetime import datetime\n",
    "from IPython.display import Markdown\n",
    "\n",
    "class Supervised_Models:\n",
    "    # Location Prediction Model\n",
    "    def predict_location(input_data):\n",
    "        with open('../../Supervised_models/Samuel/storage_prediction_model.pkl', 'rb') as file:\n",
    "            storage_prediction_model = pickle.load(file)\n",
    "            \n",
    "        categorical_features = {\n",
    "            'Priority': ['High','Low','Medium'],\n",
    "            'Product_Type': ['Clothing','Technology','Other','Sports and Fitness'],\n",
    "            'Size': ['Large','Medium','Small']\n",
    "        }\n",
    "        numerical_features = ['Order_Quantity', 'Weight']\n",
    "        one_hot_columns = []\n",
    "        \n",
    "        for feature, values in categorical_features.items():\n",
    "            for value in values:\n",
    "                one_hot_columns.append(f\"{feature}_{value}\")\n",
    "            \n",
    "        # Combine with numerical features to get all feature names\n",
    "        all_feature_names = one_hot_columns + numerical_features\n",
    "\n",
    "        features_dict = {col: 0 for col in all_feature_names}\n",
    "    \n",
    "        # Set one-hot encoded features\n",
    "        for feature, values in categorical_features.items():\n",
    "            if feature in input_data:\n",
    "                selected_value = input_data[feature]\n",
    "                one_hot_col = f\"{feature}_{selected_value}\"\n",
    "                if one_hot_col in features_dict:\n",
    "                    features_dict[one_hot_col] = 1\n",
    "    \n",
    "        # Set numerical features\n",
    "        for feature in numerical_features:\n",
    "            if feature in input_data:\n",
    "                features_dict[feature] = float(input_data[feature])\n",
    "        \n",
    "        # Convert to array in the correct order\n",
    "        features_array = np.array([features_dict[col] for col in all_feature_names]).reshape(1, -1)\n",
    "\n",
    "        prediction = storage_prediction_model.predict(features_array)\n",
    "        return prediction\n",
    "\n",
    "    def demand_forecast_preprocessor(order_data, inventory_data):\n",
    "        # Create Dataframe\n",
    "        order = pd.DataFrame(order_data)\n",
    "        inventory = pd.DataFrame(inventory_data)\n",
    "\n",
    "        # Ensure dates are in datetime format\n",
    "        order['DateOrdered'] = pd.to_datetime(order['DateOrdered'])\n",
    "        \n",
    "        # Extract Month (period or string, depending on preference)\n",
    "        order['OrderMonth'] = order['DateOrdered'].dt.to_period('M')\n",
    "        \n",
    "        # Merge with Category lookup table\n",
    "        merged_df = order.merge(inventory, on='ItemId', how='left')\n",
    "        \n",
    "        # Group and aggregate\n",
    "        result_df = (\n",
    "            merged_df\n",
    "            .groupby(['OrderMonth', 'Category', 'CustomerSegment'], as_index=False)\n",
    "            .agg(\n",
    "                AveragePrice=('Price', 'mean'),\n",
    "                AverageDiscount=('Discount', 'mean')\n",
    "            )\n",
    "        )\n",
    "        \n",
    "        return result_df\n",
    "\n",
    "    # Demand forecast model\n",
    "    def predict_demand_forecast(input_data):\n",
    "        demand_forecast_model = joblib.load('../../Supervised_models/ShernFai/model/salesforecast(categories).pkl')\n",
    "        with open('../../Supervised_models/ShernFai/model/salesforecast_preprocessor.pkl', 'rb') as f:\n",
    "            preprocessor_data = pickle.load(f)\n",
    "\n",
    "        categories = {\n",
    "            \"Clothing\" : [\n",
    "                \"Cleats\",\n",
    "                \"Men's Footwear\",\n",
    "                \"Women's Apparel\"\n",
    "            ],\n",
    "            \"Technology\": [\n",
    "                \"Electronics\",\n",
    "                \"Video Games\",\n",
    "                \"Cameras\",\n",
    "                \"Computers\",\n",
    "            ],\n",
    "            \"Sports and Fitness\": [\n",
    "                \"Cardio Equipment\",\n",
    "                \"Indoor/Outdoor Games\",\n",
    "                \"Water Sports\",\n",
    "                \"Shop By Sport\",\n",
    "                \"Camping & Hiking\",\n",
    "                \"Fishing\"\n",
    "            ],\n",
    "            \"Other\": [\n",
    "                \"Garden\",\n",
    "                \"Pet Supplies\"\n",
    "            ]\n",
    "        }\n",
    "\n",
    "        cat_keys = list(categories.keys())\n",
    "\n",
    "        # Extract preprocessor components\n",
    "        le_category = preprocessor_data['label_encoder_category']\n",
    "        reference_date = preprocessor_data['reference_date']\n",
    "        unique_categories = preprocessor_data['unique_categories']\n",
    "        feature_columns = preprocessor_data['feature_columns']\n",
    "\n",
    "        # Get data\n",
    "        category_name = input_data['category']\n",
    "        future_month = input_data['month']\n",
    "        avg_price = float(input_data['avg_price'])\n",
    "        customer_segment = input_data['customer_segment']\n",
    "        discount_rate = float(input_data['discount_rate'])\n",
    "        \n",
    "        # Parse the future date\n",
    "        future_date = pd.to_datetime(future_month)\n",
    "        \n",
    "        # Calculate time features for the future date\n",
    "        months_since_start = ((future_date - reference_date).days / 30.44)\n",
    "        \n",
    "        # Create test data with numerical time features\n",
    "        test_data = {\n",
    "            'Category Name': category_name,\n",
    "            'Average Product Price': avg_price,\n",
    "            'Customer Segment': customer_segment,\n",
    "            'Order Item Discount Rate': discount_rate,\n",
    "            # Time features (numerical - can handle ANY future date!)\n",
    "            'Year': future_date.year,\n",
    "            'Month': future_date.month,\n",
    "            'Quarter': future_date.quarter,\n",
    "            'Months_Since_Start': int(months_since_start),\n",
    "            'Month_Sin': np.sin(2 * np.pi * future_date.month / 12),\n",
    "            'Month_Cos': np.cos(2 * np.pi * future_date.month / 12),\n",
    "            'Year_Trend': future_date.year - reference_date.year\n",
    "        }\n",
    "        \n",
    "        # Create DataFrame\n",
    "        test_df = pd.DataFrame([test_data])\n",
    "        \n",
    "        # Handle unknown category\n",
    "        if category_name not in cat_keys:\n",
    "            print(f\"Unknown category '{category_name}' - using default: {cat_keys[0]}\")\n",
    "            test_df['Category Name'] = cat_keys[0]\n",
    "            category_name = cat_keys[0]\n",
    "        \n",
    "        # One-hot encode customer segment\n",
    "        test_df = pd.get_dummies(test_df, columns=['Customer Segment'], drop_first=True)\n",
    "        \n",
    "        # Ensure same columns as training (crucial!)\n",
    "        test_df = test_df.reindex(columns=feature_columns, fill_value=0)\n",
    "        \n",
    "        # Make prediction\n",
    "        total = 0\n",
    "        num = len(categories[category_name])\n",
    "        for subclass in categories[category_name]:\n",
    "            test_df['Category Name'] = subclass\n",
    "            test_df['Category Name'] = le_category.transform(test_df['Category Name'])\n",
    "            total += demand_forecast_model.predict(test_df)\n",
    "        \n",
    "        avg_demand = total / num\n",
    "        \n",
    "        return avg_demand\n",
    "\n",
    "    def detect_anomalies(inventory_list):\n",
    "        anomalies_detected = []\n",
    "        for item in inventory_list:\n",
    "            current_location = item['Location']\n",
    "            predicted_location = Supervised_Models.predict_location({\n",
    "                \"Priority\": item['Priority'],\n",
    "                \"Product_Type\": item['Category'],\n",
    "                \"Size\": item['Size'],\n",
    "                \"Order_Quantity\": item['Quantity'],\n",
    "                \"Weight\": item['Weight']\n",
    "            })[0]\n",
    "\n",
    "            #print(f\"\\nCurrent Location: {current_location}\")\n",
    "            #print(f\"Predicted Location: {predicted_location}\")\n",
    "            if current_location != predicted_location:\n",
    "                #print(f\"Anomaly detected! Item id:{item['ItemId']} is stored at location {current_location} while it should be stored at {predicted_location}.\")\n",
    "                anomalies_detected.append({'ItemId': item['ItemId'], 'ItemName': item['ItemName'], 'CurrentLocation': current_location, 'PredictedLocation': predicted_location})\n",
    "\n",
    "        return anomalies_detected\n",
    "\n",
    "s = Supervised_Models"
   ]
  },
  {
   "cell_type": "markdown",
   "metadata": {
    "jp-MarkdownHeadingCollapsed": true
   },
   "source": [
    "# Testing"
   ]
  },
  {
   "cell_type": "markdown",
   "metadata": {
    "jp-MarkdownHeadingCollapsed": true
   },
   "source": [
    "print(s.predict_location({\n",
    "    \"Priority\": \"Medium\",\n",
    "    \"Product_Type\": \"Sports and Fitness\",\n",
    "    \"Size\": \"Medium\",\n",
    "    \"Order_Quantity\": 12,\n",
    "    \"Weight\": 10.78\n",
    "}))"
   ]
  },
  {
   "cell_type": "markdown",
   "metadata": {},
   "source": [
    "print(s.detect_anomalies(inventoryData))"
   ]
  },
  {
   "cell_type": "markdown",
   "metadata": {},
   "source": [
    "result = s.demand_forecast_preprocessor(orderData, inventoryData)\n",
    "result"
   ]
  },
  {
   "cell_type": "markdown",
   "metadata": {},
   "source": [
    "print(s.predict_demand_forecast({\n",
    "    'category': \"Clothing\",\n",
    "    'month': \"2025-05\",\n",
    "    'avg_price': 10.0,\n",
    "    'customer_segment': \"Consumer\",\n",
    "    'discount_rate': 0.12\n",
    "}))"
   ]
  },
  {
   "cell_type": "markdown",
   "metadata": {},
   "source": [
    "# Sections"
   ]
  },
  {
   "cell_type": "markdown",
   "metadata": {
    "jp-MarkdownHeadingCollapsed": true
   },
   "source": [
    "## Products Overview"
   ]
  },
  {
   "cell_type": "code",
   "execution_count": null,
   "metadata": {},
   "outputs": [],
   "source": [
    "# Product Overview: This section summarizes the overall performance of products\n",
    "product_overview = client.models.generate_content(\n",
    "    model=MODEL_ID,\n",
    "    contents='''\n",
    "Generate an overview of products based on the following:\n",
    "\n",
    "1. **Top Products**: Identify the top-selling products by sales volume and revenue over the past month.\n",
    "2. **Product Performance**: Analyze the performance of each product category in terms of sales, demand, and revenue.\n",
    "3. **Sales by Product**: Present a summary of sales for each product, including revenue, volume sold, and average price.\n",
    "\n",
    "Data:\n",
    "- Sales Data: {sales_data}\n",
    "- Product Categories: {product_categories_data}\n",
    "- Product Sales Volume: {sales_volume_data}\n",
    "- Product Revenue: {product_revenue_data}\n",
    "'''\n",
    ")\n",
    "\n",
    "display(Markdown(product_overview.text))\n"
   ]
  },
  {
   "cell_type": "markdown",
   "metadata": {
    "jp-MarkdownHeadingCollapsed": true
   },
   "source": [
    "## Category Distribution"
   ]
  },
  {
   "cell_type": "code",
   "execution_count": null,
   "metadata": {},
   "outputs": [],
   "source": [
    "# Category Distribution: This section analyzes the distribution of sales across categories\n",
    "category_distribution = client.models.generate_content(\n",
    "    model=MODEL_ID,\n",
    "    contents='''\n",
    "Generate insights on the distribution of sales across categories based on the following:\n",
    "\n",
    "1. **Category-wise Sales Volume**: Summarize the total sales volume across all product categories.\n",
    "2. **Category-wise Revenue**: Display the total revenue generated from each product category over the past month.\n",
    "3. **Category-wise Performance**: Provide insights on which product categories are performing the best in terms of sales, revenue, and customer demand.\n",
    "\n",
    "Data:\n",
    "- Sales Volume by Category: {sales_volume_by_category_data}\n",
    "- Revenue by Category: {revenue_by_category_data}\n",
    "- Product Category Performance: {category_performance_data}\n",
    "'''\n",
    ")\n",
    "\n",
    "display(Markdown(category_distribution.text))\n"
   ]
  },
  {
   "cell_type": "markdown",
   "metadata": {
    "jp-MarkdownHeadingCollapsed": true
   },
   "source": [
    "## Product Usage Forecast"
   ]
  },
  {
   "cell_type": "code",
   "execution_count": null,
   "metadata": {},
   "outputs": [],
   "source": [
    "# Product Usage Forecast: This section forecasts the future usage of products based on historical sales\n",
    "product_usage_forecast = client.models.generate_content(\n",
    "    model=MODEL_ID,\n",
    "    contents='''\n",
    "Generate a product usage forecast for the upcoming period based on historical data and trends:\n",
    "\n",
    "1. **Sales Forecast by Product**: Predict the sales volume for each product in the next quarter/year.\n",
    "2. **Demand Forecast**: Provide a demand forecast for products based on historical sales, usage probabilities, and seasonal patterns.\n",
    "3. **Future Stock Levels**: Estimate the required stock levels for each product to meet forecasted demand.\n",
    "\n",
    "Data:\n",
    "- Historical Sales Data: {historical_sales_data}\n",
    "- Product Usage Data: {usage_probabilities}\n",
    "- Seasonal Patterns: {seasonal_sales_patterns_data}\n",
    "- Current Stock Levels: {current_inventory_data}\n",
    "'''\n",
    ")\n",
    "\n",
    "display(Markdown(product_usage_forecast.text))\n"
   ]
  },
  {
   "cell_type": "markdown",
   "metadata": {},
   "source": [
    "## Sales Insights"
   ]
  },
  {
   "cell_type": "code",
   "execution_count": null,
   "metadata": {},
   "outputs": [],
   "source": [
    "from datetime import datetime\n",
    "from dateutil.relativedelta import relativedelta\n",
    "\n",
    "# Sales Data\n",
    "sales_data = orderData\n",
    "\n",
    "# Sales Predictions\n",
    "current_date = datetime.now()\n",
    "next_month_date = current_date + relativedelta(months=1)\n",
    "next_month_yearmonth = next_month_date.strftime(\"%Y-%m\")\n",
    "\n",
    "sales_pred_input = s.demand_forecast_preprocessor(orderData, inventoryData)\n",
    "sales_predictions = []\n",
    "\n",
    "for index, row in sales_pred_input.iterrows():\n",
    "    sales_predictions.append({\n",
    "        'Category Name': row.Category,\n",
    "        'Customer Segment': row.CustomerSegment,\n",
    "        'Predicted Demand for next month': s.predict_demand_forecast({\n",
    "            'category': row.Category,\n",
    "            'month': next_month_yearmonth,\n",
    "            'avg_price': row.AveragePrice,\n",
    "            'customer_segment': row.CustomerSegment,\n",
    "            'discount_rate': row.AverageDiscount\n",
    "        })[0]\n",
    "    })\n",
    "\n",
    "# Product Categories\n",
    "product_categories = [\"Clothing\",\"Technology\",\"Sports and Fitness\",\"Other\"]\n",
    "\n",
    "# Current Inventory\n",
    "current_inventory = inventoryData\n",
    "\n",
    "# Usage Probabilities\n",
    "usage_probabilities = \"Currently empty. Please ignore this section for now.\""
   ]
  },
  {
   "cell_type": "code",
   "execution_count": null,
   "metadata": {},
   "outputs": [],
   "source": [
    "# Sales Insights Section\n",
    "section_sales_insights = client.models.generate_content(\n",
    "    model=MODEL_ID,\n",
    "    contents=\n",
    "f'''Generate a sales insights report that describes information for the following areas:\n",
    "\n",
    "1. Sales Trends: Summarize sales based on the provided data. Provide insights on which product categories are seeing the highest demand.\n",
    "2. Product Performance: Analyze the best-selling product categories by quantity. Highlight the top 3 performing categories.\n",
    "3. Product Demand Forecast: Based on the historical sales and usage probability, forecast the demand for the next month.\n",
    "4. Restocking or Discontinuation: Recommend which products should be restocked and which should be discontinued, based on sales trends and inventory levels.\n",
    "\n",
    "Data:\n",
    "- Historical sales data: {sales_data}\n",
    "- Sales volume predictions for next month: {sales_predictions}\n",
    "- Product categories: {product_categories}\n",
    "- Current inventory levels: {current_inventory}\n",
    "- Usage probabilities: {usage_probabilities}'''\n",
    ")"
   ]
  },
  {
   "cell_type": "markdown",
   "metadata": {},
   "source": [
    "display(Markdown(section_sales_insights.text))"
   ]
  },
  {
   "cell_type": "markdown",
   "metadata": {},
   "source": [
    "## Storage Optimizations"
   ]
  },
  {
   "cell_type": "code",
   "execution_count": null,
   "metadata": {},
   "outputs": [],
   "source": [
    "location_predictions = []\n",
    "for item in inventoryData:\n",
    "    location_predictions.append({\n",
    "        'Item Id': item['ItemId'],\n",
    "        'Current Location': item['Location'],\n",
    "        'Predicted Location': s.predict_location({\n",
    "            'Priority': item['Priority'],\n",
    "            'Product_Type': item['Category'],\n",
    "            'Size': item['Size'],\n",
    "            'Order_Quantity': item['Quantity'],\n",
    "            'Weight': item['Weight']\n",
    "        })[0]\n",
    "    })\n",
    "\n",
    "section_storage_optimizations = client.models.generate_content(\n",
    "    model=MODEL_ID,\n",
    "    contents=\n",
    "f'''Provide detailed storage optimization recommendations based on:\n",
    "\n",
    "1. Current storage utilization metrics\n",
    "2. Model-predicted optimal locations vs current locations\n",
    "3. List of items flagged for relocation, including:\n",
    "   - Current location\n",
    "   - Recommended location\n",
    "\n",
    "Data:\n",
    "{inventoryData}\n",
    "{location_predictions}\n",
    "'''\n",
    ")"
   ]
  },
  {
   "cell_type": "markdown",
   "metadata": {},
   "source": [
    "display(Markdown(section_storage_optimizations.text))"
   ]
  },
  {
   "cell_type": "markdown",
   "metadata": {},
   "source": [
    "## Anomalies Detected"
   ]
  },
  {
   "cell_type": "code",
   "execution_count": null,
   "metadata": {},
   "outputs": [],
   "source": [
    "section_anomalies_detected = client.models.generate_content(\n",
    "    model=MODEL_ID,\n",
    "    contents=\n",
    "f'''Generate an anomalies section that lists all detected storage anomalies detected in a table. Include each item's current location, predicted location, item id, and name.\n",
    "Include the reason for each anomaly.\n",
    "\n",
    "Data:\n",
    "{s.detect_anomalies(inventoryData)}\n",
    "'''\n",
    ")"
   ]
  },
  {
   "cell_type": "markdown",
   "metadata": {},
   "source": [
    "display(Markdown(section_anomalies_detected.text))"
   ]
  },
  {
   "cell_type": "markdown",
   "metadata": {},
   "source": [
    "## Summary"
   ]
  },
  {
   "cell_type": "code",
   "execution_count": null,
   "metadata": {},
   "outputs": [],
   "source": [
    "# Read Markdown content\n",
    "monthly_report = f'''<h1 style=\"text-align:center;\">Monthly Report</h1><br>\n",
    "\n",
    "# Products Overview:\n",
    "section_products_overview.text\n",
    "\n",
    "# Category Distribution:\n",
    "section_category_distribution.text\n",
    "\n",
    "# Product Usage Forecast:\n",
    "section_product_usage.text\n",
    "\n",
    "# Sales Insights:\n",
    "{section_sales_insights.text}\n",
    "\n",
    "# Storage Optimizations:\n",
    "{section_storage_optimizations.text}\n",
    "\n",
    "# Anomalies Detected:\n",
    "{section_anomalies_detected.text}'''"
   ]
  },
  {
   "cell_type": "code",
   "execution_count": null,
   "metadata": {},
   "outputs": [],
   "source": [
    "section_summary = client.models.generate_content(\n",
    "    model=MODEL_ID,\n",
    "    contents=\n",
    "f'''Provide a brief and concise summary of the provided report, covering all the key points highlighted by each section. Highlight the important information for each section in a bullet list, with the final paragraph providing general insight on overall performance.\n",
    "\n",
    "Report:\n",
    "{monthly_report}'''\n",
    ")"
   ]
  },
  {
   "cell_type": "markdown",
   "metadata": {},
   "source": [
    "display(Markdown(section_summary.text))"
   ]
  },
  {
   "cell_type": "markdown",
   "metadata": {},
   "source": [
    "# PDF File Generation"
   ]
  },
  {
   "cell_type": "code",
   "execution_count": null,
   "metadata": {},
   "outputs": [],
   "source": [
    "current_date = datetime.now()\n",
    "monthly_report = f\"\"\"# <h1 style=\"text-align:center;\">Monthly Report ({current_date.date()})</h1><br>\n",
    "\n",
    "# Products Overview:\n",
    "section_products_overview.text\n",
    "\n",
    "# Category Distribution:\n",
    "section_category_distribution.text\n",
    "\n",
    "# Product Usage Forecast:\n",
    "section_product_usage.text\n",
    "\n",
    "# Sales Insights:\n",
    "{section_sales_insights.text}\n",
    "\n",
    "# Storage Optimizations:\n",
    "{section_storage_optimizations.text}\n",
    "\n",
    "# Anomalies Detected:\n",
    "{section_anomalies_detected.text}\n",
    "\n",
    "# Summary:\n",
    "{section_summary.text}\"\"\""
   ]
  },
  {
   "cell_type": "code",
   "execution_count": null,
   "metadata": {},
   "outputs": [],
   "source": [
    "from markdown_pdf import MarkdownPdf, Section\n",
    "\n",
    "pdf = MarkdownPdf(toc_level=1)\n",
    "pdf.add_section(Section(monthly_report)) # Add Section(md_content, user_css=css_content) for custom CSS\n",
    "pdf.save(f\"MonthlyReport_({current_date.date()}).pdf\")"
   ]
  }
 ],
 "metadata": {
  "colab": {
   "name": "Prompting.ipynb",
   "toc_visible": true
  },
  "google": {
   "image_path": "/static/site-assets/images/docs/logo-python.svg",
   "keywords": [
    "examples",
    "gemini",
    "beginner",
    "googleai",
    "quickstart",
    "python",
    "text",
    "chat",
    "vision",
    "embed"
   ]
  },
  "kernelspec": {
   "display_name": "Python [conda env:it3100] *",
   "language": "python",
   "name": "conda-env-it3100-py"
  },
  "language_info": {
   "codemirror_mode": {
    "name": "ipython",
    "version": 3
   },
   "file_extension": ".py",
   "mimetype": "text/x-python",
   "name": "python",
   "nbconvert_exporter": "python",
   "pygments_lexer": "ipython3",
   "version": "3.12.11"
  }
 },
 "nbformat": 4,
 "nbformat_minor": 4
}
