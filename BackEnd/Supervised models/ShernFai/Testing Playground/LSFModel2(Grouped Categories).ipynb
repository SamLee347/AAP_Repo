{
 "cells": [
  {
   "cell_type": "markdown",
   "id": "03f7fdf2-52ca-4d40-b47c-faa97fd5a5e6",
   "metadata": {},
   "source": [
    "# INTRODUCTION\n",
    "URL of chosen Dataset: https://www.kaggle.com/datasets/shashwatwork/dataco-smart-supply-chain-for-big-data-analysis \n",
    "</br>How this data is relevant:\n",
    "- Contains information on Supply Chain on customer and item records\n",
    "- This dataset contains historical data of a wide range of items and historical data\n",
    "- Sufficient data columns and rows\n",
    "  \n",
    "### Target: \n",
    "Objective:\n",
    "Forecast monthly sales quantity using a supervised regression model: Random Forest Regression trained on at least 3 years of historical data of previous sales data. The model will support inventory planning by predicting how order quantity responds to key factors such as historical sales trends, pricing, discounts, promotions and the relationship between the respective department/type.\n",
    "\n",
    "Initial Approach: Begin with Random Forest Regression to capture nonlinear dependencies in features such as lagged sales, price, discount events, and product metadata. Explore additional models (e.g., XGBoost, Ridge Regression) based on performance benchmarks (MAPE, RMSE).\n",
    "\n",
    "### Pain point to solve: \n",
    "Forecasting sample items and their demand so to ensure effective sample storage management through prioritising important samples and identify which samples are higher in demand.</br>\n",
    "### Type of model used:\n",
    "Random Forest Regression"
   ]
  },
  {
   "cell_type": "markdown",
   "id": "0f32d034-f989-4949-8be8-f57952f4c9c4",
   "metadata": {},
   "source": [
    "# DATA COLLECTION"
   ]
  },
  {
   "cell_type": "code",
   "execution_count": 1,
   "id": "94838f9f-a3d1-4471-8a6a-43305cf52954",
   "metadata": {},
   "outputs": [],
   "source": [
    "# Standard imports\n",
    "import os\n",
    "\n",
    "# Third-party imports\n",
    "import pandas as pd\n",
    "import numpy as np\n",
    "import matplotlib.pyplot as plt\n",
    "import seaborn as sns\n",
    "from sklearn import datasets\n",
    "from sklearn.preprocessing import LabelEncoder\n",
    "from sklearn.metrics import mean_squared_error,mean_absolute_error, r2_score\n",
    "from sklearn.model_selection import train_test_split, cross_val_score\n",
    "from sklearn.ensemble import RandomForestRegressor"
   ]
  },
  {
   "cell_type": "code",
   "execution_count": 2,
   "id": "7bc5adc3-25b8-4a57-a1d4-be2a50100d81",
   "metadata": {
    "scrolled": true
   },
   "outputs": [
    {
     "data": {
      "text/html": [
       "<div>\n",
       "<style scoped>\n",
       "    .dataframe tbody tr th:only-of-type {\n",
       "        vertical-align: middle;\n",
       "    }\n",
       "\n",
       "    .dataframe tbody tr th {\n",
       "        vertical-align: top;\n",
       "    }\n",
       "\n",
       "    .dataframe thead th {\n",
       "        text-align: right;\n",
       "    }\n",
       "</style>\n",
       "<table border=\"1\" class=\"dataframe\">\n",
       "  <thead>\n",
       "    <tr style=\"text-align: right;\">\n",
       "      <th></th>\n",
       "      <th>Type</th>\n",
       "      <th>Days for shipping (real)</th>\n",
       "      <th>Days for shipment (scheduled)</th>\n",
       "      <th>Benefit per order</th>\n",
       "      <th>Sales per customer</th>\n",
       "      <th>Delivery Status</th>\n",
       "      <th>Late_delivery_risk</th>\n",
       "      <th>Category Id</th>\n",
       "      <th>Category Name</th>\n",
       "      <th>Customer City</th>\n",
       "      <th>...</th>\n",
       "      <th>Order Zipcode</th>\n",
       "      <th>Product Card Id</th>\n",
       "      <th>Product Category Id</th>\n",
       "      <th>Product Description</th>\n",
       "      <th>Product Image</th>\n",
       "      <th>Product Name</th>\n",
       "      <th>Product Price</th>\n",
       "      <th>Product Status</th>\n",
       "      <th>shipping date (DateOrders)</th>\n",
       "      <th>Shipping Mode</th>\n",
       "    </tr>\n",
       "  </thead>\n",
       "  <tbody>\n",
       "    <tr>\n",
       "      <th>0</th>\n",
       "      <td>DEBIT</td>\n",
       "      <td>3</td>\n",
       "      <td>4</td>\n",
       "      <td>91.250000</td>\n",
       "      <td>314.640015</td>\n",
       "      <td>Advance shipping</td>\n",
       "      <td>0</td>\n",
       "      <td>73</td>\n",
       "      <td>Sporting Goods</td>\n",
       "      <td>Caguas</td>\n",
       "      <td>...</td>\n",
       "      <td>NaN</td>\n",
       "      <td>1360</td>\n",
       "      <td>73</td>\n",
       "      <td>NaN</td>\n",
       "      <td>http://images.acmesports.sports/Smart+watch</td>\n",
       "      <td>Smart watch</td>\n",
       "      <td>327.75</td>\n",
       "      <td>0</td>\n",
       "      <td>2/3/2018 22:56</td>\n",
       "      <td>Standard Class</td>\n",
       "    </tr>\n",
       "    <tr>\n",
       "      <th>1</th>\n",
       "      <td>TRANSFER</td>\n",
       "      <td>5</td>\n",
       "      <td>4</td>\n",
       "      <td>-249.089996</td>\n",
       "      <td>311.359985</td>\n",
       "      <td>Late delivery</td>\n",
       "      <td>1</td>\n",
       "      <td>73</td>\n",
       "      <td>Sporting Goods</td>\n",
       "      <td>Caguas</td>\n",
       "      <td>...</td>\n",
       "      <td>NaN</td>\n",
       "      <td>1360</td>\n",
       "      <td>73</td>\n",
       "      <td>NaN</td>\n",
       "      <td>http://images.acmesports.sports/Smart+watch</td>\n",
       "      <td>Smart watch</td>\n",
       "      <td>327.75</td>\n",
       "      <td>0</td>\n",
       "      <td>1/18/2018 12:27</td>\n",
       "      <td>Standard Class</td>\n",
       "    </tr>\n",
       "    <tr>\n",
       "      <th>2</th>\n",
       "      <td>CASH</td>\n",
       "      <td>4</td>\n",
       "      <td>4</td>\n",
       "      <td>-247.779999</td>\n",
       "      <td>309.720001</td>\n",
       "      <td>Shipping on time</td>\n",
       "      <td>0</td>\n",
       "      <td>73</td>\n",
       "      <td>Sporting Goods</td>\n",
       "      <td>San Jose</td>\n",
       "      <td>...</td>\n",
       "      <td>NaN</td>\n",
       "      <td>1360</td>\n",
       "      <td>73</td>\n",
       "      <td>NaN</td>\n",
       "      <td>http://images.acmesports.sports/Smart+watch</td>\n",
       "      <td>Smart watch</td>\n",
       "      <td>327.75</td>\n",
       "      <td>0</td>\n",
       "      <td>1/17/2018 12:06</td>\n",
       "      <td>Standard Class</td>\n",
       "    </tr>\n",
       "    <tr>\n",
       "      <th>3</th>\n",
       "      <td>DEBIT</td>\n",
       "      <td>3</td>\n",
       "      <td>4</td>\n",
       "      <td>22.860001</td>\n",
       "      <td>304.809998</td>\n",
       "      <td>Advance shipping</td>\n",
       "      <td>0</td>\n",
       "      <td>73</td>\n",
       "      <td>Sporting Goods</td>\n",
       "      <td>Los Angeles</td>\n",
       "      <td>...</td>\n",
       "      <td>NaN</td>\n",
       "      <td>1360</td>\n",
       "      <td>73</td>\n",
       "      <td>NaN</td>\n",
       "      <td>http://images.acmesports.sports/Smart+watch</td>\n",
       "      <td>Smart watch</td>\n",
       "      <td>327.75</td>\n",
       "      <td>0</td>\n",
       "      <td>1/16/2018 11:45</td>\n",
       "      <td>Standard Class</td>\n",
       "    </tr>\n",
       "    <tr>\n",
       "      <th>4</th>\n",
       "      <td>PAYMENT</td>\n",
       "      <td>2</td>\n",
       "      <td>4</td>\n",
       "      <td>134.210007</td>\n",
       "      <td>298.250000</td>\n",
       "      <td>Advance shipping</td>\n",
       "      <td>0</td>\n",
       "      <td>73</td>\n",
       "      <td>Sporting Goods</td>\n",
       "      <td>Caguas</td>\n",
       "      <td>...</td>\n",
       "      <td>NaN</td>\n",
       "      <td>1360</td>\n",
       "      <td>73</td>\n",
       "      <td>NaN</td>\n",
       "      <td>http://images.acmesports.sports/Smart+watch</td>\n",
       "      <td>Smart watch</td>\n",
       "      <td>327.75</td>\n",
       "      <td>0</td>\n",
       "      <td>1/15/2018 11:24</td>\n",
       "      <td>Standard Class</td>\n",
       "    </tr>\n",
       "  </tbody>\n",
       "</table>\n",
       "<p>5 rows × 53 columns</p>\n",
       "</div>"
      ],
      "text/plain": [
       "       Type  Days for shipping (real)  Days for shipment (scheduled)  \\\n",
       "0     DEBIT                         3                              4   \n",
       "1  TRANSFER                         5                              4   \n",
       "2      CASH                         4                              4   \n",
       "3     DEBIT                         3                              4   \n",
       "4   PAYMENT                         2                              4   \n",
       "\n",
       "   Benefit per order  Sales per customer   Delivery Status  \\\n",
       "0          91.250000          314.640015  Advance shipping   \n",
       "1        -249.089996          311.359985     Late delivery   \n",
       "2        -247.779999          309.720001  Shipping on time   \n",
       "3          22.860001          304.809998  Advance shipping   \n",
       "4         134.210007          298.250000  Advance shipping   \n",
       "\n",
       "   Late_delivery_risk  Category Id   Category Name Customer City  ...  \\\n",
       "0                   0           73  Sporting Goods        Caguas  ...   \n",
       "1                   1           73  Sporting Goods        Caguas  ...   \n",
       "2                   0           73  Sporting Goods      San Jose  ...   \n",
       "3                   0           73  Sporting Goods   Los Angeles  ...   \n",
       "4                   0           73  Sporting Goods        Caguas  ...   \n",
       "\n",
       "  Order Zipcode Product Card Id Product Category Id  Product Description  \\\n",
       "0           NaN            1360                  73                  NaN   \n",
       "1           NaN            1360                  73                  NaN   \n",
       "2           NaN            1360                  73                  NaN   \n",
       "3           NaN            1360                  73                  NaN   \n",
       "4           NaN            1360                  73                  NaN   \n",
       "\n",
       "                                  Product Image  Product Name Product Price  \\\n",
       "0  http://images.acmesports.sports/Smart+watch   Smart watch         327.75   \n",
       "1  http://images.acmesports.sports/Smart+watch   Smart watch         327.75   \n",
       "2  http://images.acmesports.sports/Smart+watch   Smart watch         327.75   \n",
       "3  http://images.acmesports.sports/Smart+watch   Smart watch         327.75   \n",
       "4  http://images.acmesports.sports/Smart+watch   Smart watch         327.75   \n",
       "\n",
       "  Product Status shipping date (DateOrders)   Shipping Mode  \n",
       "0              0             2/3/2018 22:56  Standard Class  \n",
       "1              0            1/18/2018 12:27  Standard Class  \n",
       "2              0            1/17/2018 12:06  Standard Class  \n",
       "3              0            1/16/2018 11:45  Standard Class  \n",
       "4              0            1/15/2018 11:24  Standard Class  \n",
       "\n",
       "[5 rows x 53 columns]"
      ]
     },
     "execution_count": 2,
     "metadata": {},
     "output_type": "execute_result"
    }
   ],
   "source": [
    "df = pd.read_csv('supplychain.csv')\n",
    "df.head()"
   ]
  },
  {
   "cell_type": "markdown",
   "id": "59f48788-6c60-4aa6-8983-31636102d1d0",
   "metadata": {},
   "source": [
    "# DATA PREPROCESSING AND EDA"
   ]
  },
  {
   "cell_type": "markdown",
   "id": "a9607258-19aa-49b5-a9ec-2af34f6fd8f5",
   "metadata": {},
   "source": [
    "Columns selected for data prep:\n",
    "1. Order Item Quantity\n",
    "3. Order Item Discount\n",
    "4. Order Item Discount Rate\n",
    "5. Order date (DateOrders)\n",
    "6. Order Status\n",
    "7. Order Country\n",
    "8. Product Category Id\n",
    "9. Product Name\n",
    "10. Customer Segment\n",
    "11. Category Name\n",
    "12. Department Name\n"
   ]
  },
  {
   "cell_type": "markdown",
   "id": "93f58169-e91e-4af0-b089-2dffa61aab9b",
   "metadata": {},
   "source": [
    "## DATA PREPARATION"
   ]
  },
  {
   "cell_type": "code",
   "execution_count": 3,
   "id": "169916d6-3007-40fa-b94d-b6b2577f36c5",
   "metadata": {
    "scrolled": true
   },
   "outputs": [
    {
     "data": {
      "text/html": [
       "<div>\n",
       "<style scoped>\n",
       "    .dataframe tbody tr th:only-of-type {\n",
       "        vertical-align: middle;\n",
       "    }\n",
       "\n",
       "    .dataframe tbody tr th {\n",
       "        vertical-align: top;\n",
       "    }\n",
       "\n",
       "    .dataframe thead th {\n",
       "        text-align: right;\n",
       "    }\n",
       "</style>\n",
       "<table border=\"1\" class=\"dataframe\">\n",
       "  <thead>\n",
       "    <tr style=\"text-align: right;\">\n",
       "      <th></th>\n",
       "      <th>Order Item Quantity</th>\n",
       "      <th>Order Item Discount</th>\n",
       "      <th>Order Item Discount Rate</th>\n",
       "      <th>Order Date</th>\n",
       "      <th>Order Status</th>\n",
       "      <th>Order Country</th>\n",
       "      <th>Product Category Id</th>\n",
       "      <th>Product Name</th>\n",
       "      <th>Customer Segment</th>\n",
       "      <th>Category Name</th>\n",
       "      <th>Department Name</th>\n",
       "      <th>Product Price</th>\n",
       "    </tr>\n",
       "  </thead>\n",
       "  <tbody>\n",
       "    <tr>\n",
       "      <th>0</th>\n",
       "      <td>1</td>\n",
       "      <td>13.110000</td>\n",
       "      <td>0.04</td>\n",
       "      <td>1/31/2018 22:56</td>\n",
       "      <td>COMPLETE</td>\n",
       "      <td>Indonesia</td>\n",
       "      <td>73</td>\n",
       "      <td>Smart watch</td>\n",
       "      <td>Consumer</td>\n",
       "      <td>Sporting Goods</td>\n",
       "      <td>Fitness</td>\n",
       "      <td>327.750000</td>\n",
       "    </tr>\n",
       "    <tr>\n",
       "      <th>3</th>\n",
       "      <td>1</td>\n",
       "      <td>22.940001</td>\n",
       "      <td>0.07</td>\n",
       "      <td>1/13/2018 11:45</td>\n",
       "      <td>COMPLETE</td>\n",
       "      <td>Australia</td>\n",
       "      <td>73</td>\n",
       "      <td>Smart watch</td>\n",
       "      <td>Home Office</td>\n",
       "      <td>Sporting Goods</td>\n",
       "      <td>Fitness</td>\n",
       "      <td>327.750000</td>\n",
       "    </tr>\n",
       "    <tr>\n",
       "      <th>6</th>\n",
       "      <td>1</td>\n",
       "      <td>39.330002</td>\n",
       "      <td>0.12</td>\n",
       "      <td>1/13/2018 10:42</td>\n",
       "      <td>COMPLETE</td>\n",
       "      <td>China</td>\n",
       "      <td>73</td>\n",
       "      <td>Smart watch</td>\n",
       "      <td>Home Office</td>\n",
       "      <td>Sporting Goods</td>\n",
       "      <td>Fitness</td>\n",
       "      <td>327.750000</td>\n",
       "    </tr>\n",
       "    <tr>\n",
       "      <th>13</th>\n",
       "      <td>1</td>\n",
       "      <td>81.940002</td>\n",
       "      <td>0.25</td>\n",
       "      <td>1/13/2018 8:15</td>\n",
       "      <td>COMPLETE</td>\n",
       "      <td>India</td>\n",
       "      <td>73</td>\n",
       "      <td>Smart watch</td>\n",
       "      <td>Corporate</td>\n",
       "      <td>Sporting Goods</td>\n",
       "      <td>Fitness</td>\n",
       "      <td>327.750000</td>\n",
       "    </tr>\n",
       "    <tr>\n",
       "      <th>15</th>\n",
       "      <td>1</td>\n",
       "      <td>3.280000</td>\n",
       "      <td>0.01</td>\n",
       "      <td>1/13/2018 7:33</td>\n",
       "      <td>COMPLETE</td>\n",
       "      <td>India</td>\n",
       "      <td>73</td>\n",
       "      <td>Smart watch</td>\n",
       "      <td>Corporate</td>\n",
       "      <td>Sporting Goods</td>\n",
       "      <td>Fitness</td>\n",
       "      <td>327.750000</td>\n",
       "    </tr>\n",
       "    <tr>\n",
       "      <th>...</th>\n",
       "      <td>...</td>\n",
       "      <td>...</td>\n",
       "      <td>...</td>\n",
       "      <td>...</td>\n",
       "      <td>...</td>\n",
       "      <td>...</td>\n",
       "      <td>...</td>\n",
       "      <td>...</td>\n",
       "      <td>...</td>\n",
       "      <td>...</td>\n",
       "      <td>...</td>\n",
       "      <td>...</td>\n",
       "    </tr>\n",
       "    <tr>\n",
       "      <th>180500</th>\n",
       "      <td>1</td>\n",
       "      <td>16.000000</td>\n",
       "      <td>0.04</td>\n",
       "      <td>1/16/2016 15:35</td>\n",
       "      <td>COMPLETE</td>\n",
       "      <td>Australia</td>\n",
       "      <td>45</td>\n",
       "      <td>Field &amp; Stream Sportsman 16 Gun Fire Safe</td>\n",
       "      <td>Consumer</td>\n",
       "      <td>Fishing</td>\n",
       "      <td>Fan Shop</td>\n",
       "      <td>399.980011</td>\n",
       "    </tr>\n",
       "    <tr>\n",
       "      <th>180505</th>\n",
       "      <td>1</td>\n",
       "      <td>40.000000</td>\n",
       "      <td>0.10</td>\n",
       "      <td>1/16/2016 13:28</td>\n",
       "      <td>COMPLETE</td>\n",
       "      <td>China</td>\n",
       "      <td>45</td>\n",
       "      <td>Field &amp; Stream Sportsman 16 Gun Fire Safe</td>\n",
       "      <td>Corporate</td>\n",
       "      <td>Fishing</td>\n",
       "      <td>Fan Shop</td>\n",
       "      <td>399.980011</td>\n",
       "    </tr>\n",
       "    <tr>\n",
       "      <th>180508</th>\n",
       "      <td>1</td>\n",
       "      <td>60.000000</td>\n",
       "      <td>0.15</td>\n",
       "      <td>1/16/2016 7:10</td>\n",
       "      <td>COMPLETE</td>\n",
       "      <td>China</td>\n",
       "      <td>45</td>\n",
       "      <td>Field &amp; Stream Sportsman 16 Gun Fire Safe</td>\n",
       "      <td>Corporate</td>\n",
       "      <td>Fishing</td>\n",
       "      <td>Fan Shop</td>\n",
       "      <td>399.980011</td>\n",
       "    </tr>\n",
       "    <tr>\n",
       "      <th>180512</th>\n",
       "      <td>1</td>\n",
       "      <td>80.000000</td>\n",
       "      <td>0.20</td>\n",
       "      <td>1/16/2016 6:07</td>\n",
       "      <td>COMPLETE</td>\n",
       "      <td>China</td>\n",
       "      <td>45</td>\n",
       "      <td>Field &amp; Stream Sportsman 16 Gun Fire Safe</td>\n",
       "      <td>Home Office</td>\n",
       "      <td>Fishing</td>\n",
       "      <td>Fan Shop</td>\n",
       "      <td>399.980011</td>\n",
       "    </tr>\n",
       "    <tr>\n",
       "      <th>180515</th>\n",
       "      <td>1</td>\n",
       "      <td>4.000000</td>\n",
       "      <td>0.01</td>\n",
       "      <td>1/16/2016 1:34</td>\n",
       "      <td>COMPLETE</td>\n",
       "      <td>Japón</td>\n",
       "      <td>45</td>\n",
       "      <td>Field &amp; Stream Sportsman 16 Gun Fire Safe</td>\n",
       "      <td>Corporate</td>\n",
       "      <td>Fishing</td>\n",
       "      <td>Fan Shop</td>\n",
       "      <td>399.980011</td>\n",
       "    </tr>\n",
       "  </tbody>\n",
       "</table>\n",
       "<p>59491 rows × 12 columns</p>\n",
       "</div>"
      ],
      "text/plain": [
       "        Order Item Quantity  Order Item Discount  Order Item Discount Rate  \\\n",
       "0                         1            13.110000                      0.04   \n",
       "3                         1            22.940001                      0.07   \n",
       "6                         1            39.330002                      0.12   \n",
       "13                        1            81.940002                      0.25   \n",
       "15                        1             3.280000                      0.01   \n",
       "...                     ...                  ...                       ...   \n",
       "180500                    1            16.000000                      0.04   \n",
       "180505                    1            40.000000                      0.10   \n",
       "180508                    1            60.000000                      0.15   \n",
       "180512                    1            80.000000                      0.20   \n",
       "180515                    1             4.000000                      0.01   \n",
       "\n",
       "             Order Date Order Status Order Country  Product Category Id  \\\n",
       "0       1/31/2018 22:56     COMPLETE     Indonesia                   73   \n",
       "3       1/13/2018 11:45     COMPLETE     Australia                   73   \n",
       "6       1/13/2018 10:42     COMPLETE         China                   73   \n",
       "13       1/13/2018 8:15     COMPLETE         India                   73   \n",
       "15       1/13/2018 7:33     COMPLETE         India                   73   \n",
       "...                 ...          ...           ...                  ...   \n",
       "180500  1/16/2016 15:35     COMPLETE     Australia                   45   \n",
       "180505  1/16/2016 13:28     COMPLETE         China                   45   \n",
       "180508   1/16/2016 7:10     COMPLETE         China                   45   \n",
       "180512   1/16/2016 6:07     COMPLETE         China                   45   \n",
       "180515   1/16/2016 1:34     COMPLETE         Japón                   45   \n",
       "\n",
       "                                     Product Name Customer Segment  \\\n",
       "0                                    Smart watch          Consumer   \n",
       "3                                    Smart watch       Home Office   \n",
       "6                                    Smart watch       Home Office   \n",
       "13                                   Smart watch         Corporate   \n",
       "15                                   Smart watch         Corporate   \n",
       "...                                           ...              ...   \n",
       "180500  Field & Stream Sportsman 16 Gun Fire Safe         Consumer   \n",
       "180505  Field & Stream Sportsman 16 Gun Fire Safe        Corporate   \n",
       "180508  Field & Stream Sportsman 16 Gun Fire Safe        Corporate   \n",
       "180512  Field & Stream Sportsman 16 Gun Fire Safe      Home Office   \n",
       "180515  Field & Stream Sportsman 16 Gun Fire Safe        Corporate   \n",
       "\n",
       "         Category Name Department Name  Product Price  \n",
       "0       Sporting Goods         Fitness     327.750000  \n",
       "3       Sporting Goods         Fitness     327.750000  \n",
       "6       Sporting Goods         Fitness     327.750000  \n",
       "13      Sporting Goods         Fitness     327.750000  \n",
       "15      Sporting Goods         Fitness     327.750000  \n",
       "...                ...             ...            ...  \n",
       "180500         Fishing        Fan Shop     399.980011  \n",
       "180505         Fishing        Fan Shop     399.980011  \n",
       "180508         Fishing        Fan Shop     399.980011  \n",
       "180512         Fishing        Fan Shop     399.980011  \n",
       "180515         Fishing        Fan Shop     399.980011  \n",
       "\n",
       "[59491 rows x 12 columns]"
      ]
     },
     "execution_count": 3,
     "metadata": {},
     "output_type": "execute_result"
    }
   ],
   "source": [
    "# Keeping the desired data\n",
    "df = df[['Order Item Quantity', 'Order Item Discount', \n",
    "         'Order Item Discount Rate', 'order date (DateOrders)', 'Order Status','Order Country',\n",
    "         'Product Category Id', 'Product Name', \n",
    "         'Customer Segment', 'Category Name', \n",
    "         'Department Name', 'Product Price'\n",
    "        ]]\n",
    "\n",
    "#Only keeping COMPLETE order statuses\n",
    "df = df[df['Order Status'] == 'COMPLETE']\n",
    "\n",
    "#Renaming order date column\n",
    "df = df.rename(columns={'order date (DateOrders)': 'Order Date'})\n",
    "df"
   ]
  },
  {
   "cell_type": "code",
   "execution_count": 4,
   "id": "6e50ce9b-6828-42d3-81f3-6626346c71d5",
   "metadata": {},
   "outputs": [
    {
     "data": {
      "text/plain": [
       "array(['Consumer', 'Home Office', 'Corporate'], dtype=object)"
      ]
     },
     "execution_count": 4,
     "metadata": {},
     "output_type": "execute_result"
    }
   ],
   "source": [
    "df['Customer Segment'].unique()"
   ]
  },
  {
   "cell_type": "code",
   "execution_count": 5,
   "id": "46bd5e64-8901-4f6b-9aea-f8e4fffd572d",
   "metadata": {
    "scrolled": true
   },
   "outputs": [
    {
     "data": {
      "text/plain": [
       "Category Name\n",
       "Cleats                  8085\n",
       "Men's Footwear          7369\n",
       "Women's Apparel         7036\n",
       "Indoor/Outdoor Games    6348\n",
       "Fishing                 5645\n",
       "Water Sports            5000\n",
       "Camping & Hiking        4517\n",
       "Cardio Equipment        4117\n",
       "Shop By Sport           3646\n",
       "Electronics             1029\n",
       "Accessories              609\n",
       "Golf Balls               494\n",
       "Girls' Apparel           383\n",
       "Trade-In                 347\n",
       "Golf Gloves              335\n",
       "Video Games              272\n",
       "Women's Clothing         218\n",
       "Children's Clothing      206\n",
       "Baseball & Softball      203\n",
       "Hockey                   201\n",
       "Cameras                  198\n",
       "Golf Shoes               192\n",
       "Toys                     184\n",
       "Pet Supplies             173\n",
       "DVDs                     160\n",
       "Computers                154\n",
       "Golf Apparel             153\n",
       "Garden                   153\n",
       "Crafts                   151\n",
       "Consumer Electronics     150\n",
       "Hunting & Shooting       149\n",
       "Health and Beauty        136\n",
       "Boxing & MMA             135\n",
       "Music                    132\n",
       "Kids' Golf Clubs         132\n",
       "Books                    121\n",
       "Sporting Goods           116\n",
       "Lacrosse                 114\n",
       "Fitness Accessories      106\n",
       "Tennis & Racquet          98\n",
       "CDs                       98\n",
       "Men's Golf Clubs          85\n",
       "Baby                      66\n",
       "Men's Clothing            63\n",
       "Soccer                    53\n",
       "Women's Golf Clubs        51\n",
       "Strength Training         49\n",
       "Golf Bags & Carts         21\n",
       "Basketball                20\n",
       "As Seen on  TV!           18\n",
       "Name: count, dtype: int64"
      ]
     },
     "execution_count": 5,
     "metadata": {},
     "output_type": "execute_result"
    }
   ],
   "source": [
    "df['Category Name'].value_counts()"
   ]
  },
  {
   "cell_type": "markdown",
   "id": "51beb55d-bf71-4726-87f4-bbb969102af4",
   "metadata": {},
   "source": [
    "Showing any Missing Values"
   ]
  },
  {
   "cell_type": "code",
   "execution_count": 6,
   "id": "61935e48-346e-4c26-ab56-8e6af57d6a3e",
   "metadata": {},
   "outputs": [
    {
     "data": {
      "text/plain": [
       "Order Item Quantity         0\n",
       "Order Item Discount         0\n",
       "Order Item Discount Rate    0\n",
       "Order Date                  0\n",
       "Order Status                0\n",
       "Order Country               0\n",
       "Product Category Id         0\n",
       "Product Name                0\n",
       "Customer Segment            0\n",
       "Category Name               0\n",
       "Department Name             0\n",
       "Product Price               0\n",
       "dtype: int64"
      ]
     },
     "execution_count": 6,
     "metadata": {},
     "output_type": "execute_result"
    }
   ],
   "source": [
    "df.isnull().sum()"
   ]
  },
  {
   "cell_type": "code",
   "execution_count": 7,
   "id": "997cbf92-6aa5-40cd-a0b4-2c919ebf7ccf",
   "metadata": {},
   "outputs": [
    {
     "data": {
      "text/plain": [
       "Order Item Quantity           int64\n",
       "Order Item Discount         float64\n",
       "Order Item Discount Rate    float64\n",
       "Order Date                   object\n",
       "Order Status                 object\n",
       "Order Country                object\n",
       "Product Category Id           int64\n",
       "Product Name                 object\n",
       "Customer Segment             object\n",
       "Category Name                object\n",
       "Department Name              object\n",
       "Product Price               float64\n",
       "dtype: object"
      ]
     },
     "execution_count": 7,
     "metadata": {},
     "output_type": "execute_result"
    }
   ],
   "source": [
    "#Determining the type in each column\n",
    "df.dtypes"
   ]
  },
  {
   "cell_type": "markdown",
   "id": "bfeb2cd9-dee4-4290-83ec-556e163da8cf",
   "metadata": {},
   "source": [
    "### Reformatting Data"
   ]
  },
  {
   "cell_type": "code",
   "execution_count": 8,
   "id": "e35fb367-90f9-46c2-84a2-9073c96af04e",
   "metadata": {},
   "outputs": [],
   "source": [
    "# Changing and formatting order date into datetime format\n",
    "df['Order Date'] = pd.to_datetime(df['Order Date'])\n",
    "df[\"Order Year\"] = df[\"Order Date\"].dt.year\n",
    "df[\"Order Month\"] = df[\"Order Date\"].dt.month\n",
    "df[\"Order Day\"] = df[\"Order Date\"].dt.dayofweek\n",
    "df['Order YearMonth'] = df['Order Date'].dt.strftime('%Y-%m')"
   ]
  },
  {
   "cell_type": "code",
   "execution_count": 9,
   "id": "a59d09a5-0da1-4109-aff2-5d5d75730197",
   "metadata": {},
   "outputs": [
    {
     "data": {
      "text/plain": [
       "Order Item Quantity                  int64\n",
       "Order Item Discount                float64\n",
       "Order Item Discount Rate           float64\n",
       "Order Date                  datetime64[ns]\n",
       "Order Status                        object\n",
       "Order Country                       object\n",
       "Product Category Id                  int64\n",
       "Product Name                        object\n",
       "Customer Segment                    object\n",
       "Category Name                       object\n",
       "Department Name                     object\n",
       "Product Price                      float64\n",
       "Order Year                           int32\n",
       "Order Month                          int32\n",
       "Order Day                            int32\n",
       "Order YearMonth                     object\n",
       "dtype: object"
      ]
     },
     "execution_count": 9,
     "metadata": {},
     "output_type": "execute_result"
    }
   ],
   "source": [
    "df.dtypes"
   ]
  },
  {
   "cell_type": "markdown",
   "id": "459cf27c-d2d2-4d8f-b4d0-49c086fa1db3",
   "metadata": {},
   "source": [
    "### Changing Category Name for simplified database\n",
    "\n",
    "- Clothing\n",
    "- Technology\n",
    "- Sports and Fitness\n",
    "- Other"
   ]
  },
  {
   "cell_type": "code",
   "execution_count": 10,
   "id": "55b3ffd9-0208-4070-8ea5-dc43ebe5bd5c",
   "metadata": {
    "scrolled": true
   },
   "outputs": [
    {
     "data": {
      "text/plain": [
       "Category Name\n",
       "Cleats                  8085\n",
       "Men's Footwear          7369\n",
       "Women's Apparel         7036\n",
       "Indoor/Outdoor Games    6348\n",
       "Fishing                 5645\n",
       "Water Sports            5000\n",
       "Camping & Hiking        4517\n",
       "Cardio Equipment        4117\n",
       "Shop By Sport           3646\n",
       "Electronics             1029\n",
       "Accessories              609\n",
       "Golf Balls               494\n",
       "Girls' Apparel           383\n",
       "Trade-In                 347\n",
       "Golf Gloves              335\n",
       "Video Games              272\n",
       "Women's Clothing         218\n",
       "Children's Clothing      206\n",
       "Baseball & Softball      203\n",
       "Hockey                   201\n",
       "Cameras                  198\n",
       "Golf Shoes               192\n",
       "Toys                     184\n",
       "Pet Supplies             173\n",
       "DVDs                     160\n",
       "Computers                154\n",
       "Golf Apparel             153\n",
       "Garden                   153\n",
       "Crafts                   151\n",
       "Consumer Electronics     150\n",
       "Hunting & Shooting       149\n",
       "Health and Beauty        136\n",
       "Boxing & MMA             135\n",
       "Music                    132\n",
       "Kids' Golf Clubs         132\n",
       "Books                    121\n",
       "Sporting Goods           116\n",
       "Lacrosse                 114\n",
       "Fitness Accessories      106\n",
       "Tennis & Racquet          98\n",
       "CDs                       98\n",
       "Men's Golf Clubs          85\n",
       "Baby                      66\n",
       "Men's Clothing            63\n",
       "Soccer                    53\n",
       "Women's Golf Clubs        51\n",
       "Strength Training         49\n",
       "Golf Bags & Carts         21\n",
       "Basketball                20\n",
       "As Seen on  TV!           18\n",
       "Name: count, dtype: int64"
      ]
     },
     "execution_count": 10,
     "metadata": {},
     "output_type": "execute_result"
    }
   ],
   "source": [
    "df['Category Name'].value_counts()"
   ]
  },
  {
   "cell_type": "code",
   "execution_count": 11,
   "id": "d9a9f2d4-3a07-432d-9c94-7124d002e222",
   "metadata": {},
   "outputs": [
    {
     "data": {
      "text/plain": [
       "<bound method Series.unique of 0         Sporting Goods\n",
       "3         Sporting Goods\n",
       "6         Sporting Goods\n",
       "13        Sporting Goods\n",
       "15        Sporting Goods\n",
       "               ...      \n",
       "180500           Fishing\n",
       "180505           Fishing\n",
       "180508           Fishing\n",
       "180512           Fishing\n",
       "180515           Fishing\n",
       "Name: Category Name, Length: 59491, dtype: object>"
      ]
     },
     "execution_count": 11,
     "metadata": {},
     "output_type": "execute_result"
    }
   ],
   "source": [
    "df[\"Category Name\"].unique"
   ]
  },
  {
   "cell_type": "code",
   "execution_count": 12,
   "id": "60975757-cd57-4cf6-bbf8-871e8cfdbb3d",
   "metadata": {},
   "outputs": [],
   "source": [
    "df['Category Name'] = df['Category Name'].str.strip()"
   ]
  },
  {
   "cell_type": "code",
   "execution_count": 14,
   "id": "e84b28cc-5cd7-4cd7-8081-aceda43165a5",
   "metadata": {},
   "outputs": [
    {
     "name": "stdout",
     "output_type": "stream",
     "text": [
      "39\n"
     ]
    }
   ],
   "source": [
    "category_map = {\n",
    "    \"Apparel & Footwear\": [\n",
    "        \"Cleats\", \"Men's Footwear\", \"Women's Apparel\"\n",
    "    ],\n",
    "    \"Sports and Fitness\": [\n",
    "        \"Cardio Equipment\", \"Indoor/Outdoor Games\", \"Fishing\", \"Water Sports\", \"Camping & Hiking\",\n",
    "        \"Shop By Sport\"\n",
    "    ],\n",
    "    \"Technology\": [\n",
    "        \"Electronics\", \"Computers\", \"Cameras\", \"Video Games\",\n",
    "    ],\n",
    "    \"Other\": [\n",
    "        \"Garden\", \"Pet Supplies\"\n",
    "    ]\n",
    "}\n",
    "\n",
    "\n",
    "# Reverse mapping: specific -> general\n",
    "flat_map = {specific: general \n",
    "            for general, specifics in category_map.items()\n",
    "            for specific in specifics}\n",
    "\n",
    "df[\"Category Name\"] = df[\"Category Name\"].replace(flat_map)\n",
    "print(df[\"Category Name\"].nunique())"
   ]
  },
  {
   "cell_type": "code",
   "execution_count": 22,
   "id": "3a5e28fa-1c38-4d94-bbe3-c0cdd512436d",
   "metadata": {},
   "outputs": [
    {
     "data": {
      "text/plain": [
       "array(['Sports & Outdoor Gear', 'Electronics & Gadgets',\n",
       "       'Cardio Equipment', 'Apparel & Footwear', 'Home, Garden & Crafts',\n",
       "       'Miscellaneous', 'Media & Entertainment', 'Toys & Baby Products',\n",
       "       'Golf Equipment & Accessories', 'Pet Supplies'], dtype=object)"
      ]
     },
     "execution_count": 22,
     "metadata": {},
     "output_type": "execute_result"
    }
   ],
   "source": [
    "df[\"Category Name\"].unique()"
   ]
  },
  {
   "cell_type": "code",
   "execution_count": 23,
   "id": "22d85d0a-d1cc-4a67-88ea-1d41c1ce49c1",
   "metadata": {},
   "outputs": [
    {
     "data": {
      "text/plain": [
       "Category Name\n",
       "Sports & Outdoor Gear           26400\n",
       "Apparel & Footwear              23513\n",
       "Cardio Equipment                 4117\n",
       "Electronics & Gadgets            2061\n",
       "Golf Equipment & Accessories     1310\n",
       "Miscellaneous                    1092\n",
       "Home, Garden & Crafts             304\n",
       "Media & Entertainment             271\n",
       "Toys & Baby Products              250\n",
       "Pet Supplies                      173\n",
       "Name: count, dtype: int64"
      ]
     },
     "execution_count": 23,
     "metadata": {},
     "output_type": "execute_result"
    }
   ],
   "source": [
    "df['Category Name'].value_counts()"
   ]
  },
  {
   "cell_type": "markdown",
   "id": "e51434e7-e2cc-4485-ad75-88980f4f78e8",
   "metadata": {
    "jp-MarkdownHeadingCollapsed": true
   },
   "source": [
    "# EDA\n",
    "At least with Pandas and Seaborn\n",
    "<br>Heatmap\n"
   ]
  },
  {
   "cell_type": "markdown",
   "id": "de0c22d0-3563-45fb-ae1c-3ca0f2c8f288",
   "metadata": {
    "jp-MarkdownHeadingCollapsed": true
   },
   "source": [
    "## Univariate Analysis\n"
   ]
  },
  {
   "cell_type": "markdown",
   "id": "92931142-74c1-48e2-be23-925621a2c7f2",
   "metadata": {
    "jp-MarkdownHeadingCollapsed": true
   },
   "source": [
    "Most customers will often buy one product per purchase rather than multiple"
   ]
  },
  {
   "cell_type": "code",
   "execution_count": 16,
   "id": "e148e387-ad18-4fcc-a31c-50f48c3f961c",
   "metadata": {},
   "outputs": [
    {
     "data": {
      "text/plain": [
       "<Axes: xlabel='Order Item Quantity', ylabel='Count'>"
      ]
     },
     "execution_count": 16,
     "metadata": {},
     "output_type": "execute_result"
    },
    {
     "data": {
      "image/png": "[encoded data removed]",
      "text/plain": [
       "<Figure size 640x480 with 1 Axes>"
      ]
     },
     "metadata": {},
     "output_type": "display_data"
    }
   ],
   "source": [
    "df['Order Item Quantity'].describe()\n",
    "sns.histplot(df['Order Item Quantity'], bins=20)"
   ]
  },
  {
   "cell_type": "markdown",
   "id": "91c63729-2518-468d-9fe1-ae60b0ba7b9e",
   "metadata": {},
   "source": [
    "### Identifying what most customers are purchasing based on the average total amount of orders per product"
   ]
  },
  {
   "cell_type": "code",
   "execution_count": 17,
   "id": "0ff7b221-5023-49bd-ade0-a0d0284bd544",
   "metadata": {},
   "outputs": [
    {
     "name": "stderr",
     "output_type": "stream",
     "text": [
      "C:\\Users\\euito\\AppData\\Local\\Temp\\ipykernel_26168\\4112108565.py:13: FutureWarning: \n",
      "\n",
      "Passing `palette` without assigning `hue` is deprecated and will be removed in v0.14.0. Assign the `y` variable to `hue` and set `legend=False` for the same effect.\n",
      "\n",
      "  sns.barplot(\n"
     ]
    },
    {
     "data": {
      "image/png": "[encoded data removed]",
      "text/plain": [
       "<Figure size 1200x600 with 1 Axes>"
      ]
     },
     "metadata": {},
     "output_type": "display_data"
    }
   ],
   "source": [
    "import matplotlib.pyplot as plt\n",
    "import seaborn as sns\n",
    "\n",
    "# Sort by average quantity and take top 10\n",
    "top_avg_products = product_summary.sort_values(\n",
    "    by='Avg Quantity per Order', ascending=False\n",
    ").head(10)\n",
    "\n",
    "# Set plot size\n",
    "plt.figure(figsize=(12, 6))\n",
    "\n",
    "# Create the barplot\n",
    "sns.barplot(\n",
    "    data=top_avg_products,\n",
    "    x='Avg Quantity per Order',\n",
    "    y='Product Name',\n",
    "    palette='Blues_d'\n",
    ")\n",
    "\n",
    "# Add labels and title\n",
    "plt.title('Top 10 Products by Average Quantity per Order')\n",
    "plt.xlabel('Average Quantity per Order')\n",
    "plt.ylabel('Product Name')\n",
    "plt.tight_layout()\n",
    "plt.show()\n"
   ]
  },
  {
   "cell_type": "markdown",
   "id": "c86f8632-2eaa-4cc2-9ce9-ec8b5623a82c",
   "metadata": {},
   "source": [
    "### Displaying the spread of the total items to the different departments"
   ]
  },
  {
   "cell_type": "code",
   "execution_count": 18,
   "id": "50d89e8a-04b2-4bbc-bbf8-b3b402dc4cea",
   "metadata": {},
   "outputs": [
    {
     "data": {
      "image/png": "[encoded data removed]",
      "text/plain": [
       "<Figure size 640x480 with 1 Axes>"
      ]
     },
     "metadata": {},
     "output_type": "display_data"
    }
   ],
   "source": [
    "col = \"Department Name\"\n",
    "df[col].hist()\n",
    "plt.suptitle(col)\n",
    "plt.show()"
   ]
  },
  {
   "cell_type": "markdown",
   "id": "bbd1334c-af69-4cc2-bf68-fe79c778733d",
   "metadata": {},
   "source": [
    "### *Total Order Item to Department*"
   ]
  },
  {
   "cell_type": "code",
   "execution_count": 19,
   "id": "effc719f-5b76-4ad2-9000-dd3d878659e9",
   "metadata": {},
   "outputs": [
    {
     "name": "stderr",
     "output_type": "stream",
     "text": [
      "C:\\Users\\euito\\AppData\\Local\\Temp\\ipykernel_26168\\165832324.py:3: FutureWarning: \n",
      "\n",
      "Passing `palette` without assigning `hue` is deprecated and will be removed in v0.14.0. Assign the `y` variable to `hue` and set `legend=False` for the same effect.\n",
      "\n",
      "  sns.barplot(data=pcTotal.sort_values('Order Item Quantity', ascending=False),\n"
     ]
    },
    {
     "data": {
      "image/png": "[encoded data removed]",
      "text/plain": [
       "<Figure size 1200x600 with 1 Axes>"
      ]
     },
     "metadata": {},
     "output_type": "display_data"
    }
   ],
   "source": [
    "## Plots Total Order Item to Department\n",
    "plt.figure(figsize=(12, 6))\n",
    "sns.barplot(data=pcTotal.sort_values('Order Item Quantity', ascending=False),\n",
    "            x='Order Item Quantity', y='Department Name', palette='viridis')\n",
    "\n",
    "plt.title('Total Order Item Quantity per Department')\n",
    "plt.xlabel('Total Items Ordered')\n",
    "plt.ylabel('Department Name')\n",
    "plt.tight_layout()\n",
    "plt.show()\n"
   ]
  },
  {
   "cell_type": "code",
   "execution_count": 20,
   "id": "1d5b35da-b776-4579-82d7-0a4eb09eabec",
   "metadata": {},
   "outputs": [
    {
     "name": "stderr",
     "output_type": "stream",
     "text": [
      "C:\\Users\\euito\\AppData\\Local\\Temp\\ipykernel_26168\\1872136564.py:3: FutureWarning: \n",
      "\n",
      "The `ci` parameter is deprecated. Use `errorbar=None` for the same effect.\n",
      "\n",
      "  sns.barplot(data=df, x='Department Name', y='Order Item Quantity', estimator='mean', ci=None)\n"
     ]
    },
    {
     "data": {
      "image/png": "[encoded data removed]",
      "text/plain": [
       "<Figure size 1200x600 with 1 Axes>"
      ]
     },
     "metadata": {},
     "output_type": "display_data"
    }
   ],
   "source": [
    "## Average quantity of each product by Dept\n",
    "plt.figure(figsize=(12, 6))\n",
    "sns.barplot(data=df, x='Department Name', y='Order Item Quantity', estimator='mean', ci=None)\n",
    "plt.title('Average Order Quantity per Department')\n",
    "plt.xticks(rotation=45)\n",
    "plt.tight_layout()\n",
    "plt.show()"
   ]
  },
  {
   "cell_type": "markdown",
   "id": "065dba42-2a46-4b49-896d-b770d7432cb3",
   "metadata": {},
   "source": [
    "## Heatmaps"
   ]
  },
  {
   "cell_type": "markdown",
   "id": "a6311d76-45fc-48cd-bd65-19f6e5fd3361",
   "metadata": {},
   "source": [
    "### *Heat map to identify the relationships between item quantity and product price, discount, discount rate*"
   ]
  },
  {
   "cell_type": "code",
   "execution_count": 22,
   "id": "11649806-c874-40ec-8b2d-4ed2be4dbd7c",
   "metadata": {},
   "outputs": [
    {
     "ename": "KeyError",
     "evalue": "\"['Order Item Product Price'] not in index\"",
     "output_type": "error",
     "traceback": [
      "\u001b[1;31m---------------------------------------------------------------------------\u001b[0m",
      "\u001b[1;31mKeyError\u001b[0m                                  Traceback (most recent call last)",
      "Cell \u001b[1;32mIn[22], line 3\u001b[0m\n\u001b[0;32m      1\u001b[0m numerical_cols \u001b[38;5;241m=\u001b[39m [\u001b[38;5;124m'\u001b[39m\u001b[38;5;124mOrder Item Quantity\u001b[39m\u001b[38;5;124m'\u001b[39m, \u001b[38;5;124m'\u001b[39m\u001b[38;5;124mOrder Item Product Price\u001b[39m\u001b[38;5;124m'\u001b[39m, \u001b[38;5;124m'\u001b[39m\u001b[38;5;124mOrder Item Discount\u001b[39m\u001b[38;5;124m'\u001b[39m, \u001b[38;5;124m'\u001b[39m\u001b[38;5;124mOrder Item Discount Rate\u001b[39m\u001b[38;5;124m'\u001b[39m]\n\u001b[0;32m      2\u001b[0m plt\u001b[38;5;241m.\u001b[39mfigure(figsize\u001b[38;5;241m=\u001b[39m(\u001b[38;5;241m8\u001b[39m, \u001b[38;5;241m6\u001b[39m))\n\u001b[1;32m----> 3\u001b[0m sns\u001b[38;5;241m.\u001b[39mheatmap(\u001b[43mdf\u001b[49m\u001b[43m[\u001b[49m\u001b[43mnumerical_cols\u001b[49m\u001b[43m]\u001b[49m\u001b[38;5;241m.\u001b[39mcorr(), annot\u001b[38;5;241m=\u001b[39m\u001b[38;5;28;01mTrue\u001b[39;00m, cmap\u001b[38;5;241m=\u001b[39m\u001b[38;5;124m'\u001b[39m\u001b[38;5;124mcoolwarm\u001b[39m\u001b[38;5;124m'\u001b[39m)\n\u001b[0;32m      4\u001b[0m plt\u001b[38;5;241m.\u001b[39mtitle(\u001b[38;5;124m'\u001b[39m\u001b[38;5;124mCorrelation Heatmap\u001b[39m\u001b[38;5;124m'\u001b[39m)\n\u001b[0;32m      5\u001b[0m plt\u001b[38;5;241m.\u001b[39mshow()\n",
      "File \u001b[1;32m~\\anaconda3\\envs\\it3100\\lib\\site-packages\\pandas\\core\\frame.py:4108\u001b[0m, in \u001b[0;36mDataFrame.__getitem__\u001b[1;34m(self, key)\u001b[0m\n\u001b[0;32m   4106\u001b[0m     \u001b[38;5;28;01mif\u001b[39;00m is_iterator(key):\n\u001b[0;32m   4107\u001b[0m         key \u001b[38;5;241m=\u001b[39m \u001b[38;5;28mlist\u001b[39m(key)\n\u001b[1;32m-> 4108\u001b[0m     indexer \u001b[38;5;241m=\u001b[39m \u001b[38;5;28;43mself\u001b[39;49m\u001b[38;5;241;43m.\u001b[39;49m\u001b[43mcolumns\u001b[49m\u001b[38;5;241;43m.\u001b[39;49m\u001b[43m_get_indexer_strict\u001b[49m\u001b[43m(\u001b[49m\u001b[43mkey\u001b[49m\u001b[43m,\u001b[49m\u001b[43m \u001b[49m\u001b[38;5;124;43m\"\u001b[39;49m\u001b[38;5;124;43mcolumns\u001b[39;49m\u001b[38;5;124;43m\"\u001b[39;49m\u001b[43m)\u001b[49m[\u001b[38;5;241m1\u001b[39m]\n\u001b[0;32m   4110\u001b[0m \u001b[38;5;66;03m# take() does not accept boolean indexers\u001b[39;00m\n\u001b[0;32m   4111\u001b[0m \u001b[38;5;28;01mif\u001b[39;00m \u001b[38;5;28mgetattr\u001b[39m(indexer, \u001b[38;5;124m\"\u001b[39m\u001b[38;5;124mdtype\u001b[39m\u001b[38;5;124m\"\u001b[39m, \u001b[38;5;28;01mNone\u001b[39;00m) \u001b[38;5;241m==\u001b[39m \u001b[38;5;28mbool\u001b[39m:\n",
      "File \u001b[1;32m~\\anaconda3\\envs\\it3100\\lib\\site-packages\\pandas\\core\\indexes\\base.py:6200\u001b[0m, in \u001b[0;36mIndex._get_indexer_strict\u001b[1;34m(self, key, axis_name)\u001b[0m\n\u001b[0;32m   6197\u001b[0m \u001b[38;5;28;01melse\u001b[39;00m:\n\u001b[0;32m   6198\u001b[0m     keyarr, indexer, new_indexer \u001b[38;5;241m=\u001b[39m \u001b[38;5;28mself\u001b[39m\u001b[38;5;241m.\u001b[39m_reindex_non_unique(keyarr)\n\u001b[1;32m-> 6200\u001b[0m \u001b[38;5;28;43mself\u001b[39;49m\u001b[38;5;241;43m.\u001b[39;49m\u001b[43m_raise_if_missing\u001b[49m\u001b[43m(\u001b[49m\u001b[43mkeyarr\u001b[49m\u001b[43m,\u001b[49m\u001b[43m \u001b[49m\u001b[43mindexer\u001b[49m\u001b[43m,\u001b[49m\u001b[43m \u001b[49m\u001b[43maxis_name\u001b[49m\u001b[43m)\u001b[49m\n\u001b[0;32m   6202\u001b[0m keyarr \u001b[38;5;241m=\u001b[39m \u001b[38;5;28mself\u001b[39m\u001b[38;5;241m.\u001b[39mtake(indexer)\n\u001b[0;32m   6203\u001b[0m \u001b[38;5;28;01mif\u001b[39;00m \u001b[38;5;28misinstance\u001b[39m(key, Index):\n\u001b[0;32m   6204\u001b[0m     \u001b[38;5;66;03m# GH 42790 - Preserve name from an Index\u001b[39;00m\n",
      "File \u001b[1;32m~\\anaconda3\\envs\\it3100\\lib\\site-packages\\pandas\\core\\indexes\\base.py:6252\u001b[0m, in \u001b[0;36mIndex._raise_if_missing\u001b[1;34m(self, key, indexer, axis_name)\u001b[0m\n\u001b[0;32m   6249\u001b[0m     \u001b[38;5;28;01mraise\u001b[39;00m \u001b[38;5;167;01mKeyError\u001b[39;00m(\u001b[38;5;124mf\u001b[39m\u001b[38;5;124m\"\u001b[39m\u001b[38;5;124mNone of [\u001b[39m\u001b[38;5;132;01m{\u001b[39;00mkey\u001b[38;5;132;01m}\u001b[39;00m\u001b[38;5;124m] are in the [\u001b[39m\u001b[38;5;132;01m{\u001b[39;00maxis_name\u001b[38;5;132;01m}\u001b[39;00m\u001b[38;5;124m]\u001b[39m\u001b[38;5;124m\"\u001b[39m)\n\u001b[0;32m   6251\u001b[0m not_found \u001b[38;5;241m=\u001b[39m \u001b[38;5;28mlist\u001b[39m(ensure_index(key)[missing_mask\u001b[38;5;241m.\u001b[39mnonzero()[\u001b[38;5;241m0\u001b[39m]]\u001b[38;5;241m.\u001b[39munique())\n\u001b[1;32m-> 6252\u001b[0m \u001b[38;5;28;01mraise\u001b[39;00m \u001b[38;5;167;01mKeyError\u001b[39;00m(\u001b[38;5;124mf\u001b[39m\u001b[38;5;124m\"\u001b[39m\u001b[38;5;132;01m{\u001b[39;00mnot_found\u001b[38;5;132;01m}\u001b[39;00m\u001b[38;5;124m not in index\u001b[39m\u001b[38;5;124m\"\u001b[39m)\n",
      "\u001b[1;31mKeyError\u001b[0m: \"['Order Item Product Price'] not in index\""
     ]
    },
    {
     "data": {
      "text/plain": [
       "<Figure size 800x600 with 0 Axes>"
      ]
     },
     "metadata": {},
     "output_type": "display_data"
    }
   ],
   "source": [
    "numerical_cols = ['Order Item Quantity', 'Order Item Product Price', 'Order Item Discount', 'Order Item Discount Rate']\n",
    "plt.figure(figsize=(8, 6))\n",
    "sns.heatmap(df[numerical_cols].corr(), annot=True, cmap='coolwarm')\n",
    "plt.title('Correlation Heatmap')\n",
    "plt.show()\n"
   ]
  },
  {
   "cell_type": "markdown",
   "id": "b7af7408-b0b0-4052-84cf-9ff2498aeda0",
   "metadata": {},
   "source": [
    "## Time Series Graphs"
   ]
  },
  {
   "cell_type": "markdown",
   "id": "4af1a6f7-bd93-4f62-9e57-cf0af8115b9b",
   "metadata": {
    "jp-MarkdownHeadingCollapsed": true
   },
   "source": [
    "### *Plotting the total number of items bought over a series of a few months*"
   ]
  },
  {
   "cell_type": "code",
   "execution_count": 42,
   "id": "1b63f072-38e0-47da-b9c2-9b0c12d95d1e",
   "metadata": {},
   "outputs": [
    {
     "data": {
      "image/png": "[encoded data removed]",
      "text/plain": [
       "<Figure size 1400x500 with 1 Axes>"
      ]
     },
     "metadata": {},
     "output_type": "display_data"
    }
   ],
   "source": [
    "df['Order Month'] = df['Order Date'].dt.to_period('M').astype(str)\n",
    "\n",
    "monthly_orders = df.groupby('Order Month')['Order Item Quantity'].sum().reset_index()\n",
    "\n",
    "plt.figure(figsize=(14, 5))\n",
    "sns.lineplot(data=monthly_orders, x='Order Month', y='Order Item Quantity', marker='o')\n",
    "plt.title('Monthly Total Order Quantity')\n",
    "plt.xticks(rotation=45)\n",
    "plt.tight_layout()\n",
    "plt.show()\n"
   ]
  },
  {
   "cell_type": "markdown",
   "id": "d6c9c1e1-067a-4908-899c-41324897f8fe",
   "metadata": {},
   "source": [
    "### *Plotting the total number of items bought over a series of years*"
   ]
  },
  {
   "cell_type": "code",
   "execution_count": 43,
   "id": "f8f9baf8-c663-4238-bef1-a909280aa0f3",
   "metadata": {},
   "outputs": [
    {
     "data": {
      "image/png": "[encoded data removed]",
      "text/plain": [
       "<Figure size 1400x500 with 1 Axes>"
      ]
     },
     "metadata": {},
     "output_type": "display_data"
    }
   ],
   "source": [
    "df['Order Year'] = df['Order Date'].dt.to_period('Y').astype(str)\n",
    "\n",
    "monthly_orders = df.groupby('Order Year')['Order Item Quantity'].sum().reset_index()\n",
    "\n",
    "plt.figure(figsize=(14, 5))\n",
    "sns.lineplot(data=monthly_orders, x='Order Year', y='Order Item Quantity', marker='o')\n",
    "plt.title('Yearly Total Order Quantity')\n",
    "plt.xticks(rotation=45)\n",
    "plt.tight_layout()\n",
    "plt.show()"
   ]
  },
  {
   "cell_type": "markdown",
   "id": "42055b79-8e2d-4e84-8e8d-ea5eee3a6fa6",
   "metadata": {},
   "source": [
    "# MODELLING\n",
    "Type of model used: Linear Regression"
   ]
  },
  {
   "cell_type": "markdown",
   "id": "23c45a51-1efa-4e71-be3c-73245210d297",
   "metadata": {},
   "source": [
    "### Feature Engineering"
   ]
  },
  {
   "cell_type": "markdown",
   "id": "1f343a37-3668-4a5e-a032-578ce12a767c",
   "metadata": {},
   "source": [
    "#### Deciding on useful features for predictions\n",
    "\n",
    "NOTE ON THE OBJECTIVE AGAIN:\n",
    "I want to forecast the total amount of samples sold per category for each month (Total quantity per category per month)\n"
   ]
  },
  {
   "cell_type": "code",
   "execution_count": 24,
   "id": "97b2ed4c-f874-42a8-ab56-438f4b1efcd7",
   "metadata": {},
   "outputs": [
    {
     "data": {
      "text/html": [
       "<div>\n",
       "<style scoped>\n",
       "    .dataframe tbody tr th:only-of-type {\n",
       "        vertical-align: middle;\n",
       "    }\n",
       "\n",
       "    .dataframe tbody tr th {\n",
       "        vertical-align: top;\n",
       "    }\n",
       "\n",
       "    .dataframe thead th {\n",
       "        text-align: right;\n",
       "    }\n",
       "</style>\n",
       "<table border=\"1\" class=\"dataframe\">\n",
       "  <thead>\n",
       "    <tr style=\"text-align: right;\">\n",
       "      <th></th>\n",
       "      <th>Order Item Quantity</th>\n",
       "      <th>Order Item Discount</th>\n",
       "      <th>Order Item Discount Rate</th>\n",
       "      <th>Order Date</th>\n",
       "      <th>Order Status</th>\n",
       "      <th>Order Country</th>\n",
       "      <th>Product Category Id</th>\n",
       "      <th>Product Name</th>\n",
       "      <th>Customer Segment</th>\n",
       "      <th>Category Name</th>\n",
       "      <th>Department Name</th>\n",
       "      <th>Product Price</th>\n",
       "      <th>Order Year</th>\n",
       "      <th>Order Month</th>\n",
       "      <th>Order Day</th>\n",
       "      <th>Order YearMonth</th>\n",
       "    </tr>\n",
       "  </thead>\n",
       "  <tbody>\n",
       "    <tr>\n",
       "      <th>0</th>\n",
       "      <td>1</td>\n",
       "      <td>13.110000</td>\n",
       "      <td>0.04</td>\n",
       "      <td>2018-01-31 22:56:00</td>\n",
       "      <td>COMPLETE</td>\n",
       "      <td>Indonesia</td>\n",
       "      <td>73</td>\n",
       "      <td>Smart watch</td>\n",
       "      <td>Consumer</td>\n",
       "      <td>Sports &amp; Outdoor Gear</td>\n",
       "      <td>Fitness</td>\n",
       "      <td>327.75</td>\n",
       "      <td>2018</td>\n",
       "      <td>1</td>\n",
       "      <td>2</td>\n",
       "      <td>2018-01</td>\n",
       "    </tr>\n",
       "    <tr>\n",
       "      <th>3</th>\n",
       "      <td>1</td>\n",
       "      <td>22.940001</td>\n",
       "      <td>0.07</td>\n",
       "      <td>2018-01-13 11:45:00</td>\n",
       "      <td>COMPLETE</td>\n",
       "      <td>Australia</td>\n",
       "      <td>73</td>\n",
       "      <td>Smart watch</td>\n",
       "      <td>Home Office</td>\n",
       "      <td>Sports &amp; Outdoor Gear</td>\n",
       "      <td>Fitness</td>\n",
       "      <td>327.75</td>\n",
       "      <td>2018</td>\n",
       "      <td>1</td>\n",
       "      <td>5</td>\n",
       "      <td>2018-01</td>\n",
       "    </tr>\n",
       "    <tr>\n",
       "      <th>6</th>\n",
       "      <td>1</td>\n",
       "      <td>39.330002</td>\n",
       "      <td>0.12</td>\n",
       "      <td>2018-01-13 10:42:00</td>\n",
       "      <td>COMPLETE</td>\n",
       "      <td>China</td>\n",
       "      <td>73</td>\n",
       "      <td>Smart watch</td>\n",
       "      <td>Home Office</td>\n",
       "      <td>Sports &amp; Outdoor Gear</td>\n",
       "      <td>Fitness</td>\n",
       "      <td>327.75</td>\n",
       "      <td>2018</td>\n",
       "      <td>1</td>\n",
       "      <td>5</td>\n",
       "      <td>2018-01</td>\n",
       "    </tr>\n",
       "    <tr>\n",
       "      <th>13</th>\n",
       "      <td>1</td>\n",
       "      <td>81.940002</td>\n",
       "      <td>0.25</td>\n",
       "      <td>2018-01-13 08:15:00</td>\n",
       "      <td>COMPLETE</td>\n",
       "      <td>India</td>\n",
       "      <td>73</td>\n",
       "      <td>Smart watch</td>\n",
       "      <td>Corporate</td>\n",
       "      <td>Sports &amp; Outdoor Gear</td>\n",
       "      <td>Fitness</td>\n",
       "      <td>327.75</td>\n",
       "      <td>2018</td>\n",
       "      <td>1</td>\n",
       "      <td>5</td>\n",
       "      <td>2018-01</td>\n",
       "    </tr>\n",
       "    <tr>\n",
       "      <th>15</th>\n",
       "      <td>1</td>\n",
       "      <td>3.280000</td>\n",
       "      <td>0.01</td>\n",
       "      <td>2018-01-13 07:33:00</td>\n",
       "      <td>COMPLETE</td>\n",
       "      <td>India</td>\n",
       "      <td>73</td>\n",
       "      <td>Smart watch</td>\n",
       "      <td>Corporate</td>\n",
       "      <td>Sports &amp; Outdoor Gear</td>\n",
       "      <td>Fitness</td>\n",
       "      <td>327.75</td>\n",
       "      <td>2018</td>\n",
       "      <td>1</td>\n",
       "      <td>5</td>\n",
       "      <td>2018-01</td>\n",
       "    </tr>\n",
       "  </tbody>\n",
       "</table>\n",
       "</div>"
      ],
      "text/plain": [
       "    Order Item Quantity  Order Item Discount  Order Item Discount Rate  \\\n",
       "0                     1            13.110000                      0.04   \n",
       "3                     1            22.940001                      0.07   \n",
       "6                     1            39.330002                      0.12   \n",
       "13                    1            81.940002                      0.25   \n",
       "15                    1             3.280000                      0.01   \n",
       "\n",
       "            Order Date Order Status Order Country  Product Category Id  \\\n",
       "0  2018-01-31 22:56:00     COMPLETE     Indonesia                   73   \n",
       "3  2018-01-13 11:45:00     COMPLETE     Australia                   73   \n",
       "6  2018-01-13 10:42:00     COMPLETE         China                   73   \n",
       "13 2018-01-13 08:15:00     COMPLETE         India                   73   \n",
       "15 2018-01-13 07:33:00     COMPLETE         India                   73   \n",
       "\n",
       "    Product Name Customer Segment          Category Name Department Name  \\\n",
       "0   Smart watch          Consumer  Sports & Outdoor Gear         Fitness   \n",
       "3   Smart watch       Home Office  Sports & Outdoor Gear         Fitness   \n",
       "6   Smart watch       Home Office  Sports & Outdoor Gear         Fitness   \n",
       "13  Smart watch         Corporate  Sports & Outdoor Gear         Fitness   \n",
       "15  Smart watch         Corporate  Sports & Outdoor Gear         Fitness   \n",
       "\n",
       "    Product Price  Order Year  Order Month  Order Day Order YearMonth  \n",
       "0          327.75        2018            1          2         2018-01  \n",
       "3          327.75        2018            1          5         2018-01  \n",
       "6          327.75        2018            1          5         2018-01  \n",
       "13         327.75        2018            1          5         2018-01  \n",
       "15         327.75        2018            1          5         2018-01  "
      ]
     },
     "execution_count": 24,
     "metadata": {},
     "output_type": "execute_result"
    }
   ],
   "source": [
    "df.head()"
   ]
  },
  {
   "cell_type": "code",
   "execution_count": 25,
   "id": "26b544ff-af43-4396-ada0-072cce975707",
   "metadata": {},
   "outputs": [],
   "source": [
    "df = df.drop(columns=['Order Country','Product Name','Department Name','Order Status'])"
   ]
  },
  {
   "cell_type": "markdown",
   "id": "6512b14e-2b56-4814-8121-249d95d5793a",
   "metadata": {},
   "source": [
    "#### Calculating total quantity, order frequency and average quantity per order for each category"
   ]
  },
  {
   "cell_type": "code",
   "execution_count": 26,
   "id": "14ab4be1-6901-4408-890c-b536be5a88b1",
   "metadata": {
    "scrolled": true
   },
   "outputs": [
    {
     "data": {
      "text/html": [
       "<div>\n",
       "<style scoped>\n",
       "    .dataframe tbody tr th:only-of-type {\n",
       "        vertical-align: middle;\n",
       "    }\n",
       "\n",
       "    .dataframe tbody tr th {\n",
       "        vertical-align: top;\n",
       "    }\n",
       "\n",
       "    .dataframe thead th {\n",
       "        text-align: right;\n",
       "    }\n",
       "</style>\n",
       "<table border=\"1\" class=\"dataframe\">\n",
       "  <thead>\n",
       "    <tr style=\"text-align: right;\">\n",
       "      <th></th>\n",
       "      <th>Category Name</th>\n",
       "      <th>Total Quantity Ordered (Per Category)</th>\n",
       "      <th>Order Frequency</th>\n",
       "      <th>Avg Quantity per Order</th>\n",
       "    </tr>\n",
       "  </thead>\n",
       "  <tbody>\n",
       "    <tr>\n",
       "      <th>0</th>\n",
       "      <td>Apparel &amp; Footwear</td>\n",
       "      <td>54654</td>\n",
       "      <td>23513</td>\n",
       "      <td>2.324416</td>\n",
       "    </tr>\n",
       "    <tr>\n",
       "      <th>1</th>\n",
       "      <td>Cardio Equipment</td>\n",
       "      <td>12364</td>\n",
       "      <td>4117</td>\n",
       "      <td>3.003158</td>\n",
       "    </tr>\n",
       "    <tr>\n",
       "      <th>2</th>\n",
       "      <td>Electronics &amp; Gadgets</td>\n",
       "      <td>4130</td>\n",
       "      <td>2061</td>\n",
       "      <td>2.003882</td>\n",
       "    </tr>\n",
       "    <tr>\n",
       "      <th>3</th>\n",
       "      <td>Golf Equipment &amp; Accessories</td>\n",
       "      <td>3359</td>\n",
       "      <td>1310</td>\n",
       "      <td>2.564122</td>\n",
       "    </tr>\n",
       "    <tr>\n",
       "      <th>4</th>\n",
       "      <td>Home, Garden &amp; Crafts</td>\n",
       "      <td>304</td>\n",
       "      <td>304</td>\n",
       "      <td>1.000000</td>\n",
       "    </tr>\n",
       "    <tr>\n",
       "      <th>5</th>\n",
       "      <td>Media &amp; Entertainment</td>\n",
       "      <td>306</td>\n",
       "      <td>271</td>\n",
       "      <td>1.129151</td>\n",
       "    </tr>\n",
       "    <tr>\n",
       "      <th>6</th>\n",
       "      <td>Miscellaneous</td>\n",
       "      <td>2947</td>\n",
       "      <td>1092</td>\n",
       "      <td>2.698718</td>\n",
       "    </tr>\n",
       "    <tr>\n",
       "      <th>7</th>\n",
       "      <td>Pet Supplies</td>\n",
       "      <td>173</td>\n",
       "      <td>173</td>\n",
       "      <td>1.000000</td>\n",
       "    </tr>\n",
       "    <tr>\n",
       "      <th>8</th>\n",
       "      <td>Sports &amp; Outdoor Gear</td>\n",
       "      <td>48137</td>\n",
       "      <td>26400</td>\n",
       "      <td>1.823371</td>\n",
       "    </tr>\n",
       "    <tr>\n",
       "      <th>9</th>\n",
       "      <td>Toys &amp; Baby Products</td>\n",
       "      <td>250</td>\n",
       "      <td>250</td>\n",
       "      <td>1.000000</td>\n",
       "    </tr>\n",
       "  </tbody>\n",
       "</table>\n",
       "</div>"
      ],
      "text/plain": [
       "                  Category Name  Total Quantity Ordered (Per Category)  \\\n",
       "0            Apparel & Footwear                                  54654   \n",
       "1              Cardio Equipment                                  12364   \n",
       "2         Electronics & Gadgets                                   4130   \n",
       "3  Golf Equipment & Accessories                                   3359   \n",
       "4         Home, Garden & Crafts                                    304   \n",
       "5         Media & Entertainment                                    306   \n",
       "6                 Miscellaneous                                   2947   \n",
       "7                  Pet Supplies                                    173   \n",
       "8         Sports & Outdoor Gear                                  48137   \n",
       "9          Toys & Baby Products                                    250   \n",
       "\n",
       "   Order Frequency  Avg Quantity per Order  \n",
       "0            23513                2.324416  \n",
       "1             4117                3.003158  \n",
       "2             2061                2.003882  \n",
       "3             1310                2.564122  \n",
       "4              304                1.000000  \n",
       "5              271                1.129151  \n",
       "6             1092                2.698718  \n",
       "7              173                1.000000  \n",
       "8            26400                1.823371  \n",
       "9              250                1.000000  "
      ]
     },
     "execution_count": 26,
     "metadata": {},
     "output_type": "execute_result"
    }
   ],
   "source": [
    "# Calculating the average number of products sold per category\n",
    "category_totals = df.groupby('Category Name')['Order Item Quantity'].sum().reset_index()\n",
    "category_totals.columns = ['Category Name', 'Total Quantity Ordered (Per Category)']\n",
    "unique_value_count = df['Category Name'].value_counts()\n",
    "\n",
    "category_frequency = unique_value_count.reset_index()\n",
    "category_frequency.columns = ['Category Name', 'Order Frequency']\n",
    "category_summary = pd.merge(category_totals, category_frequency, on='Category Name')\n",
    "category_summary['Avg Quantity per Order'] = category_summary['Total Quantity Ordered (Per Category)'] / category_summary['Order Frequency']\n",
    "\n",
    "category_summary"
   ]
  },
  {
   "cell_type": "code",
   "execution_count": 27,
   "id": "3ddb2465-4267-4c5e-b2a3-5d80a316fea7",
   "metadata": {},
   "outputs": [
    {
     "data": {
      "text/html": [
       "<div>\n",
       "<style scoped>\n",
       "    .dataframe tbody tr th:only-of-type {\n",
       "        vertical-align: middle;\n",
       "    }\n",
       "\n",
       "    .dataframe tbody tr th {\n",
       "        vertical-align: top;\n",
       "    }\n",
       "\n",
       "    .dataframe thead th {\n",
       "        text-align: right;\n",
       "    }\n",
       "</style>\n",
       "<table border=\"1\" class=\"dataframe\">\n",
       "  <thead>\n",
       "    <tr style=\"text-align: right;\">\n",
       "      <th></th>\n",
       "      <th>Order Item Quantity</th>\n",
       "      <th>Order Item Discount</th>\n",
       "      <th>Order Item Discount Rate</th>\n",
       "      <th>Order Date</th>\n",
       "      <th>Product Category Id</th>\n",
       "      <th>Customer Segment</th>\n",
       "      <th>Category Name</th>\n",
       "      <th>Product Price</th>\n",
       "      <th>Order Year</th>\n",
       "      <th>Order Month</th>\n",
       "      <th>Order Day</th>\n",
       "      <th>Order YearMonth</th>\n",
       "      <th>Total Quantity Ordered (Per Category)</th>\n",
       "      <th>Order Frequency</th>\n",
       "      <th>Avg Quantity per Order</th>\n",
       "    </tr>\n",
       "  </thead>\n",
       "  <tbody>\n",
       "    <tr>\n",
       "      <th>0</th>\n",
       "      <td>1</td>\n",
       "      <td>13.110000</td>\n",
       "      <td>0.04</td>\n",
       "      <td>2018-01-31 22:56:00</td>\n",
       "      <td>73</td>\n",
       "      <td>Consumer</td>\n",
       "      <td>Sports &amp; Outdoor Gear</td>\n",
       "      <td>327.75</td>\n",
       "      <td>2018</td>\n",
       "      <td>1</td>\n",
       "      <td>2</td>\n",
       "      <td>2018-01</td>\n",
       "      <td>48137</td>\n",
       "      <td>26400</td>\n",
       "      <td>1.823371</td>\n",
       "    </tr>\n",
       "    <tr>\n",
       "      <th>1</th>\n",
       "      <td>1</td>\n",
       "      <td>22.940001</td>\n",
       "      <td>0.07</td>\n",
       "      <td>2018-01-13 11:45:00</td>\n",
       "      <td>73</td>\n",
       "      <td>Home Office</td>\n",
       "      <td>Sports &amp; Outdoor Gear</td>\n",
       "      <td>327.75</td>\n",
       "      <td>2018</td>\n",
       "      <td>1</td>\n",
       "      <td>5</td>\n",
       "      <td>2018-01</td>\n",
       "      <td>48137</td>\n",
       "      <td>26400</td>\n",
       "      <td>1.823371</td>\n",
       "    </tr>\n",
       "    <tr>\n",
       "      <th>2</th>\n",
       "      <td>1</td>\n",
       "      <td>39.330002</td>\n",
       "      <td>0.12</td>\n",
       "      <td>2018-01-13 10:42:00</td>\n",
       "      <td>73</td>\n",
       "      <td>Home Office</td>\n",
       "      <td>Sports &amp; Outdoor Gear</td>\n",
       "      <td>327.75</td>\n",
       "      <td>2018</td>\n",
       "      <td>1</td>\n",
       "      <td>5</td>\n",
       "      <td>2018-01</td>\n",
       "      <td>48137</td>\n",
       "      <td>26400</td>\n",
       "      <td>1.823371</td>\n",
       "    </tr>\n",
       "    <tr>\n",
       "      <th>3</th>\n",
       "      <td>1</td>\n",
       "      <td>81.940002</td>\n",
       "      <td>0.25</td>\n",
       "      <td>2018-01-13 08:15:00</td>\n",
       "      <td>73</td>\n",
       "      <td>Corporate</td>\n",
       "      <td>Sports &amp; Outdoor Gear</td>\n",
       "      <td>327.75</td>\n",
       "      <td>2018</td>\n",
       "      <td>1</td>\n",
       "      <td>5</td>\n",
       "      <td>2018-01</td>\n",
       "      <td>48137</td>\n",
       "      <td>26400</td>\n",
       "      <td>1.823371</td>\n",
       "    </tr>\n",
       "    <tr>\n",
       "      <th>4</th>\n",
       "      <td>1</td>\n",
       "      <td>3.280000</td>\n",
       "      <td>0.01</td>\n",
       "      <td>2018-01-13 07:33:00</td>\n",
       "      <td>73</td>\n",
       "      <td>Corporate</td>\n",
       "      <td>Sports &amp; Outdoor Gear</td>\n",
       "      <td>327.75</td>\n",
       "      <td>2018</td>\n",
       "      <td>1</td>\n",
       "      <td>5</td>\n",
       "      <td>2018-01</td>\n",
       "      <td>48137</td>\n",
       "      <td>26400</td>\n",
       "      <td>1.823371</td>\n",
       "    </tr>\n",
       "  </tbody>\n",
       "</table>\n",
       "</div>"
      ],
      "text/plain": [
       "   Order Item Quantity  Order Item Discount  Order Item Discount Rate  \\\n",
       "0                    1            13.110000                      0.04   \n",
       "1                    1            22.940001                      0.07   \n",
       "2                    1            39.330002                      0.12   \n",
       "3                    1            81.940002                      0.25   \n",
       "4                    1             3.280000                      0.01   \n",
       "\n",
       "           Order Date  Product Category Id Customer Segment  \\\n",
       "0 2018-01-31 22:56:00                   73         Consumer   \n",
       "1 2018-01-13 11:45:00                   73      Home Office   \n",
       "2 2018-01-13 10:42:00                   73      Home Office   \n",
       "3 2018-01-13 08:15:00                   73        Corporate   \n",
       "4 2018-01-13 07:33:00                   73        Corporate   \n",
       "\n",
       "           Category Name  Product Price  Order Year  Order Month  Order Day  \\\n",
       "0  Sports & Outdoor Gear         327.75        2018            1          2   \n",
       "1  Sports & Outdoor Gear         327.75        2018            1          5   \n",
       "2  Sports & Outdoor Gear         327.75        2018            1          5   \n",
       "3  Sports & Outdoor Gear         327.75        2018            1          5   \n",
       "4  Sports & Outdoor Gear         327.75        2018            1          5   \n",
       "\n",
       "  Order YearMonth  Total Quantity Ordered (Per Category)  Order Frequency  \\\n",
       "0         2018-01                                  48137            26400   \n",
       "1         2018-01                                  48137            26400   \n",
       "2         2018-01                                  48137            26400   \n",
       "3         2018-01                                  48137            26400   \n",
       "4         2018-01                                  48137            26400   \n",
       "\n",
       "   Avg Quantity per Order  \n",
       "0                1.823371  \n",
       "1                1.823371  \n",
       "2                1.823371  \n",
       "3                1.823371  \n",
       "4                1.823371  "
      ]
     },
     "execution_count": 27,
     "metadata": {},
     "output_type": "execute_result"
    }
   ],
   "source": [
    "df = df.merge( category_summary[['Category Name', 'Total Quantity Ordered (Per Category)', 'Order Frequency', 'Avg Quantity per Order']],\n",
    "    on='Category Name',\n",
    "    how='left')\n",
    "df.head()"
   ]
  },
  {
   "cell_type": "code",
   "execution_count": 28,
   "id": "755cd626-4459-4a3b-a82e-74a7e87da096",
   "metadata": {},
   "outputs": [
    {
     "data": {
      "text/html": [
       "<div>\n",
       "<style scoped>\n",
       "    .dataframe tbody tr th:only-of-type {\n",
       "        vertical-align: middle;\n",
       "    }\n",
       "\n",
       "    .dataframe tbody tr th {\n",
       "        vertical-align: top;\n",
       "    }\n",
       "\n",
       "    .dataframe thead th {\n",
       "        text-align: right;\n",
       "    }\n",
       "</style>\n",
       "<table border=\"1\" class=\"dataframe\">\n",
       "  <thead>\n",
       "    <tr style=\"text-align: right;\">\n",
       "      <th></th>\n",
       "      <th>Category Name</th>\n",
       "      <th>Order YearMonth</th>\n",
       "      <th>Order Item Quantity</th>\n",
       "      <th>Total Sales</th>\n",
       "    </tr>\n",
       "  </thead>\n",
       "  <tbody>\n",
       "    <tr>\n",
       "      <th>0</th>\n",
       "      <td>Apparel &amp; Footwear</td>\n",
       "      <td>2015-01</td>\n",
       "      <td>1677</td>\n",
       "      <td>105280.262299</td>\n",
       "    </tr>\n",
       "    <tr>\n",
       "      <th>1</th>\n",
       "      <td>Apparel &amp; Footwear</td>\n",
       "      <td>2015-02</td>\n",
       "      <td>1519</td>\n",
       "      <td>97905.982258</td>\n",
       "    </tr>\n",
       "    <tr>\n",
       "      <th>2</th>\n",
       "      <td>Apparel &amp; Footwear</td>\n",
       "      <td>2015-03</td>\n",
       "      <td>1541</td>\n",
       "      <td>99546.072262</td>\n",
       "    </tr>\n",
       "    <tr>\n",
       "      <th>3</th>\n",
       "      <td>Apparel &amp; Footwear</td>\n",
       "      <td>2015-04</td>\n",
       "      <td>1593</td>\n",
       "      <td>102840.742352</td>\n",
       "    </tr>\n",
       "    <tr>\n",
       "      <th>4</th>\n",
       "      <td>Apparel &amp; Footwear</td>\n",
       "      <td>2015-05</td>\n",
       "      <td>1652</td>\n",
       "      <td>108614.462624</td>\n",
       "    </tr>\n",
       "    <tr>\n",
       "      <th>...</th>\n",
       "      <td>...</td>\n",
       "      <td>...</td>\n",
       "      <td>...</td>\n",
       "      <td>...</td>\n",
       "    </tr>\n",
       "    <tr>\n",
       "      <th>221</th>\n",
       "      <td>Sports &amp; Outdoor Gear</td>\n",
       "      <td>2017-12</td>\n",
       "      <td>48</td>\n",
       "      <td>15732.000000</td>\n",
       "    </tr>\n",
       "    <tr>\n",
       "      <th>222</th>\n",
       "      <td>Sports &amp; Outdoor Gear</td>\n",
       "      <td>2018-01</td>\n",
       "      <td>68</td>\n",
       "      <td>22287.000000</td>\n",
       "    </tr>\n",
       "    <tr>\n",
       "      <th>223</th>\n",
       "      <td>Toys &amp; Baby Products</td>\n",
       "      <td>2017-10</td>\n",
       "      <td>27</td>\n",
       "      <td>1595.160049</td>\n",
       "    </tr>\n",
       "    <tr>\n",
       "      <th>224</th>\n",
       "      <td>Toys &amp; Baby Products</td>\n",
       "      <td>2017-12</td>\n",
       "      <td>126</td>\n",
       "      <td>3308.100068</td>\n",
       "    </tr>\n",
       "    <tr>\n",
       "      <th>225</th>\n",
       "      <td>Toys &amp; Baby Products</td>\n",
       "      <td>2018-01</td>\n",
       "      <td>97</td>\n",
       "      <td>1119.379996</td>\n",
       "    </tr>\n",
       "  </tbody>\n",
       "</table>\n",
       "<p>226 rows × 4 columns</p>\n",
       "</div>"
      ],
      "text/plain": [
       "             Category Name Order YearMonth  Order Item Quantity    Total Sales\n",
       "0       Apparel & Footwear         2015-01                 1677  105280.262299\n",
       "1       Apparel & Footwear         2015-02                 1519   97905.982258\n",
       "2       Apparel & Footwear         2015-03                 1541   99546.072262\n",
       "3       Apparel & Footwear         2015-04                 1593  102840.742352\n",
       "4       Apparel & Footwear         2015-05                 1652  108614.462624\n",
       "..                     ...             ...                  ...            ...\n",
       "221  Sports & Outdoor Gear         2017-12                   48   15732.000000\n",
       "222  Sports & Outdoor Gear         2018-01                   68   22287.000000\n",
       "223   Toys & Baby Products         2017-10                   27    1595.160049\n",
       "224   Toys & Baby Products         2017-12                  126    3308.100068\n",
       "225   Toys & Baby Products         2018-01                   97    1119.379996\n",
       "\n",
       "[226 rows x 4 columns]"
      ]
     },
     "execution_count": 28,
     "metadata": {},
     "output_type": "execute_result"
    }
   ],
   "source": [
    "df['Total Sales'] = df['Order Item Quantity'] * df['Product Price']\n",
    "\n",
    "# Then group by Category and YearMonth\n",
    "monthly_sales = df.groupby(['Category Name', 'Order YearMonth']).agg({\n",
    "    'Order Item Quantity': 'sum',\n",
    "    'Total Sales': 'sum'\n",
    "}).reset_index()\n",
    "\n",
    "monthly_sales"
   ]
  },
  {
   "cell_type": "markdown",
   "id": "73808233-9fb1-4e97-a1f7-a0af599c8954",
   "metadata": {},
   "source": [
    "#### Final Features"
   ]
  },
  {
   "cell_type": "code",
   "execution_count": 29,
   "id": "8f6e06c4-7174-4ed8-b416-99b6c3d95811",
   "metadata": {
    "scrolled": true
   },
   "outputs": [],
   "source": [
    "# Fix: Merge on both Category Name AND Order YearMonth to properly match records\n",
    "df = df.merge(monthly_sales[['Category Name', 'Order YearMonth', 'Order Item Quantity', 'Total Sales']], \n",
    "              on=['Category Name', 'Order YearMonth'], \n",
    "              how='left',\n",
    "              suffixes=('', '_Monthly'))\n",
    "\n",
    "# Rename the merged columns for clarity\n",
    "df = df.rename(columns={\n",
    "    'Order Item Quantity_Monthly': 'Monthly_Quantity_Sold',\n",
    "    'Total Sales': 'Monthly_Total_Sales'\n",
    "})"
   ]
  },
  {
   "cell_type": "code",
   "execution_count": 30,
   "id": "23d599a6",
   "metadata": {},
   "outputs": [
    {
     "data": {
      "text/html": [
       "<div>\n",
       "<style scoped>\n",
       "    .dataframe tbody tr th:only-of-type {\n",
       "        vertical-align: middle;\n",
       "    }\n",
       "\n",
       "    .dataframe tbody tr th {\n",
       "        vertical-align: top;\n",
       "    }\n",
       "\n",
       "    .dataframe thead th {\n",
       "        text-align: right;\n",
       "    }\n",
       "</style>\n",
       "<table border=\"1\" class=\"dataframe\">\n",
       "  <thead>\n",
       "    <tr style=\"text-align: right;\">\n",
       "      <th></th>\n",
       "      <th>Order YearMonth</th>\n",
       "      <th>Category Name</th>\n",
       "      <th>Product Category Id</th>\n",
       "      <th>Average Product Price</th>\n",
       "      <th>Customer Segment</th>\n",
       "      <th>Order Item Discount Rate</th>\n",
       "      <th>Monthly_Quantity_Sold</th>\n",
       "    </tr>\n",
       "  </thead>\n",
       "  <tbody>\n",
       "    <tr>\n",
       "      <th>0</th>\n",
       "      <td>2015-01</td>\n",
       "      <td>Apparel &amp; Footwear</td>\n",
       "      <td>17</td>\n",
       "      <td>74.081082</td>\n",
       "      <td>Consumer</td>\n",
       "      <td>0.100058</td>\n",
       "      <td>1677</td>\n",
       "    </tr>\n",
       "    <tr>\n",
       "      <th>1</th>\n",
       "      <td>2015-01</td>\n",
       "      <td>Cardio Equipment</td>\n",
       "      <td>9</td>\n",
       "      <td>98.960733</td>\n",
       "      <td>Consumer</td>\n",
       "      <td>0.099632</td>\n",
       "      <td>386</td>\n",
       "    </tr>\n",
       "    <tr>\n",
       "      <th>2</th>\n",
       "      <td>2015-01</td>\n",
       "      <td>Electronics &amp; Gadgets</td>\n",
       "      <td>13</td>\n",
       "      <td>39.617908</td>\n",
       "      <td>Consumer</td>\n",
       "      <td>0.093023</td>\n",
       "      <td>134</td>\n",
       "    </tr>\n",
       "    <tr>\n",
       "      <th>3</th>\n",
       "      <td>2015-01</td>\n",
       "      <td>Golf Equipment &amp; Accessories</td>\n",
       "      <td>36</td>\n",
       "      <td>23.967619</td>\n",
       "      <td>Corporate</td>\n",
       "      <td>0.100476</td>\n",
       "      <td>113</td>\n",
       "    </tr>\n",
       "    <tr>\n",
       "      <th>4</th>\n",
       "      <td>2015-01</td>\n",
       "      <td>Miscellaneous</td>\n",
       "      <td>40</td>\n",
       "      <td>22.290000</td>\n",
       "      <td>Corporate</td>\n",
       "      <td>0.087500</td>\n",
       "      <td>123</td>\n",
       "    </tr>\n",
       "  </tbody>\n",
       "</table>\n",
       "</div>"
      ],
      "text/plain": [
       "  Order YearMonth                 Category Name  Product Category Id  \\\n",
       "0         2015-01            Apparel & Footwear                   17   \n",
       "1         2015-01              Cardio Equipment                    9   \n",
       "2         2015-01         Electronics & Gadgets                   13   \n",
       "3         2015-01  Golf Equipment & Accessories                   36   \n",
       "4         2015-01                 Miscellaneous                   40   \n",
       "\n",
       "   Average Product Price Customer Segment  Order Item Discount Rate  \\\n",
       "0              74.081082         Consumer                  0.100058   \n",
       "1              98.960733         Consumer                  0.099632   \n",
       "2              39.617908         Consumer                  0.093023   \n",
       "3              23.967619        Corporate                  0.100476   \n",
       "4              22.290000        Corporate                  0.087500   \n",
       "\n",
       "   Monthly_Quantity_Sold  \n",
       "0                   1677  \n",
       "1                    386  \n",
       "2                    134  \n",
       "3                    113  \n",
       "4                    123  "
      ]
     },
     "execution_count": 30,
     "metadata": {},
     "output_type": "execute_result"
    }
   ],
   "source": [
    "# Keeping only relevant columns for the model\n",
    "df = df.drop(columns=['Order Item Quantity', 'Order Day', 'Order Date','Order Frequency',\n",
    "                       'Avg Quantity per Order', 'Order Year',\n",
    "                        'Order Month', 'Order Item Discount','Total Quantity Ordered (Per Category)',\n",
    "                        'Monthly_Total_Sales'])\n",
    "df = df.groupby(['Order YearMonth', 'Category Name']).agg({\n",
    "    'Product Category Id': 'first',             # Keep the first Product Category Id\n",
    "    'Product Price': 'mean',                    # Average price per category-month\n",
    "    'Customer Segment': 'first',                # Dominant segment   \n",
    "    'Order Item Discount Rate': 'mean',         # Average discount rate\n",
    "    'Monthly_Quantity_Sold': 'first'            # Target (already aggregated)\n",
    "}).reset_index()\n",
    "df = df.rename(columns={'Product Price': 'Average Product Price'})\n",
    "df.head()"
   ]
  },
  {
   "cell_type": "markdown",
   "id": "d0fc86fa-1323-48e8-91bc-df23137ec03e",
   "metadata": {},
   "source": [
    "#### Adding Time Series"
   ]
  },
  {
   "cell_type": "code",
   "execution_count": 31,
   "id": "4193e45a-2680-4c56-b3ca-d63fb385d3b4",
   "metadata": {},
   "outputs": [
    {
     "name": "stdout",
     "output_type": "stream",
     "text": [
      "Starting with df shape: (226, 7)\n",
      "Columns: ['Order YearMonth', 'Category Name', 'Product Category Id', 'Average Product Price', 'Customer Segment', 'Order Item Discount Rate', 'Monthly_Quantity_Sold']\n"
     ]
    }
   ],
   "source": [
    "# Use your existing df (the one with Monthly_Quantity_Sold)\n",
    "print(f\"Starting with df shape: {df.shape}\")\n",
    "print(f\"Columns: {df.columns.tolist()}\")\n",
    "\n",
    "# Convert Order YearMonth to datetime for feature extraction\n",
    "df['Order_Date'] = pd.to_datetime(df['Order YearMonth'])\n",
    "\n",
    "# Extract numerical time features that can handle future dates\n",
    "df['Year'] = df['Order_Date'].dt.year\n",
    "df['Month'] = df['Order_Date'].dt.month\n",
    "df['Quarter'] = df['Order_Date'].dt.quarter\n",
    "\n",
    "# Create trend feature (months since the start of data)\n",
    "start_date = df['Order_Date'].min()\n",
    "df['Months_Since_Start'] = ((df['Order_Date'] - start_date).dt.days / 30.44).round().astype(int)\n",
    "\n",
    "# Create cyclical features for seasonality (important for forecasting!)\n",
    "df['Month_Sin'] = np.sin(2 * np.pi * df['Month'] / 12)\n",
    "df['Month_Cos'] = np.cos(2 * np.pi * df['Month'] / 12)\n",
    "\n",
    "# Create year trend (helps with long-term patterns)\n",
    "df['Year_Trend'] = df['Year'] - df['Year'].min()\n",
    "\n",
    "# Drop the original time columns we don't need\n",
    "df = df.drop(columns=['Order YearMonth', 'Order_Date'])"
   ]
  },
  {
   "cell_type": "markdown",
   "id": "91961afd-a891-4615-a1bf-37278cbdaa8c",
   "metadata": {},
   "source": [
    "#### Encoding Features"
   ]
  },
  {
   "cell_type": "code",
   "execution_count": 32,
   "id": "b536d04d-c6fa-4a70-aef8-23b293e3eb19",
   "metadata": {},
   "outputs": [],
   "source": [
    "# Only encode truly categorical features (not time!)\n",
    "df_encoded = df\n",
    "\n",
    "# Label encode Category Name\n",
    "le_category = LabelEncoder()\n",
    "df_encoded['Category Name'] = le_category.fit_transform(df_encoded['Category Name'])\n",
    "\n",
    "# One-hot encode Customer Segment\n",
    "df_encoded = pd.get_dummies(df_encoded, columns=['Customer Segment'], drop_first=True)"
   ]
  },
  {
   "cell_type": "markdown",
   "id": "b4a1b577-bcc4-477f-a427-2aea0edd2d58",
   "metadata": {},
   "source": [
    "#### X and y test "
   ]
  },
  {
   "cell_type": "code",
   "execution_count": 33,
   "id": "2d423075-07af-4c32-8a72-34cacd9af7c7",
   "metadata": {},
   "outputs": [
    {
     "name": "stdout",
     "output_type": "stream",
     "text": [
      "Features shape: (226, 13)\n",
      "Target shape: (226,)\n",
      "\n",
      "Feature columns:\n",
      " 1. Category Name\n",
      " 2. Product Category Id\n",
      " 3. Average Product Price\n",
      " 4. Order Item Discount Rate\n",
      " 5. Year\n",
      " 6. Month\n",
      " 7. Quarter\n",
      " 8. Months_Since_Start\n",
      " 9. Month_Sin\n",
      "10. Month_Cos\n",
      "11. Year_Trend\n",
      "12. Customer Segment_Corporate\n",
      "13. Customer Segment_Home Office\n",
      "\n",
      "Time-related features:\n",
      "✅ Year\n",
      "✅ Month\n",
      "✅ Quarter\n",
      "✅ Months_Since_Start\n",
      "✅ Month_Sin\n",
      "✅ Month_Cos\n",
      "✅ Year_Trend\n",
      "\n",
      "Business features:\n",
      "✅ Category Name\n",
      "✅ Product Category Id\n",
      "✅ Average Product Price\n",
      "✅ Order Item Discount Rate\n"
     ]
    }
   ],
   "source": [
    "# Separate features and target\n",
    "X_timeseries = df_encoded.drop(columns=['Monthly_Quantity_Sold'])\n",
    "y_timeseries = df_encoded['Monthly_Quantity_Sold']\n",
    "\n",
    "print(f\"Features shape: {X_timeseries.shape}\")\n",
    "print(f\"Target shape: {y_timeseries.shape}\")\n",
    "\n",
    "print(f\"\\nFeature columns:\")\n",
    "for i, col in enumerate(X_timeseries.columns, 1):\n",
    "    print(f\"{i:2d}. {col}\")\n",
    "\n",
    "print(f\"\\nTime-related features:\")\n",
    "time_features = ['Year', 'Month', 'Quarter', 'Months_Since_Start', 'Month_Sin', 'Month_Cos', 'Year_Trend']\n",
    "for feature in time_features:\n",
    "    if feature in X_timeseries.columns:\n",
    "        print(f\"✅ {feature}\")\n",
    "\n",
    "print(f\"\\nBusiness features:\")\n",
    "business_features = ['Category Name', 'Product Category Id', 'Average Product Price', 'Order Item Discount Rate']\n",
    "for feature in business_features:\n",
    "    if feature in X_timeseries.columns:\n",
    "        print(f\"✅ {feature}\")"
   ]
  },
  {
   "cell_type": "markdown",
   "id": "32f6fa37-01e4-4689-93f9-c3ca95c12169",
   "metadata": {},
   "source": [
    "#### Model Training"
   ]
  },
  {
   "cell_type": "code",
   "execution_count": 34,
   "id": "603a1ed6-320d-40d4-8efd-20cf9508ed97",
   "metadata": {},
   "outputs": [
    {
     "name": "stdout",
     "output_type": "stream",
     "text": [
      "Training set: (180, 13)\n",
      "Test set: (46, 13)\n",
      "R² Score: 0.9482\n",
      "RMSE: 141.95\n",
      "MAE: 74.52\n",
      "MAPE: 182.67%\n",
      "Cross-validation R² scores: [0.99311298 0.98533452 0.99420226 0.9835003  0.16856527]\n",
      "Mean CV R²: 0.8249 (+/- 0.6564)\n"
     ]
    }
   ],
   "source": [
    "# 4️⃣ TRAIN TIME SERIES MODEL\n",
    "import xgboost as xgb\n",
    "# Split the data\n",
    "X_train_ts, X_test_ts, y_train_ts, y_test_ts_ts = train_test_split(\n",
    "    X_timeseries, y_timeseries, test_size=0.2, random_state=42\n",
    ")\n",
    "\n",
    "print(f\"Training set: {X_train_ts.shape}\")\n",
    "print(f\"Test set: {X_test_ts.shape}\")\n",
    "\n",
    "# Train XGBoost model optimized for time series\n",
    "model_timeseries = xgb.XGBRegressor(\n",
    "    n_estimators=500,\n",
    "    max_depth=6,\n",
    "    learning_rate=0.1,\n",
    "    subsample=0.8,\n",
    "    colsample_bytree=0.8,\n",
    "    random_state=42,\n",
    "    n_jobs=-1,\n",
    "    reg_alpha=0.1,\n",
    "    reg_lambda=0.5\n",
    ")\n",
    "\n",
    "model_timeseries.fit(\n",
    "    X_train_ts, y_train_ts,\n",
    "    eval_set=[(X_test_ts, y_test_ts_ts)],\n",
    "    verbose=False\n",
    ")\n",
    "\n",
    "# Make predictions\n",
    "y_pred_ts_ts = model_timeseries.predict(X_test_ts)\n",
    "\n",
    "# Evaluate performance\n",
    "r2_ts = r2_score(y_test_ts_ts, y_pred_ts_ts)\n",
    "rmse_ts = np.sqrt(mean_squared_error(y_test_ts_ts, y_pred_ts_ts))\n",
    "mae_ts = mean_absolute_error(y_test_ts_ts, y_pred_ts_ts)\n",
    "mape_ts = np.mean(np.abs((y_test_ts_ts - y_pred_ts_ts) / y_test_ts_ts)) * 100\n",
    "print(f\"R² Score: {r2_ts:.4f}\")\n",
    "print(f\"RMSE: {rmse_ts:.2f}\")\n",
    "print(f\"MAE: {mae_ts:.2f}\")\n",
    "print(f\"MAPE: {mape_ts:.2f}%\")\n",
    "\n",
    "# Cross-validation\n",
    "cv_scores_ts = cross_val_score(model_timeseries, X_timeseries, y_timeseries, cv=5, scoring='r2')\n",
    "print(f\"Cross-validation R² scores: {cv_scores_ts}\")\n",
    "print(f\"Mean CV R²: {cv_scores_ts.mean():.4f} (+/- {cv_scores_ts.std() * 2:.4f})\")"
   ]
  },
  {
   "cell_type": "code",
   "execution_count": 39,
   "id": "fcaddfb9-0753-453a-9643-cecad992c9b0",
   "metadata": {},
   "outputs": [
    {
     "data": {
      "image/png": "[encoded data removed]",
      "text/plain": [
       "<Figure size 600x600 with 1 Axes>"
      ]
     },
     "metadata": {},
     "output_type": "display_data"
    },
    {
     "data": {
      "image/png": "[encoded data removed]",
      "text/plain": [
       "<Figure size 600x400 with 1 Axes>"
      ]
     },
     "metadata": {},
     "output_type": "display_data"
    }
   ],
   "source": [
    "# Enter your code here\n",
    "\n",
    "# 1. Predict on test set\n",
    "y_pred_ts = model_timeseries.predict(X_test_ts)\n",
    "\n",
    "# 2. Predicted vs Actual\n",
    "plt.figure(figsize=(6, 6))\n",
    "sns.scatterplot(x=y_test_ts , y=y_pred_ts, alpha=0.4)\n",
    "plt.plot([y_test_ts.min(), y_test_ts.max()], [y_test_ts.min(), y_test_ts.max()], color='red', linestyle='--')\n",
    "plt.xlabel('Actual Price')\n",
    "plt.ylabel('Predicted Price')\n",
    "plt.title('Predicted vs Actual Price')\n",
    "plt.grid(True)\n",
    "plt.tight_layout()\n",
    "plt.show()\n",
    "\n",
    "# 3. Residual Plot\n",
    "residuals = y_test_ts - y_pred_ts\n",
    "plt.figure(figsize=(6, 4))\n",
    "sns.histplot(residuals, kde=True, bins=30)\n",
    "plt.axvline(0, color='red', linestyle='--')\n",
    "plt.xlabel('Residuals (Actual - Predicted)')\n",
    "plt.title('Residual Distribution')\n",
    "plt.grid(True)\n",
    "plt.tight_layout()\n",
    "plt.show()"
   ]
  },
  {
   "cell_type": "markdown",
   "id": "7c66bd7c-dc54-4d31-94b5-688d75b651b4",
   "metadata": {},
   "source": [
    "#### Feature Importance"
   ]
  },
  {
   "cell_type": "code",
   "execution_count": 35,
   "id": "86b4eeb4-6d8a-42db-a13a-6d80568c1f25",
   "metadata": {
    "scrolled": true
   },
   "outputs": [
    {
     "name": "stdout",
     "output_type": "stream",
     "text": [
      "TOP 10 MOST IMPORTANT FEATURES:\n",
      "                     Feature  Importance\n",
      "10                Year_Trend    0.438531\n",
      "7         Months_Since_Start    0.216241\n",
      "4                       Year    0.099742\n",
      "2      Average Product Price    0.093249\n",
      "0              Category Name    0.082042\n",
      "1        Product Category Id    0.047757\n",
      "6                    Quarter    0.011643\n",
      "3   Order Item Discount Rate    0.004621\n",
      "5                      Month    0.003254\n",
      "8                  Month_Sin    0.002360\n",
      "FEATURE IMPORTANCE BREAKDOWN:\n",
      "Time features contribution: 77.2%\n",
      "Business features contribution: 22.8%\n"
     ]
    },
    {
     "name": "stderr",
     "output_type": "stream",
     "text": [
      "C:\\Users\\euito\\AppData\\Local\\Temp\\ipykernel_1532\\1750776724.py:26: FutureWarning: \n",
      "\n",
      "Passing `palette` without assigning `hue` is deprecated and will be removed in v0.14.0. Assign the `y` variable to `hue` and set `legend=False` for the same effect.\n",
      "\n",
      "  sns.barplot(data=top_features, x='Importance', y='Feature', palette='viridis')\n"
     ]
    },
    {
     "data": {
      "image/png": "[encoded data removed]",
      "text/plain": [
       "<Figure size 1200x800 with 1 Axes>"
      ]
     },
     "metadata": {},
     "output_type": "display_data"
    }
   ],
   "source": [
    "# Get feature importance\n",
    "feature_importance = model_timeseries.feature_importances_\n",
    "feature_names = X_timeseries.columns\n",
    "\n",
    "importance_df = pd.DataFrame({\n",
    "    'Feature': feature_names,\n",
    "    'Importance': feature_importance\n",
    "}).sort_values('Importance', ascending=False)\n",
    "\n",
    "print(\"TOP 10 MOST IMPORTANT FEATURES:\")\n",
    "print(importance_df.head(10))\n",
    "\n",
    "# Analyze time vs business feature importance\n",
    "time_features = ['Year', 'Month', 'Quarter', 'Months_Since_Start', 'Month_Sin', 'Month_Cos', 'Year_Trend']\n",
    "time_importance = importance_df[importance_df['Feature'].isin(time_features)]['Importance'].sum()\n",
    "total_importance = importance_df['Importance'].sum()\n",
    "time_contribution = (time_importance / total_importance) * 100\n",
    "\n",
    "print(f\"FEATURE IMPORTANCE BREAKDOWN:\")\n",
    "print(f\"Time features contribution: {time_contribution:.1f}%\")\n",
    "print(f\"Business features contribution: {100-time_contribution:.1f}%\")\n",
    "\n",
    "# Plot feature importance\n",
    "plt.figure(figsize=(12, 8))\n",
    "top_features = importance_df.head(12)\n",
    "sns.barplot(data=top_features, x='Importance', y='Feature', palette='viridis')\n",
    "plt.title('Time Series Model: Feature Importance')\n",
    "plt.xlabel('Feature Importance')\n",
    "plt.tight_layout()\n",
    "plt.show()"
   ]
  },
  {
   "cell_type": "markdown",
   "id": "7bc8bbe7-7ba1-4526-97d4-2b0ab4fe449c",
   "metadata": {},
   "source": [
    "#### Testing"
   ]
  },
  {
   "cell_type": "code",
   "execution_count": 36,
   "id": "de6539fd-d27f-4fc2-a8f4-b90a1ba0be35",
   "metadata": {},
   "outputs": [],
   "source": [
    "def forecast_future_demand(model, le_category, reference_date, future_year_month, \n",
    "                          category_name, product_category_id, avg_price, \n",
    "                          customer_segment, discount_rate):\n",
    "    \"\"\"\n",
    "    Forecast demand for ANY future month using numerical time features\n",
    "    \"\"\"\n",
    "    \n",
    "    # Parse the future date\n",
    "    future_date = pd.to_datetime(future_year_month)\n",
    "    \n",
    "    # Calculate time features for the future date\n",
    "    months_since_start = ((future_date - reference_date).days / 30.44)\n",
    "    \n",
    "    # Create test data with numerical time features\n",
    "    test_data = {\n",
    "        'Category Name': category_name,\n",
    "        'Product Category Id': product_category_id,\n",
    "        'Average Product Price': avg_price,\n",
    "        'Customer Segment': customer_segment,\n",
    "        'Order Item Discount Rate': discount_rate,\n",
    "        # Time features (numerical - can handle ANY future date!)\n",
    "        'Year': future_date.year,\n",
    "        'Month': future_date.month,\n",
    "        'Quarter': future_date.quarter,\n",
    "        'Months_Since_Start': int(months_since_start),\n",
    "        'Month_Sin': np.sin(2 * np.pi * future_date.month / 12),\n",
    "        'Month_Cos': np.cos(2 * np.pi * future_date.month / 12),\n",
    "        'Year_Trend': future_date.year - reference_date.year\n",
    "    }\n",
    "    \n",
    "    # Create DataFrame\n",
    "    test_df = pd.DataFrame([test_data])\n",
    "    \n",
    "    # Handle unknown category\n",
    "    if category_name not in le_category.classes_:\n",
    "        print(f\"Unknown category '{category_name}' - using default: {le_category.classes_[0]}\")\n",
    "        test_df['Category Name'] = le_category.classes_[0]\n",
    "    \n",
    "    # Encode category\n",
    "    test_df['Category Name'] = le_category.transform(test_df['Category Name'])\n",
    "    \n",
    "    # One-hot encode customer segment\n",
    "    test_df = pd.get_dummies(test_df, columns=['Customer Segment'], drop_first=True)\n",
    "    \n",
    "    # Ensure same columns as training (crucial!)\n",
    "    test_df = test_df.reindex(columns=X_timeseries.columns, fill_value=0)\n",
    "    \n",
    "    # Make prediction\n",
    "    prediction = model.predict(test_df)[0]\n",
    "    \n",
    "    print(f\"FORECAST for {future_year_month}: {prediction:.2f} units\")\n",
    "    print(f\"Category: {category_name}\")\n",
    "    print(f\"Features used: {test_df.iloc[0].to_dict()}\")\n",
    "    \n",
    "    return prediction\n",
    "\n",
    "# Get reference date for calculations\n",
    "reference_date = pd.to_datetime(df['Order YearMonth'].min()) if 'Order YearMonth' in df.columns else pd.to_datetime('2015-01-01')"
   ]
  },
  {
   "cell_type": "code",
   "execution_count": 47,
   "id": "2535aae3-12d6-4346-ad15-0f864766cb54",
   "metadata": {},
   "outputs": [
    {
     "name": "stdout",
     "output_type": "stream",
     "text": [
      "FORECASTING:\n",
      "\n",
      "📅 February 2025 forecast:\n",
      "FORECAST for 2025-02: 108.70 units\n",
      "Category: Technology\n",
      "Features used: {'Category Name': 34.0, 'Product Category Id': 40.0, 'Average Product Price': 25.5, 'Order Item Discount Rate': 0.08, 'Year': 2025.0, 'Month': 2.0, 'Quarter': 1.0, 'Months_Since_Start': 121.0, 'Month_Sin': 0.8660254037844386, 'Month_Cos': 0.5000000000000001, 'Year_Trend': 10.0, 'Customer Segment_Corporate': 0.0, 'Customer Segment_Home Office': 0.0}\n",
      "SUCCESS: 108.70 units predicted\n",
      "\n",
      "📅 December 2026 forecast:\n",
      "FORECAST for 2026-12: 37.26 units\n",
      "Category: As Seen on  TV!\n",
      "Features used: {'Category Name': 1.0, 'Product Category Id': 40.0, 'Average Product Price': 25.5, 'Order Item Discount Rate': 0.08, 'Year': 2026.0, 'Month': 12.0, 'Quarter': 4.0, 'Months_Since_Start': 142.0, 'Month_Sin': -2.4492935982947064e-16, 'Month_Cos': 1.0, 'Year_Trend': 11.0, 'Customer Segment_Corporate': 0.0, 'Customer Segment_Home Office': 0.0}\n",
      "SUCCESS: 37.26 units predicted\n",
      "\n",
      "📅 June 2030 forecast (far future):\n",
      "FORECAST for 2030-06: 50.24 units\n",
      "Category: Accessories\n",
      "Features used: {'Category Name': 0.0, 'Product Category Id': 40.0, 'Average Product Price': 25.5, 'Order Item Discount Rate': 0.08, 'Year': 2030.0, 'Month': 6.0, 'Quarter': 2.0, 'Months_Since_Start': 184.0, 'Month_Sin': 1.2246467991473532e-16, 'Month_Cos': -1.0, 'Year_Trend': 15.0, 'Customer Segment_Corporate': 0.0, 'Customer Segment_Home Office': 0.0}\n",
      "SUCCESS: 50.24 units predicted\n"
     ]
    }
   ],
   "source": [
    "# Test with various future dates\n",
    "test_scenarios = [\n",
    "    {\n",
    "        'future_date': '2025-02',\n",
    "        'category': \"Technology\",\n",
    "        'description': 'February 2025 forecast'\n",
    "    },\n",
    "    {\n",
    "        'future_date': '2026-12',\n",
    "        'category': le_category.classes_[1] if len(le_category.classes_) > 1 else le_category.classes_[0],\n",
    "        'description': 'December 2026 forecast'\n",
    "    },\n",
    "    {\n",
    "        'future_date': '2030-06',\n",
    "        'category': le_category.classes_[0],\n",
    "        'description': 'June 2030 forecast (far future)'\n",
    "    }\n",
    "]\n",
    "\n",
    "print(f\"FORECASTING:\")\n",
    "\n",
    "for scenario in test_scenarios:\n",
    "    try:\n",
    "        print(f\"\\n📅 {scenario['description']}:\")\n",
    "        \n",
    "        prediction = forecast_future_demand(\n",
    "            model=model_timeseries,\n",
    "            le_category=le_category,\n",
    "            reference_date=reference_date,\n",
    "            future_year_month=scenario['future_date'],\n",
    "            category_name=scenario['category'],\n",
    "            product_category_id=40,\n",
    "            avg_price=25.50,\n",
    "            customer_segment='Consumer',\n",
    "            discount_rate=0.08\n",
    "        )\n",
    "        \n",
    "        print(f\"SUCCESS: {prediction:.2f} units predicted\")\n",
    "        \n",
    "    except Exception as e:\n",
    "        print(f\"Error: {e}\")"
   ]
  },
  {
   "cell_type": "markdown",
   "id": "e03f4caa-dcdd-404f-ab8a-57331b699feb",
   "metadata": {},
   "source": [
    "# SAVING THE MODEL "
   ]
  },
  {
   "cell_type": "code",
   "execution_count": 15,
   "id": "a0c04e48-7e0b-4dc0-a72f-3323964d8368",
   "metadata": {},
   "outputs": [
    {
     "name": "stdout",
     "output_type": "stream",
     "text": [
      "✅ Model and preprocessor saved successfully!\n",
      "Saved files:\n",
      "- model/salesforecast_model.pkl (XGBoost time series model)\n",
      "- model/salesforecast_preprocessor.pkl (preprocessing components)\n",
      "- Model performance: R² = 0.9578, MAPE = 86.24%\n",
      "- Available categories: ['Accessories', 'As Seen on  TV!', 'Baby ', 'Baseball & Softball', 'Basketball', 'Books ', 'Boxing & MMA', 'CDs ', 'Cameras ', 'Camping & Hiking', 'Cardio Equipment', \"Children's Clothing\", 'Cleats', 'Computers', 'Consumer Electronics', 'Crafts', 'DVDs', 'Electronics', 'Fishing', 'Fitness Accessories', 'Garden', \"Girls' Apparel\", 'Golf Apparel', 'Golf Bags & Carts', 'Golf Balls', 'Golf Gloves', 'Golf Shoes', 'Health and Beauty', 'Hockey', 'Hunting & Shooting', 'Indoor/Outdoor Games', \"Kids' Golf Clubs\", 'Lacrosse', \"Men's Clothing\", \"Men's Footwear\", \"Men's Golf Clubs\", 'Music', 'Pet Supplies', 'Shop By Sport', 'Soccer', 'Sporting Goods', 'Strength Training', 'Tennis & Racquet', 'Toys', 'Trade-In', 'Video Games', 'Water Sports', \"Women's Apparel\", \"Women's Clothing\", \"Women's Golf Clubs\"]\n"
     ]
    }
   ],
   "source": [
    "import joblib\n",
    "import pickle\n",
    "import os\n",
    "\n",
    "# Create model directory if it doesn't exist\n",
    "os.makedirs('model', exist_ok=True)\n",
    "\n",
    "# Save the XGBoost time series model\n",
    "joblib.dump(model_timeseries, 'model/salesforecast_model.pkl')\n",
    "\n",
    "# Save preprocessing components\n",
    "preprocessor_data = {\n",
    "    'label_encoder_category': le_category,\n",
    "    'feature_columns': X_timeseries.columns.tolist(),\n",
    "    'reference_date': reference_date,\n",
    "    'unique_categories': le_category.classes_.tolist(),\n",
    "    'customer_segments': [col for col in X_timeseries.columns if 'Customer_Segment_' in col],\n",
    "    'model_type': 'XGBoost_TimeSeries',\n",
    "    'model_performance': {\n",
    "        'r2_score': r2_ts,\n",
    "        'rmse': rmse_ts,\n",
    "        'mae': mae_ts,\n",
    "        'mape': mape_ts\n",
    "    }\n",
    "}\n",
    "\n",
    "with open('model/salesforecast_preprocessor.pkl', 'wb') as f:\n",
    "    pickle.dump(preprocessor_data, f)\n",
    "\n",
    "print(\"✅ Model and preprocessor saved successfully!\")\n",
    "print(\"Saved files:\")\n",
    "print(\"- model/salesforecast_model.pkl (XGBoost time series model)\")\n",
    "print(\"- model/salesforecast_preprocessor.pkl (preprocessing components)\")\n",
    "print(f\"- Model performance: R² = {r2_ts:.4f}, MAPE = {mape_ts:.2f}%\")\n",
    "print(f\"- Available categories: {le_category.classes_.tolist()}\")"
   ]
  }
 ],
 "metadata": {
  "kernelspec": {
   "display_name": "Python [conda env:it3100] *",
   "language": "python",
   "name": "conda-env-it3100-py"
  },
  "language_info": {
   "codemirror_mode": {
    "name": "ipython",
    "version": 3
   },
   "file_extension": ".py",
   "mimetype": "text/x-python",
   "name": "python",
   "nbconvert_exporter": "python",
   "pygments_lexer": "ipython3",
   "version": "3.9.21"
  }
 },
 "nbformat": 4,
 "nbformat_minor": 5
}
