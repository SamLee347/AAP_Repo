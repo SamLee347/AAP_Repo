{
 "cells": [
  {
   "cell_type": "markdown",
   "metadata": {
    "id": "Tce3stUlHN0L"
   },
   "source": [
    "##### Copyright 2025 Google LLC."
   ]
  },
  {
   "cell_type": "code",
   "execution_count": 1,
   "metadata": {
    "cellView": "form",
    "id": "tuOe1ymfHZPu"
   },
   "outputs": [],
   "source": [
    "# @title Licensed under the Apache License, Version 2.0 (the \"License\");\n",
    "# you may not use this file except in compliance with the License.\n",
    "# You may obtain a copy of the License at\n",
    "#\n",
    "# https://www.apache.org/licenses/LICENSE-2.0\n",
    "#\n",
    "# Unless required by applicable law or agreed to in writing, software\n",
    "# distributed under the License is distributed on an \"AS IS\" BASIS,\n",
    "# WITHOUT WARRANTIES OR CONDITIONS OF ANY KIND, either express or implied.\n",
    "# See the License for the specific language governing permissions and\n",
    "# limitations under the License."
   ]
  },
  {
   "cell_type": "markdown",
   "metadata": {
    "id": "yeadDkMiISin"
   },
   "source": [
    "# Gemini API: Prompting Quickstart\n",
    "\n",
    "<a target=\"_blank\" href=\"https://colab.research.google.com/github/google-gemini/cookbook/blob/main/quickstarts/Prompting.ipynb\"><img src=\"https://colab.research.google.com/assets/colab-badge.svg\" height=30/></a>"
   ]
  },
  {
   "cell_type": "markdown",
   "metadata": {
    "id": "dpOYALec6N8Z"
   },
   "source": [
    "This notebook contains examples of how to write and run your first prompts with the Gemini API."
   ]
  },
  {
   "cell_type": "code",
   "execution_count": 79,
   "metadata": {
    "id": "0c13de5f68f6"
   },
   "outputs": [
    {
     "name": "stdout",
     "output_type": "stream",
     "text": [
      "Note: you may need to restart the kernel to use updated packages.\n"
     ]
    }
   ],
   "source": [
    "%pip install -U -q \"google-genai>=1.4.0\""
   ]
  },
  {
   "cell_type": "markdown",
   "metadata": {
    "id": "w4YDYyfRYN7L"
   },
   "source": [
    "### Set up your API key\n",
    "\n",
    "To run the following cell, your API key must be stored it in a Colab Secret named `GOOGLE_API_KEY`. If you don't already have an API key, or you're not sure how to create a Colab Secret, see the [Authentication](https://github.com/google-gemini/cookbook/blob/main/quickstarts/Authentication.ipynb) quickstart for an example."
   ]
  },
  {
   "cell_type": "code",
   "execution_count": null,
   "metadata": {
    "id": "p8K1RpmMfh20"
   },
   "outputs": [],
   "source": [
    "from google import genai\n",
    "\n",
    "GOOGLE_API_KEY = input(\"Enter your API key here:\")\n",
    "client = genai.Client(api_key=GOOGLE_API_KEY)"
   ]
  },
  {
   "cell_type": "markdown",
   "metadata": {
    "id": "zwtL8wmX4rqP"
   },
   "source": [
    "## Select your model\n",
    "\n",
    "Now select the model you want to use in this guide, either by selecting one in the list or writing it down. Keep in mind that some models, like the 2.5 ones are thinking models and thus take slightly more time to respond (cf. [thinking notebook](./Get_started_thinking.ipynb) for more details and in particular learn how to switch the thiking off)."
   ]
  },
  {
   "cell_type": "code",
   "execution_count": 84,
   "metadata": {
    "id": "Ll79uwEK4uPJ"
   },
   "outputs": [],
   "source": [
    "MODEL_ID = \"gemini-2.5-flash\" # @param [\"gemini-2.5-flash-lite\",\"gemini-2.5-flash\",\"gemini-2.5-pro\",\"gemini-2.0-flash\"] {\"allow-input\":true, isTemplate: true}"
   ]
  },
  {
   "cell_type": "markdown",
   "metadata": {
    "id": "HTNQymX8YN9c"
   },
   "source": [
    "## Run your first prompt\n",
    "\n",
    "Use the `generate_content` method to generate responses to your prompts. You can pass text directly to generate_content, and use the `.text` property to get the text content of the response."
   ]
  },
  {
   "cell_type": "code",
   "execution_count": 88,
   "metadata": {
    "id": "XSuyaGmcf6sr"
   },
   "outputs": [
    {
     "data": {
      "text/markdown": [
       "Python provides two main ways to sort lists:\n",
       "\n",
       "1.  **`list.sort()`**: This method sorts the list **in-place**, meaning it modifies the original list and returns `None`.\n",
       "2.  **`sorted()` (built-in function)**: This function returns a **new sorted list**, leaving the original list unchanged. It can also sort any iterable (like tuples, strings, etc.), always returning a list.\n",
       "\n",
       "Let's look at examples for both, along with common sorting options.\n",
       "\n",
       "---\n",
       "\n",
       "### 1. `list.sort()` - Sorts In-Place\n",
       "\n",
       "This method is available directly on list objects.\n",
       "\n",
       "```python\n",
       "print(\"--- Using list.sort() ---\")\n",
       "\n",
       "# Original list\n",
       "my_list = [3, 1, 4, 1, 5, 9, 2, 6]\n",
       "print(f\"Original list: {my_list}\")\n",
       "\n",
       "# Sort in ascending order (default)\n",
       "my_list.sort()\n",
       "print(f\"Sorted ascending (in-place): {my_list}\")\n",
       "\n",
       "# Sort in descending order\n",
       "my_list.sort(reverse=True)\n",
       "print(f\"Sorted descending (in-place): {my_list}\")\n",
       "\n",
       "# --- Custom sorting using 'key' ---\n",
       "words = [\"banana\", \"Apple\", \"kiwi\", \"Grapefruit\"]\n",
       "print(f\"\\nOriginal words: {words}\")\n",
       "\n",
       "# Sort by string length\n",
       "words.sort(key=len)\n",
       "print(f\"Sorted by length: {words}\")\n",
       "\n",
       "# Sort case-insensitively (e.g., 'Apple' comes before 'banana')\n",
       "words.sort(key=str.lower)\n",
       "print(f\"Sorted case-insensitively: {words}\")\n",
       "\n",
       "# Sort a list of dictionaries by a specific key (e.g., 'age')\n",
       "people = [\n",
       "    {\"name\": \"Alice\", \"age\": 30},\n",
       "    {\"name\": \"Bob\", \"age\": 25},\n",
       "    {\"name\": \"Charlie\", \"age\": 35}\n",
       "]\n",
       "print(f\"\\nOriginal people: {people}\")\n",
       "\n",
       "# Sort by 'age'\n",
       "people.sort(key=lambda person: person[\"age\"])\n",
       "print(f\"Sorted by age: {people}\")\n",
       "\n",
       "# Sort by 'name' in reverse order\n",
       "people.sort(key=lambda person: person[\"name\"], reverse=True)\n",
       "print(f\"Sorted by name (reverse): {people}\")\n",
       "```\n",
       "\n",
       "**Key characteristics of `list.sort()`:**\n",
       "*   Modifies the list directly.\n",
       "*   Returns `None` (so you can't do `new_list = my_list.sort()`).\n",
       "*   Generally slightly more efficient for large lists if you don't need the original.\n",
       "\n",
       "---\n",
       "\n",
       "### 2. `sorted()` - Returns a New Sorted List\n",
       "\n",
       "This built-in function is more flexible as it can take any iterable and always returns a *new* list, leaving the original untouched.\n",
       "\n",
       "```python\n",
       "print(\"\\n--- Using sorted() ---\")\n",
       "\n",
       "# Original list\n",
       "my_list_original = [3, 1, 4, 1, 5, 9, 2, 6]\n",
       "print(f\"Original list: {my_list_original}\")\n",
       "\n",
       "# Sort in ascending order (default)\n",
       "new_list_asc = sorted(my_list_original)\n",
       "print(f\"New list (ascending): {new_list_asc}\")\n",
       "print(f\"Original list after sorted(): {my_list_original}\") # Original is unchanged!\n",
       "\n",
       "# Sort in descending order\n",
       "new_list_desc = sorted(my_list_original, reverse=True)\n",
       "print(f\"New list (descending): {new_list_desc}\")\n",
       "\n",
       "# --- Custom sorting using 'key' ---\n",
       "words_original = [\"banana\", \"Apple\", \"kiwi\", \"Grapefruit\"]\n",
       "print(f\"\\nOriginal words: {words_original}\")\n",
       "\n",
       "# Sort by string length\n",
       "words_by_length = sorted(words_original, key=len)\n",
       "print(f\"New words (by length): {words_by_length}\")\n",
       "\n",
       "# Sort case-insensitively\n",
       "words_case_insensitive = sorted(words_original, key=str.lower)\n",
       "print(f\"New words (case-insensitive): {words_case_insensitive}\")\n",
       "\n",
       "# Sort a list of dictionaries by a specific key (e.g., 'age')\n",
       "people_original = [\n",
       "    {\"name\": \"Alice\", \"age\": 30},\n",
       "    {\"name\": \"Bob\", \"age\": 25},\n",
       "    {\"name\": \"Charlie\", \"age\": 35}\n",
       "]\n",
       "print(f\"\\nOriginal people: {people_original}\")\n",
       "\n",
       "# Sort by 'age'\n",
       "people_by_age = sorted(people_original, key=lambda person: person[\"age\"])\n",
       "print(f\"New people (by age): {people_by_age}\")\n",
       "\n",
       "# Sort a tuple (sorted() works on any iterable, returns a list)\n",
       "my_tuple = (5, 2, 8, 1, 9)\n",
       "sorted_tuple = sorted(my_tuple)\n",
       "print(f\"\\nOriginal tuple: {my_tuple}\")\n",
       "print(f\"Sorted tuple (as list): {sorted_tuple}\")\n",
       "```\n",
       "\n",
       "**Key characteristics of `sorted()`:**\n",
       "*   Returns a *new* list, leaving the original iterable untouched.\n",
       "*   Can sort any iterable (lists, tuples, sets, strings, etc.), but *always* returns a list.\n",
       "*   Useful when you need both the original and a sorted version.\n",
       "\n",
       "---\n",
       "\n",
       "### When to choose which:\n",
       "\n",
       "*   **Use `list.sort()`** when you:\n",
       "    *   Don't need the original order of the list.\n",
       "    *   Are working with a large list and memory efficiency is critical (avoiding creating a copy).\n",
       "*   **Use `sorted()`** when you:\n",
       "    *   Need to preserve the original list.\n",
       "    *   Want to sort an iterable that isn't a list (like a tuple or set).\n",
       "    *   Prefer a functional programming style where you transform data without side effects.\n",
       "\n",
       "Both methods use Python's highly optimized **Timsort** algorithm, which is a hybrid stable sorting algorithm efficient for many kinds of real-world data."
      ],
      "text/plain": [
       "<IPython.core.display.Markdown object>"
      ]
     },
     "metadata": {},
     "output_type": "display_data"
    }
   ],
   "source": [
    "from IPython.display import Markdown\n",
    "\n",
    "response = client.models.generate_content(\n",
    "    model=MODEL_ID,\n",
    "    contents=\"Give me python code to sort a list\"\n",
    ")\n",
    "\n",
    "display(Markdown(response.text))"
   ]
  },
  {
   "cell_type": "markdown",
   "metadata": {},
   "source": [
    "# Data"
   ]
  },
  {
   "cell_type": "markdown",
   "metadata": {},
   "source": [
    "## Database Integration"
   ]
  },
  {
   "cell_type": "code",
   "execution_count": 91,
   "metadata": {},
   "outputs": [
    {
     "name": "stdout",
     "output_type": "stream",
     "text": [
      "2025-08-17 19:06:09,697 INFO sqlalchemy.engine.Engine BEGIN (implicit)\n",
      "2025-08-17 19:06:09,698 INFO sqlalchemy.engine.Engine SELECT `Inventory`.`ItemId` AS `Inventory_ItemId`, `Inventory`.`ItemName` AS `Inventory_ItemName`, `Inventory`.`ItemCategory` AS `Inventory_ItemCategory`, `Inventory`.`ItemQuantity` AS `Inventory_ItemQuantity`, `Inventory`.`UnitsSold` AS `Inventory_UnitsSold`, `Inventory`.`Weight` AS `Inventory_Weight`, `Inventory`.`Size` AS `Inventory_Size`, `Inventory`.`Priority` AS `Inventory_Priority`, `Inventory`.`Location` AS `Inventory_Location`, `Inventory`.`Date` AS `Inventory_Date`, `Inventory`.`Dispose` AS `Inventory_Dispose` \n",
      "FROM `Inventory`\n",
      "2025-08-17 19:06:09,698 INFO sqlalchemy.engine.Engine [cached since 2005s ago] {}\n",
      "2025-08-17 19:06:09,699 INFO sqlalchemy.engine.Engine SELECT `Order`.`OrderId` AS `Order_OrderId`, `Order`.`ItemId` AS `Order_ItemId`, `Order`.`OrderQuantity` AS `Order_OrderQuantity`, `Order`.`Sales` AS `Order_Sales`, `Order`.`Price` AS `Order_Price`, `Order`.`Discount` AS `Order_Discount`, `Order`.`Profit` AS `Order_Profit`, `Order`.`DateOrdered` AS `Order_DateOrdered`, `Order`.`DateReceived` AS `Order_DateReceived`, `Order`.`CustomerSegment` AS `Order_CustomerSegment` \n",
      "FROM `Order`\n",
      "2025-08-17 19:06:09,699 INFO sqlalchemy.engine.Engine [cached since 2005s ago] {}\n",
      "2025-08-17 19:06:09,700 INFO sqlalchemy.engine.Engine ROLLBACK\n"
     ]
    }
   ],
   "source": [
    "import numpy as np\n",
    "import pandas as pd\n",
    "import os\n",
    "import sys\n",
    "\n",
    "sys.path.append('../../')\n",
    "\n",
    "from Database.db import SessionLocal\n",
    "from Database_Table import Inventory, Order\n",
    "\n",
    "def getDbContent():\n",
    "    session = SessionLocal()\n",
    "    inventory_records = session.query(Inventory).all()\n",
    "    order_records = session.query(Order).all()\n",
    "    session.close()\n",
    "    return inventory_records, order_records\n",
    "\n",
    "inventory, order = getDbContent()"
   ]
  },
  {
   "cell_type": "code",
   "execution_count": 92,
   "metadata": {},
   "outputs": [
    {
     "data": {
      "text/plain": [
       "'Laptop'"
      ]
     },
     "execution_count": 92,
     "metadata": {},
     "output_type": "execute_result"
    }
   ],
   "source": [
    "inventory[0].ItemName"
   ]
  },
  {
   "cell_type": "code",
   "execution_count": 93,
   "metadata": {},
   "outputs": [],
   "source": [
    "def dbtoList(records):\n",
    "    output_list = []\n",
    "    for r in records:\n",
    "        if isinstance(r, Inventory):\n",
    "            data = {\n",
    "                \"ItemId\": r.ItemId, \n",
    "                \"ItemName\": r.ItemName,\n",
    "                \"Category\": r.ItemCategory,\n",
    "                \"Quantity\": r.ItemQuantity, \n",
    "                \"UnitsSold\": r.UnitsSold,\n",
    "                \"Weight\": r.Weight, \n",
    "                \"Size\": r.Size,\n",
    "                \"Priority\": r.Priority, \n",
    "                \"Location\": r.Location,\n",
    "                \"Date\": r.Date, \n",
    "                \"Dispose\": r.Dispose                \n",
    "            }\n",
    "        elif isinstance(r, Order):\n",
    "            data = {\n",
    "                \"OrderId\": r.OrderId,\n",
    "                \"ItemId\": r.ItemId, \n",
    "                \"OrderQuantity\": r.OrderQuantity, \n",
    "                \"Sales\": r.Sales, \n",
    "                \"Price\": r.Price, \n",
    "                \"Discount\": r.Discount,\n",
    "                \"Profit\": r.Profit, \n",
    "                \"DateOrdered\": r.DateOrdered,\n",
    "                \"DateReceived\": r.DateReceived,\n",
    "                \"CustomerSegment\": r.CustomerSegment\n",
    "            }\n",
    "        else:\n",
    "            continue\n",
    "        output_list.append(data)\n",
    "    \n",
    "    return output_list\n",
    "\n",
    "inventoryData = dbtoList(inventory)\n",
    "orderData = dbtoList(order)"
   ]
  },
  {
   "cell_type": "markdown",
   "metadata": {},
   "source": [
    "## Supervised Models"
   ]
  },
  {
   "cell_type": "code",
   "execution_count": 127,
   "metadata": {},
   "outputs": [],
   "source": [
    "import pickle\n",
    "import joblib\n",
    "from datetime import datetime\n",
    "\n",
    "class Supervised_Models:\n",
    "    # Location Prediction Model\n",
    "    def predict_location(input_data):\n",
    "        with open('../../Supervised models/Samuel/storage_prediction_model.pkl', 'rb') as file:\n",
    "            storage_prediction_model = pickle.load(file)\n",
    "            \n",
    "        categorical_features = {\n",
    "            'Priority': ['High','Low','Medium'],\n",
    "            'Product_Type': ['Clothing','Technology','Other','Sports and Fitness'],\n",
    "            'Size': ['Large','Medium','Small']\n",
    "        }\n",
    "        numerical_features = ['Order_Quantity', 'Weight']\n",
    "        one_hot_columns = []\n",
    "        \n",
    "        for feature, values in categorical_features.items():\n",
    "            for value in values:\n",
    "                one_hot_columns.append(f\"{feature}_{value}\")\n",
    "            \n",
    "        # Combine with numerical features to get all feature names\n",
    "        all_feature_names = one_hot_columns + numerical_features\n",
    "\n",
    "        features_dict = {col: 0 for col in all_feature_names}\n",
    "    \n",
    "        # Set one-hot encoded features\n",
    "        for feature, values in categorical_features.items():\n",
    "            if feature in input_data:\n",
    "                selected_value = input_data[feature]\n",
    "                one_hot_col = f\"{feature}_{selected_value}\"\n",
    "                if one_hot_col in features_dict:\n",
    "                    features_dict[one_hot_col] = 1\n",
    "    \n",
    "        # Set numerical features\n",
    "        for feature in numerical_features:\n",
    "            if feature in input_data:\n",
    "                features_dict[feature] = float(input_data[feature])\n",
    "        \n",
    "        # Convert to array in the correct order\n",
    "        features_array = np.array([features_dict[col] for col in all_feature_names]).reshape(1, -1)\n",
    "\n",
    "        prediction = storage_prediction_model.predict(features_array)\n",
    "        return prediction\n",
    "\n",
    "    def demand_forecast_preprocessor(order_data, inventory_data):\n",
    "        # Create Dataframe\n",
    "        order = pd.DataFrame(order_data)\n",
    "        inventory = pd.DataFrame(inventory_data)\n",
    "\n",
    "        # Ensure dates are in datetime format\n",
    "        order['DateOrdered'] = pd.to_datetime(order['DateOrdered'])\n",
    "        \n",
    "        # Extract Month (period or string, depending on preference)\n",
    "        order['OrderMonth'] = order['DateOrdered'].dt.to_period('M')\n",
    "        \n",
    "        # Merge with Category lookup table\n",
    "        merged_df = order.merge(inventory, on='ItemId', how='left')\n",
    "        \n",
    "        # Group and aggregate\n",
    "        result_df = (\n",
    "            merged_df\n",
    "            .groupby(['OrderMonth', 'Category', 'CustomerSegment'], as_index=False)\n",
    "            .agg(\n",
    "                AveragePrice=('Price', 'mean'),\n",
    "                AverageDiscount=('Discount', 'mean')\n",
    "            )\n",
    "        )\n",
    "        \n",
    "        return result_df\n",
    "\n",
    "    # Demand forecast model\n",
    "    def predict_demand_forecast(input_data):\n",
    "        demand_forecast_model = joblib.load('../../Supervised models/ShernFai/model/salesforecast(categories).pkl')\n",
    "        with open('../../Supervised models/ShernFai/model/salesforecast_preprocessor.pkl', 'rb') as f:\n",
    "            preprocessor_data = pickle.load(f)\n",
    "\n",
    "        categories = {\n",
    "            \"Clothing\" : [\n",
    "                \"Cleats\",\n",
    "                \"Men's Footwear\",\n",
    "                \"Women's Apparel\"\n",
    "            ],\n",
    "            \"Technology\": [\n",
    "                \"Electronics\",\n",
    "                \"Video Games\",\n",
    "                \"Cameras\",\n",
    "                \"Computers\",\n",
    "            ],\n",
    "            \"Sports and Fitness\": [\n",
    "                \"Cardio Equipment\",\n",
    "                \"Indoor/Outdoor Games\",\n",
    "                \"Water Sports\",\n",
    "                \"Shop By Sport\",\n",
    "                \"Camping & Hiking\",\n",
    "                \"Fishing\"\n",
    "            ],\n",
    "            \"Other\": [\n",
    "                \"Garden\",\n",
    "                \"Pet Supplies\"\n",
    "            ]\n",
    "        }\n",
    "\n",
    "        cat_keys = list(categories.keys())\n",
    "\n",
    "        # Extract preprocessor components\n",
    "        le_category = preprocessor_data['label_encoder_category']\n",
    "        reference_date = preprocessor_data['reference_date']\n",
    "        unique_categories = preprocessor_data['unique_categories']\n",
    "        feature_columns = preprocessor_data['feature_columns']\n",
    "\n",
    "        # Get data\n",
    "        category_name = input_data['category']\n",
    "        future_month = input_data['month']\n",
    "        avg_price = float(input_data['avg_price'])\n",
    "        customer_segment = input_data['customer_segment']\n",
    "        discount_rate = float(input_data['discount_rate'])\n",
    "        \n",
    "        # Parse the future date\n",
    "        future_date = pd.to_datetime(future_month)\n",
    "        \n",
    "        # Calculate time features for the future date\n",
    "        months_since_start = ((future_date - reference_date).days / 30.44)\n",
    "        \n",
    "        # Create test data with numerical time features\n",
    "        test_data = {\n",
    "            'Category Name': category_name,\n",
    "            'Average Product Price': avg_price,\n",
    "            'Customer Segment': customer_segment,\n",
    "            'Order Item Discount Rate': discount_rate,\n",
    "            # Time features (numerical - can handle ANY future date!)\n",
    "            'Year': future_date.year,\n",
    "            'Month': future_date.month,\n",
    "            'Quarter': future_date.quarter,\n",
    "            'Months_Since_Start': int(months_since_start),\n",
    "            'Month_Sin': np.sin(2 * np.pi * future_date.month / 12),\n",
    "            'Month_Cos': np.cos(2 * np.pi * future_date.month / 12),\n",
    "            'Year_Trend': future_date.year - reference_date.year\n",
    "        }\n",
    "        \n",
    "        # Create DataFrame\n",
    "        test_df = pd.DataFrame([test_data])\n",
    "        \n",
    "        # Handle unknown category\n",
    "        if category_name not in cat_keys:\n",
    "            print(f\"Unknown category '{category_name}' - using default: {cat_keys[0]}\")\n",
    "            test_df['Category Name'] = cat_keys[0]\n",
    "            category_name = cat_keys[0]\n",
    "        \n",
    "        # One-hot encode customer segment\n",
    "        test_df = pd.get_dummies(test_df, columns=['Customer Segment'], drop_first=True)\n",
    "        \n",
    "        # Ensure same columns as training (crucial!)\n",
    "        test_df = test_df.reindex(columns=feature_columns, fill_value=0)\n",
    "        \n",
    "        # Make prediction\n",
    "        total = 0\n",
    "        num = len(categories[category_name])\n",
    "        for subclass in categories[category_name]:\n",
    "            test_df['Category Name'] = subclass\n",
    "            test_df['Category Name'] = le_category.transform(test_df['Category Name'])\n",
    "            total += demand_forecast_model.predict(test_df)\n",
    "        \n",
    "        avg_demand = total / num\n",
    "        \n",
    "        return avg_demand\n",
    "\n",
    "    def detect_anomalies(inventory_list):\n",
    "        anomalies_detected = []\n",
    "        for item in inventory_list:\n",
    "            current_location = item['Location']\n",
    "            predicted_location = Supervised_Models.predict_location({\n",
    "                \"Priority\": item['Priority'],\n",
    "                \"Product_Type\": item['Category'],\n",
    "                \"Size\": item['Size'],\n",
    "                \"Order_Quantity\": item['Quantity'],\n",
    "                \"Weight\": item['Weight']\n",
    "            })[0]\n",
    "\n",
    "            #print(f\"\\nCurrent Location: {current_location}\")\n",
    "            #print(f\"Predicted Location: {predicted_location}\")\n",
    "            if current_location != predicted_location:\n",
    "                #print(f\"Anomaly detected! Item id:{item['ItemId']} is stored at location {current_location} while it should be stored at {predicted_location}.\")\n",
    "                anomalies_detected.append({'ItemId': item['ItemId'], 'ItemName': item['ItemName'], 'CurrentLocation': current_location, 'PredictedLocation': predicted_location})\n",
    "\n",
    "        return anomalies_detected\n",
    "\n",
    "s = Supervised_Models"
   ]
  },
  {
   "cell_type": "code",
   "execution_count": 119,
   "metadata": {},
   "outputs": [
    {
     "name": "stdout",
     "output_type": "stream",
     "text": [
      "[{'ItemId': 1, 'ItemName': 'Laptop', 'Category': 'Technology', 'Quantity': 100, 'UnitsSold': 50, 'Weight': 1.5, 'Size': 10.0, 'Priority': 'High', 'Location': 'A-1', 'Date': '2025-06-01', 'Dispose': False}, {'ItemId': 2, 'ItemName': 'Chair', 'Category': 'Other', 'Quantity': 200, 'UnitsSold': 100, 'Weight': 2.0, 'Size': 20.0, 'Priority': 'Medium', 'Location': 'B-2', 'Date': '2025-07-01', 'Dispose': False}, {'ItemId': 3, 'ItemName': 'Laptop', 'Category': 'Technology', 'Quantity': 100, 'UnitsSold': 50, 'Weight': 1.5, 'Size': 10.0, 'Priority': 'High', 'Location': 'A-1', 'Date': '2025-06-01', 'Dispose': False}, {'ItemId': 4, 'ItemName': 'Chair', 'Category': 'Other', 'Quantity': 200, 'UnitsSold': 100, 'Weight': 2.0, 'Size': 20.0, 'Priority': 'Medium', 'Location': 'B-2', 'Date': '2025-07-01', 'Dispose': False}, {'ItemId': 5, 'ItemName': 'Laptop', 'Category': 'Technology', 'Quantity': 100, 'UnitsSold': 50, 'Weight': 1.5, 'Size': 10.0, 'Priority': 'High', 'Location': 'A-1', 'Date': '2025-06-01', 'Dispose': False}, {'ItemId': 6, 'ItemName': 'Chair', 'Category': 'Other', 'Quantity': 200, 'UnitsSold': 100, 'Weight': 2.0, 'Size': 20.0, 'Priority': 'Medium', 'Location': 'B-2', 'Date': '2025-07-01', 'Dispose': False}, {'ItemId': 7, 'ItemName': 'Laptop', 'Category': 'Technology', 'Quantity': 100, 'UnitsSold': 50, 'Weight': 1.5, 'Size': 10.0, 'Priority': 'High', 'Location': 'A-1', 'Date': '2025-06-01', 'Dispose': False}, {'ItemId': 8, 'ItemName': 'Chair', 'Category': 'Other', 'Quantity': 200, 'UnitsSold': 100, 'Weight': 2.0, 'Size': 20.0, 'Priority': 'Medium', 'Location': 'B-2', 'Date': '2025-07-01', 'Dispose': False}, {'ItemId': 9, 'ItemName': None, 'Category': 'Technology', 'Quantity': 100, 'UnitsSold': 50, 'Weight': 1.5, 'Size': 10.0, 'Priority': 'High', 'Location': 'A-1', 'Date': '2025-06-01', 'Dispose': False}, {'ItemId': 10, 'ItemName': None, 'Category': 'Other', 'Quantity': 200, 'UnitsSold': 100, 'Weight': 2.0, 'Size': 20.0, 'Priority': 'Medium', 'Location': 'B-2', 'Date': '2025-07-01', 'Dispose': False}, {'ItemId': 11, 'ItemName': 'Laptop', 'Category': 'Technology', 'Quantity': 100, 'UnitsSold': 50, 'Weight': 1.5, 'Size': 10.0, 'Priority': 'High', 'Location': 'A-1', 'Date': '2025-06-01', 'Dispose': False}, {'ItemId': 12, 'ItemName': 'Chair', 'Category': 'Other', 'Quantity': 200, 'UnitsSold': 100, 'Weight': 2.0, 'Size': 20.0, 'Priority': 'Medium', 'Location': 'B-2', 'Date': '2025-07-01', 'Dispose': False}]\n"
     ]
    }
   ],
   "source": [
    "print(inventoryData)"
   ]
  },
  {
   "cell_type": "code",
   "execution_count": 121,
   "metadata": {},
   "outputs": [
    {
     "data": {
      "text/html": [
       "<div>\n",
       "<style scoped>\n",
       "    .dataframe tbody tr th:only-of-type {\n",
       "        vertical-align: middle;\n",
       "    }\n",
       "\n",
       "    .dataframe tbody tr th {\n",
       "        vertical-align: top;\n",
       "    }\n",
       "\n",
       "    .dataframe thead th {\n",
       "        text-align: right;\n",
       "    }\n",
       "</style>\n",
       "<table border=\"1\" class=\"dataframe\">\n",
       "  <thead>\n",
       "    <tr style=\"text-align: right;\">\n",
       "      <th></th>\n",
       "      <th>ItemId</th>\n",
       "      <th>ItemName</th>\n",
       "      <th>Category</th>\n",
       "      <th>Quantity</th>\n",
       "      <th>UnitsSold</th>\n",
       "      <th>Weight</th>\n",
       "      <th>Size</th>\n",
       "      <th>Priority</th>\n",
       "      <th>Location</th>\n",
       "      <th>Date</th>\n",
       "      <th>Dispose</th>\n",
       "    </tr>\n",
       "  </thead>\n",
       "  <tbody>\n",
       "    <tr>\n",
       "      <th>0</th>\n",
       "      <td>1</td>\n",
       "      <td>Laptop</td>\n",
       "      <td>Technology</td>\n",
       "      <td>100</td>\n",
       "      <td>50</td>\n",
       "      <td>1.5</td>\n",
       "      <td>10.0</td>\n",
       "      <td>High</td>\n",
       "      <td>A-1</td>\n",
       "      <td>2025-06-01</td>\n",
       "      <td>False</td>\n",
       "    </tr>\n",
       "    <tr>\n",
       "      <th>1</th>\n",
       "      <td>2</td>\n",
       "      <td>Chair</td>\n",
       "      <td>Other</td>\n",
       "      <td>200</td>\n",
       "      <td>100</td>\n",
       "      <td>2.0</td>\n",
       "      <td>20.0</td>\n",
       "      <td>Medium</td>\n",
       "      <td>B-2</td>\n",
       "      <td>2025-07-01</td>\n",
       "      <td>False</td>\n",
       "    </tr>\n",
       "    <tr>\n",
       "      <th>2</th>\n",
       "      <td>3</td>\n",
       "      <td>Laptop</td>\n",
       "      <td>Technology</td>\n",
       "      <td>100</td>\n",
       "      <td>50</td>\n",
       "      <td>1.5</td>\n",
       "      <td>10.0</td>\n",
       "      <td>High</td>\n",
       "      <td>A-1</td>\n",
       "      <td>2025-06-01</td>\n",
       "      <td>False</td>\n",
       "    </tr>\n",
       "    <tr>\n",
       "      <th>3</th>\n",
       "      <td>4</td>\n",
       "      <td>Chair</td>\n",
       "      <td>Other</td>\n",
       "      <td>200</td>\n",
       "      <td>100</td>\n",
       "      <td>2.0</td>\n",
       "      <td>20.0</td>\n",
       "      <td>Medium</td>\n",
       "      <td>B-2</td>\n",
       "      <td>2025-07-01</td>\n",
       "      <td>False</td>\n",
       "    </tr>\n",
       "    <tr>\n",
       "      <th>4</th>\n",
       "      <td>5</td>\n",
       "      <td>Laptop</td>\n",
       "      <td>Technology</td>\n",
       "      <td>100</td>\n",
       "      <td>50</td>\n",
       "      <td>1.5</td>\n",
       "      <td>10.0</td>\n",
       "      <td>High</td>\n",
       "      <td>A-1</td>\n",
       "      <td>2025-06-01</td>\n",
       "      <td>False</td>\n",
       "    </tr>\n",
       "    <tr>\n",
       "      <th>5</th>\n",
       "      <td>6</td>\n",
       "      <td>Chair</td>\n",
       "      <td>Other</td>\n",
       "      <td>200</td>\n",
       "      <td>100</td>\n",
       "      <td>2.0</td>\n",
       "      <td>20.0</td>\n",
       "      <td>Medium</td>\n",
       "      <td>B-2</td>\n",
       "      <td>2025-07-01</td>\n",
       "      <td>False</td>\n",
       "    </tr>\n",
       "    <tr>\n",
       "      <th>6</th>\n",
       "      <td>7</td>\n",
       "      <td>Laptop</td>\n",
       "      <td>Technology</td>\n",
       "      <td>100</td>\n",
       "      <td>50</td>\n",
       "      <td>1.5</td>\n",
       "      <td>10.0</td>\n",
       "      <td>High</td>\n",
       "      <td>A-1</td>\n",
       "      <td>2025-06-01</td>\n",
       "      <td>False</td>\n",
       "    </tr>\n",
       "    <tr>\n",
       "      <th>7</th>\n",
       "      <td>8</td>\n",
       "      <td>Chair</td>\n",
       "      <td>Other</td>\n",
       "      <td>200</td>\n",
       "      <td>100</td>\n",
       "      <td>2.0</td>\n",
       "      <td>20.0</td>\n",
       "      <td>Medium</td>\n",
       "      <td>B-2</td>\n",
       "      <td>2025-07-01</td>\n",
       "      <td>False</td>\n",
       "    </tr>\n",
       "    <tr>\n",
       "      <th>8</th>\n",
       "      <td>9</td>\n",
       "      <td>None</td>\n",
       "      <td>Technology</td>\n",
       "      <td>100</td>\n",
       "      <td>50</td>\n",
       "      <td>1.5</td>\n",
       "      <td>10.0</td>\n",
       "      <td>High</td>\n",
       "      <td>A-1</td>\n",
       "      <td>2025-06-01</td>\n",
       "      <td>False</td>\n",
       "    </tr>\n",
       "    <tr>\n",
       "      <th>9</th>\n",
       "      <td>10</td>\n",
       "      <td>None</td>\n",
       "      <td>Other</td>\n",
       "      <td>200</td>\n",
       "      <td>100</td>\n",
       "      <td>2.0</td>\n",
       "      <td>20.0</td>\n",
       "      <td>Medium</td>\n",
       "      <td>B-2</td>\n",
       "      <td>2025-07-01</td>\n",
       "      <td>False</td>\n",
       "    </tr>\n",
       "    <tr>\n",
       "      <th>10</th>\n",
       "      <td>11</td>\n",
       "      <td>Laptop</td>\n",
       "      <td>Technology</td>\n",
       "      <td>100</td>\n",
       "      <td>50</td>\n",
       "      <td>1.5</td>\n",
       "      <td>10.0</td>\n",
       "      <td>High</td>\n",
       "      <td>A-1</td>\n",
       "      <td>2025-06-01</td>\n",
       "      <td>False</td>\n",
       "    </tr>\n",
       "    <tr>\n",
       "      <th>11</th>\n",
       "      <td>12</td>\n",
       "      <td>Chair</td>\n",
       "      <td>Other</td>\n",
       "      <td>200</td>\n",
       "      <td>100</td>\n",
       "      <td>2.0</td>\n",
       "      <td>20.0</td>\n",
       "      <td>Medium</td>\n",
       "      <td>B-2</td>\n",
       "      <td>2025-07-01</td>\n",
       "      <td>False</td>\n",
       "    </tr>\n",
       "  </tbody>\n",
       "</table>\n",
       "</div>"
      ],
      "text/plain": [
       "    ItemId ItemName    Category  Quantity  UnitsSold  Weight  Size Priority  \\\n",
       "0        1   Laptop  Technology       100         50     1.5  10.0     High   \n",
       "1        2    Chair       Other       200        100     2.0  20.0   Medium   \n",
       "2        3   Laptop  Technology       100         50     1.5  10.0     High   \n",
       "3        4    Chair       Other       200        100     2.0  20.0   Medium   \n",
       "4        5   Laptop  Technology       100         50     1.5  10.0     High   \n",
       "5        6    Chair       Other       200        100     2.0  20.0   Medium   \n",
       "6        7   Laptop  Technology       100         50     1.5  10.0     High   \n",
       "7        8    Chair       Other       200        100     2.0  20.0   Medium   \n",
       "8        9     None  Technology       100         50     1.5  10.0     High   \n",
       "9       10     None       Other       200        100     2.0  20.0   Medium   \n",
       "10      11   Laptop  Technology       100         50     1.5  10.0     High   \n",
       "11      12    Chair       Other       200        100     2.0  20.0   Medium   \n",
       "\n",
       "   Location        Date  Dispose  \n",
       "0       A-1  2025-06-01    False  \n",
       "1       B-2  2025-07-01    False  \n",
       "2       A-1  2025-06-01    False  \n",
       "3       B-2  2025-07-01    False  \n",
       "4       A-1  2025-06-01    False  \n",
       "5       B-2  2025-07-01    False  \n",
       "6       A-1  2025-06-01    False  \n",
       "7       B-2  2025-07-01    False  \n",
       "8       A-1  2025-06-01    False  \n",
       "9       B-2  2025-07-01    False  \n",
       "10      A-1  2025-06-01    False  \n",
       "11      B-2  2025-07-01    False  "
      ]
     },
     "execution_count": 121,
     "metadata": {},
     "output_type": "execute_result"
    }
   ],
   "source": [
    "pd.DataFrame(inventoryData)"
   ]
  },
  {
   "cell_type": "code",
   "execution_count": 125,
   "metadata": {},
   "outputs": [
    {
     "name": "stdout",
     "output_type": "stream",
     "text": [
      "Laptop\n",
      "Chair\n",
      "Laptop\n",
      "Chair\n",
      "Laptop\n",
      "Chair\n",
      "Laptop\n",
      "Chair\n",
      "None\n",
      "None\n",
      "Laptop\n",
      "Chair\n",
      "[{'ItemId': 1, 'ItemName': 'Laptop', 'CurrentLocation': 'A-1', 'PredictedLocation': 'B-5'}, {'ItemId': 2, 'ItemName': 'Chair', 'CurrentLocation': 'B-2', 'PredictedLocation': 'B-5'}, {'ItemId': 3, 'ItemName': 'Laptop', 'CurrentLocation': 'A-1', 'PredictedLocation': 'B-5'}, {'ItemId': 4, 'ItemName': 'Chair', 'CurrentLocation': 'B-2', 'PredictedLocation': 'B-5'}, {'ItemId': 5, 'ItemName': 'Laptop', 'CurrentLocation': 'A-1', 'PredictedLocation': 'B-5'}, {'ItemId': 6, 'ItemName': 'Chair', 'CurrentLocation': 'B-2', 'PredictedLocation': 'B-5'}, {'ItemId': 7, 'ItemName': 'Laptop', 'CurrentLocation': 'A-1', 'PredictedLocation': 'B-5'}, {'ItemId': 8, 'ItemName': 'Chair', 'CurrentLocation': 'B-2', 'PredictedLocation': 'B-5'}, {'ItemId': 9, 'ItemName': None, 'CurrentLocation': 'A-1', 'PredictedLocation': 'B-5'}, {'ItemId': 10, 'ItemName': None, 'CurrentLocation': 'B-2', 'PredictedLocation': 'B-5'}, {'ItemId': 11, 'ItemName': 'Laptop', 'CurrentLocation': 'A-1', 'PredictedLocation': 'B-5'}, {'ItemId': 12, 'ItemName': 'Chair', 'CurrentLocation': 'B-2', 'PredictedLocation': 'B-5'}]\n"
     ]
    }
   ],
   "source": [
    "print(s.detect_anomalies(inventoryData))"
   ]
  },
  {
   "cell_type": "code",
   "execution_count": 99,
   "metadata": {},
   "outputs": [
    {
     "name": "stdout",
     "output_type": "stream",
     "text": [
      "['B-3']\n"
     ]
    }
   ],
   "source": [
    "# Testing\n",
    "print(s.predict_location({\n",
    "    \"Priority\": \"Medium\",\n",
    "    \"Product_Type\": \"Sports and Fitness\",\n",
    "    \"Size\": \"Medium\",\n",
    "    \"Order_Quantity\": 12,\n",
    "    \"Weight\": 10.78\n",
    "}))"
   ]
  },
  {
   "cell_type": "code",
   "execution_count": 100,
   "metadata": {},
   "outputs": [
    {
     "data": {
      "text/html": [
       "<div>\n",
       "<style scoped>\n",
       "    .dataframe tbody tr th:only-of-type {\n",
       "        vertical-align: middle;\n",
       "    }\n",
       "\n",
       "    .dataframe tbody tr th {\n",
       "        vertical-align: top;\n",
       "    }\n",
       "\n",
       "    .dataframe thead th {\n",
       "        text-align: right;\n",
       "    }\n",
       "</style>\n",
       "<table border=\"1\" class=\"dataframe\">\n",
       "  <thead>\n",
       "    <tr style=\"text-align: right;\">\n",
       "      <th></th>\n",
       "      <th>OrderMonth</th>\n",
       "      <th>Category</th>\n",
       "      <th>CustomerSegment</th>\n",
       "      <th>AveragePrice</th>\n",
       "      <th>AverageDiscount</th>\n",
       "    </tr>\n",
       "  </thead>\n",
       "  <tbody>\n",
       "    <tr>\n",
       "      <th>0</th>\n",
       "      <td>2025-06</td>\n",
       "      <td>Technology</td>\n",
       "      <td>Corporate</td>\n",
       "      <td>100.0</td>\n",
       "      <td>10.0</td>\n",
       "    </tr>\n",
       "    <tr>\n",
       "      <th>1</th>\n",
       "      <td>2025-07</td>\n",
       "      <td>Other</td>\n",
       "      <td>Consumer</td>\n",
       "      <td>100.0</td>\n",
       "      <td>5.0</td>\n",
       "    </tr>\n",
       "  </tbody>\n",
       "</table>\n",
       "</div>"
      ],
      "text/plain": [
       "  OrderMonth    Category CustomerSegment  AveragePrice  AverageDiscount\n",
       "0    2025-06  Technology       Corporate         100.0             10.0\n",
       "1    2025-07       Other        Consumer         100.0              5.0"
      ]
     },
     "execution_count": 100,
     "metadata": {},
     "output_type": "execute_result"
    }
   ],
   "source": [
    "result = s.demand_forecast_preprocessor(orderData, inventoryData)\n",
    "result"
   ]
  },
  {
   "cell_type": "code",
   "execution_count": 101,
   "metadata": {},
   "outputs": [
    {
     "name": "stdout",
     "output_type": "stream",
     "text": [
      "[186.10974]\n"
     ]
    },
    {
     "name": "stderr",
     "output_type": "stream",
     "text": [
      "D:\\Yong Meng Lee\\anaconda3\\envs\\it3100\\lib\\site-packages\\sklearn\\base.py:380: InconsistentVersionWarning: Trying to unpickle estimator LabelEncoder from version 1.5.1 when using version 1.6.1. This might lead to breaking code or invalid results. Use at your own risk. For more info please refer to:\n",
      "https://scikit-learn.org/stable/model_persistence.html#security-maintainability-limitations\n",
      "  warnings.warn(\n"
     ]
    }
   ],
   "source": [
    "print(s.predict_demand_forecast({\n",
    "    'category': \"Clothing\",\n",
    "    'month': \"2025-05\",\n",
    "    'avg_price': 10.0,\n",
    "    'customer_segment': \"Consumer\",\n",
    "    'discount_rate': 0.12\n",
    "}))"
   ]
  },
  {
   "cell_type": "markdown",
   "metadata": {},
   "source": [
    "# Sections"
   ]
  },
  {
   "cell_type": "markdown",
   "metadata": {
    "jp-MarkdownHeadingCollapsed": true
   },
   "source": [
    "## Products Overview"
   ]
  },
  {
   "cell_type": "code",
   "execution_count": null,
   "metadata": {},
   "outputs": [],
   "source": []
  },
  {
   "cell_type": "markdown",
   "metadata": {
    "jp-MarkdownHeadingCollapsed": true
   },
   "source": [
    "## Category Distribution"
   ]
  },
  {
   "cell_type": "code",
   "execution_count": null,
   "metadata": {},
   "outputs": [],
   "source": []
  },
  {
   "cell_type": "markdown",
   "metadata": {
    "jp-MarkdownHeadingCollapsed": true
   },
   "source": [
    "## Product Usage Forecast"
   ]
  },
  {
   "cell_type": "code",
   "execution_count": null,
   "metadata": {},
   "outputs": [],
   "source": []
  },
  {
   "cell_type": "markdown",
   "metadata": {},
   "source": [
    "## Sales Insights"
   ]
  },
  {
   "cell_type": "code",
   "execution_count": null,
   "metadata": {},
   "outputs": [],
   "source": [
    "sales_data = orderData\n",
    "sales_predictions = []\n",
    "product_categories = [\"Clothing\",\"Technology\",\"Sports and Fitness\",\"Other\"]\n",
    "current_inventory = inventoryData\n",
    "usage_probabilities = \"\"\n",
    "\n",
    "sales_insights = client.models.generate_content(\n",
    "    model=MODEL_ID,\n",
    "    contents=\n",
    "f'''Generate a sales insights report that describes information for the following areas:\n",
    "\n",
    "1. Sales Trends: Summarize sales over the past month, quarter, and year. Provide insights on which product categories are seeing the highest demand.\n",
    "2. Product Performance: Analyze the best-selling products by quantity. Highlight the top 3 performing products.\n",
    "3. Product Demand Forecast: Based on the historical sales and usage probability, forecast the demand for the next period.\n",
    "4. Restocking or Discontinuation: Recommend which products should be restocked and which should be discontinued, based on sales trends and inventory levels.\n",
    "\n",
    "Data:\n",
    "- Historical sales data: {sales_data}\n",
    "- Sales volume predictions for next month: {sales_predictions}\n",
    "- Product categories: {product_categories}\n",
    "- Current inventory levels: {current_inventory}\n",
    "- Usage probabilities: {usage_probabilities}'''\n",
    ")\n",
    "\n",
    "display(Markdown(sales_insights.text))"
   ]
  },
  {
   "cell_type": "markdown",
   "metadata": {},
   "source": [
    "## Storage Optimizations"
   ]
  },
  {
   "cell_type": "code",
   "execution_count": 135,
   "metadata": {},
   "outputs": [
    {
     "data": {
      "text/markdown": [
       "Based on the provided data, here are detailed storage optimization recommendations:\n",
       "\n",
       "## Storage Optimization Recommendations\n",
       "\n",
       "This report analyzes your current storage utilization and a model's recommendations to propose strategic optimizations.\n",
       "\n",
       "---\n",
       "\n",
       "### 1. Current Storage Utilization Metrics\n",
       "\n",
       "The current inventory is spread across two primary locations: `A-1` and `B-2`.\n",
       "\n",
       "**1.1 Inventory Breakdown by Location:**\n",
       "\n",
       "*   **Location `A-1`:**\n",
       "    *   **Items Stored:** Laptop (7 units), Item ID 9 (unknown item, 1 unit).\n",
       "    *   **Total Quantity:** 800 units (700 Laptops + 100 Item ID 9).\n",
       "    *   **Total Estimated Weight:** 12 kg (7 * 1.5kg Laptop + 1 * 1.5kg Item ID 9).\n",
       "    *   **Total Estimated Size:** 80.0 units (7 * 10.0 units Laptop + 1 * 10.0 units Item ID 9).\n",
       "    *   **Priority Profile:** All items are designated 'High' priority.\n",
       "    *   **Characteristics:** Houses smaller, lighter, and high-priority items.\n",
       "\n",
       "*   **Location `B-2`:**\n",
       "    *   **Items Stored:** Chair (5 units), Item ID 10 (unknown item, 1 unit).\n",
       "    *   **Total Quantity:** 1200 units (1000 Chairs + 200 Item ID 10).\n",
       "    *   **Total Estimated Weight:** 12 kg (5 * 2.0kg Chair + 1 * 2.0kg Item ID 10).\n",
       "    *   **Total Estimated Size:** 120.0 units (5 * 20.0 units Chair + 1 * 20.0 units Item ID 10).\n",
       "    *   **Priority Profile:** All items are designated 'Medium' priority.\n",
       "    *   **Characteristics:** Houses larger, heavier, and medium-priority items.\n",
       "\n",
       "**1.2 Overall Inventory Summary:**\n",
       "\n",
       "*   **Total Unique Items:** 12 (though ItemName 'Laptop' and 'Chair' are repeated, they represent distinct inventory batches/IDs).\n",
       "*   **Total Stock Quantity:** 2000 units (800 from A-1 + 1200 from B-2).\n",
       "*   **Total Estimated Weight:** 24 kg.\n",
       "*   **Total Estimated Size:** 200 units.\n",
       "*   **Disposal Items:** No items are currently flagged for disposal (`Dispose: False` for all), meaning no immediate space can be reclaimed via disposition.\n",
       "\n",
       "**1.3 Observations on Current State:**\n",
       "*   Current storage seems to be organized by item type and priority, with smaller, high-priority items in `A-1` and larger, medium-priority items in `B-2`.\n",
       "*   Data quality issue: `ItemName` is `None` for `ItemId` 9 and 10. This should be addressed for accurate inventory management.\n",
       "*   The `UnitsSold` metric (e.g., 50% of Laptops and Chairs sold) indicates active inventory, suggesting these items are frequently accessed.\n",
       "\n",
       "---\n",
       "\n",
       "### 2. Model-Predicted Optimal Locations vs. Current Locations\n",
       "\n",
       "The model has provided a radical but potentially highly efficient recommendation: **consolidate all inventory into a single new location, `B-5`**.\n",
       "\n",
       "**2.1 Core Recommendation:**\n",
       "The model suggests moving *every single item* from their current locations (`A-1` and `B-2`) to `B-5`. This implies `B-5` is identified as a significantly more optimal storage solution for your entire current inventory.\n",
       "\n",
       "**2.2 Implications of the Model's Recommendation:**\n",
       "\n",
       "*   **Centralization & Efficiency:** Moving all items to `B-5` suggests an optimization for picking efficiency, reduced travel time, or better space utilization within `B-5`. It could be a central hub, a newly optimized area, or a location with better access to shipping/receiving.\n",
       "*   **Clearance of Existing Locations:** `A-1` and `B-2` would become completely empty. This frees up substantial space that can be re-purposed or de-commissioned.\n",
       "*   **Streamlined Operations:** Having all active inventory in one predicted \"optimal\" zone could simplify inventory management, reduce errors, and accelerate order fulfillment processes.\n",
       "*   **Potential Model Logic (Hypothesis):** The model likely considers factors such as:\n",
       "    *   **Accessibility & Throughput:** `B-5` might offer superior access, making picking and replenishment faster, especially for high-priority items like Laptops.\n",
       "    *   **Cubic Utilization:** `B-5` might be designed for more efficient stacking or racking, allowing both small (Laptops) and large (Chairs) items to be stored effectively together.\n",
       "    *   **Labor Efficiency:** Consolidating reduces the need for workers to travel between disparate locations, saving time and effort.\n",
       "    *   **Environmental Suitability:** `B-5` might possess optimal environmental conditions (e.g., temperature, humidity) suitable for all items, particularly sensitive electronics.\n",
       "\n",
       "---\n",
       "\n",
       "### 3. List of Items Flagged for Relocation\n",
       "\n",
       "All 12 items currently in stock are recommended for relocation.\n",
       "\n",
       "| Item Id | Item Name (Derived) | Current Location | Recommended Location |\n",
       "| :------ | :------------------ | :--------------- | :------------------- |\n",
       "| 1       | Laptop              | A-1              | B-5                  |\n",
       "| 2       | Chair               | B-2              | B-5                  |\n",
       "| 3       | Laptop              | A-1              | B-5                  |\n",
       "| 4       | Chair               | B-2              | B-5                  |\n",
       "| 5       | Laptop              | A-1              | B-5                  |\n",
       "| 6       | Chair               | B-2              | B-5                  |\n",
       "| 7       | Laptop              | A-1              | B-5                  |\n",
       "| 8       | Chair               | B-2              | B-5                  |\n",
       "| 9       | *Unknown Item*      | A-1              | B-5                  |\n",
       "| 10      | *Unknown Item*      | B-2              | B-5                  |\n",
       "| 11      | Laptop              | A-1              | B-5                  |\n",
       "| 12      | Chair               | B-2              | B-5                  |\n",
       "\n",
       "---\n",
       "\n",
       "### Detailed Storage Optimization Recommendations\n",
       "\n",
       "Based on the analysis, here are the detailed recommendations:\n",
       "\n",
       "**1. Validate `B-5` Suitability and Capacity:**\n",
       "    *   **Action:** Before any physical movement, thoroughly inspect `B-5`.\n",
       "    *   **Checks:**\n",
       "        *   **Physical Space:** Can `B-5` physically accommodate 2000 units across 200 size units and 24 kg? Consider both volume and floor space.\n",
       "        *   **Weight Bearing:** Are the shelves/racks in `B-5` capable of supporting the combined weight of Laptops and Chairs?\n",
       "        *   **Accessibility:** Is `B-5` easily accessible for material handling equipment (forklifts, hand trucks) for both inbound (replenishment) and outbound (picking) activities?\n",
       "        *   **Environmental Control:** Does `B-5` offer suitable conditions for electronics (Laptops) and other goods?\n",
       "        *   **Security:** Is `B-5` secure, especially given the high-value 'Laptop' inventory?\n",
       "    *   **Outcome:** Confirm `B-5` is indeed capable of handling the entire inventory as per the model's recommendation. If not, the model's recommendation might need re-evaluation with additional constraints.\n",
       "\n",
       "**2. Execute the Relocation to `B-5`:**\n",
       "    *   **Prioritization:** Begin with high-priority items (Laptops) to ensure quick access to high-demand goods in their new optimal location.\n",
       "    *   **Phased Approach:** For larger operations, consider a phased move to minimize disruption to daily operations. However, with only 12 distinct item IDs, a single, concentrated effort might be feasible.\n",
       "    *   **Labeling & System Update:** Ensure all relocated items are correctly labeled with their new `B-5` location. Immediately update your Inventory Management System (IMS) to reflect the new locations to prevent picking errors.\n",
       "\n",
       "**3. Address Data Quality:**\n",
       "    *   **Action:** Immediately identify and update the `ItemName` for `ItemId` 9 and 10.\n",
       "    *   **Impact:** Inaccurate or missing item names can lead to picking errors, difficulty in inventory tracking, and skew future optimization models.\n",
       "\n",
       "**4. Re-purpose or Optimize Cleared Space (`A-1` and `B-2`):**\n",
       "    *   **Action:** Once `A-1` and `B-2` are empty, evaluate their strategic use.\n",
       "    *   **Options:**\n",
       "        *   **Inbound Staging:** Use for temporary storage of newly arrived goods.\n",
       "        *   **Outbound Staging:** For consolidated orders awaiting shipment.\n",
       "        *   **Returns Processing:** Dedicated area for handling returns.\n",
       "        *   **Value-Added Services (VAS):** Kitting, assembly, customization.\n",
       "        *   **Seasonal/Overflow Storage:** For peak seasons or overstock that doesn't fit in primary zones.\n",
       "        *   **Expansion:** Convert into additional office space, maintenance area, or a dedicated pick-and-pack zone.\n",
       "        *   **Decommission:** If the space is no longer needed, consider reducing the facility footprint or renting out the area.\n",
       "\n",
       "**5. Understand and Refine the Model's Logic:**\n",
       "    *   **Action:** Work with the data science or logistics modeling team to understand the specific parameters and objectives that led the model to centralize everything in `B-5`.\n",
       "    *   **Benefits:** This understanding will allow you to:\n",
       "        *   Trust future recommendations more confidently.\n",
       "        *   Identify if any critical business constraints (e.g., specific item handling requirements, future growth plans) were not fully incorporated.\n",
       "        *   Iteratively improve the model for even better future recommendations.\n",
       "\n",
       "**6. Monitor Performance and Adapt:**\n",
       "    *   **Action:** After relocation, closely monitor key performance indicators (KPIs).\n",
       "    *   **KPIs to Track:**\n",
       "        *   **Picking Efficiency:** Time taken to pick orders.\n",
       "        *   **Order Fulfillment Rate:** Speed of processing orders.\n",
       "        *   **Space Utilization in B-5:** Ensure the space is being used effectively without becoming overly crowded.\n",
       "        *   **Inventory Accuracy:** Maintain high accuracy rates in the new location.\n",
       "    *   **Adaptation:** Be prepared to make minor adjustments to internal `B-5` layout or processes based on real-world performance.\n",
       "\n",
       "By systematically implementing these recommendations, you can significantly improve your storage efficiency, operational flow, and overall warehouse performance."
      ],
      "text/plain": [
       "<IPython.core.display.Markdown object>"
      ]
     },
     "metadata": {},
     "output_type": "display_data"
    }
   ],
   "source": [
    "location_predictions = []\n",
    "for item in inventoryData:\n",
    "    location_predictions.append({\n",
    "        'Item Id': item['ItemId'],\n",
    "        'Current Location': item['Location'],\n",
    "        'Predicted Location': s.predict_location({\n",
    "            'Priority': item['Priority'],\n",
    "            'Product_Type': item['Category'],\n",
    "            'Size': item['Size'],\n",
    "            'Order_Quantity': item['Quantity'],\n",
    "            'Weight': item['Weight']\n",
    "        })[0]\n",
    "    })\n",
    "\n",
    "storage_optimizations = client.models.generate_content(\n",
    "    model=MODEL_ID,\n",
    "    contents=\n",
    "f'''Provide detailed storage optimization recommendations based on:\n",
    "\n",
    "1. Current storage utilization metrics\n",
    "2. Model-predicted optimal locations vs current locations\n",
    "3. List of items flagged for relocation, including:\n",
    "   - Current location\n",
    "   - Recommended location\n",
    "\n",
    "Data:\n",
    "{inventoryData}\n",
    "{location_predictions}\n",
    "'''\n",
    ")\n",
    "\n",
    "display(Markdown(storage_optimizations.text))"
   ]
  },
  {
   "cell_type": "markdown",
   "metadata": {},
   "source": [
    "## Anomalies Detected"
   ]
  },
  {
   "cell_type": "code",
   "execution_count": 129,
   "metadata": {},
   "outputs": [
    {
     "data": {
      "text/markdown": [
       "## Storage Anomalies Detected\n",
       "\n",
       "The following items have been identified with storage anomalies. For each item, its current location does not match its predicted location. Additionally, specific items have a missing or empty name, indicating a data quality anomaly.\n",
       "\n",
       "---\n",
       "\n",
       "*   **Item ID:** 1\n",
       "    *   **Item Name:** Laptop\n",
       "    *   **Current Location:** A-1\n",
       "    *   **Predicted Location:** B-5\n",
       "    *   **Anomaly Type(s):** Location Mismatch (Current: 'A-1', Predicted: 'B-5')\n",
       "\n",
       "*   **Item ID:** 2\n",
       "    *   **Item Name:** Chair\n",
       "    *   **Current Location:** B-2\n",
       "    *   **Predicted Location:** B-5\n",
       "    *   **Anomaly Type(s):** Location Mismatch (Current: 'B-2', Predicted: 'B-5')\n",
       "\n",
       "*   **Item ID:** 3\n",
       "    *   **Item Name:** Laptop\n",
       "    *   **Current Location:** A-1\n",
       "    *   **Predicted Location:** B-5\n",
       "    *   **Anomaly Type(s):** Location Mismatch (Current: 'A-1', Predicted: 'B-5')\n",
       "\n",
       "*   **Item ID:** 4\n",
       "    *   **Item Name:** Chair\n",
       "    *   **Current Location:** B-2\n",
       "    *   **Predicted Location:** B-5\n",
       "    *   **Anomaly Type(s):** Location Mismatch (Current: 'B-2', Predicted: 'B-5')\n",
       "\n",
       "*   **Item ID:** 5\n",
       "    *   **Item Name:** Laptop\n",
       "    *   **Current Location:** A-1\n",
       "    *   **Predicted Location:** B-5\n",
       "    *   **Anomaly Type(s):** Location Mismatch (Current: 'A-1', Predicted: 'B-5')\n",
       "\n",
       "*   **Item ID:** 6\n",
       "    *   **Item Name:** Chair\n",
       "    *   **Current Location:** B-2\n",
       "    *   **Predicted Location:** B-5\n",
       "    *   **Anomaly Type(s):** Location Mismatch (Current: 'B-2', Predicted: 'B-5')\n",
       "\n",
       "*   **Item ID:** 7\n",
       "    *   **Item Name:** Laptop\n",
       "    *   **Current Location:** A-1\n",
       "    *   **Predicted Location:** B-5\n",
       "    *   **Anomaly Type(s):** Location Mismatch (Current: 'A-1', Predicted: 'B-5')\n",
       "\n",
       "*   **Item ID:** 8\n",
       "    *   **Item Name:** Chair\n",
       "    *   **Current Location:** B-2\n",
       "    *   **Predicted Location:** B-5\n",
       "    *   **Anomaly Type(s):** Location Mismatch (Current: 'B-2', Predicted: 'B-5')\n",
       "\n",
       "*   **Item ID:** 9\n",
       "    *   **Item Name:** [NAME MISSING]\n",
       "    *   **Current Location:** A-1\n",
       "    *   **Predicted Location:** B-5\n",
       "    *   **Anomaly Type(s):**\n",
       "        *   Location Mismatch (Current: 'A-1', Predicted: 'B-5')\n",
       "        *   Missing or Empty Item Name\n",
       "\n",
       "*   **Item ID:** 10\n",
       "    *   **Item Name:** [NAME MISSING]\n",
       "    *   **Current Location:** B-2\n",
       "    *   **Predicted Location:** B-5\n",
       "    *   **Anomaly Type(s):**\n",
       "        *   Location Mismatch (Current: 'B-2', Predicted: 'B-5')\n",
       "        *   Missing or Empty Item Name\n",
       "\n",
       "*   **Item ID:** 11\n",
       "    *   **Item Name:** Laptop\n",
       "    *   **Current Location:** A-1\n",
       "    *   **Predicted Location:** B-5\n",
       "    *   **Anomaly Type(s):** Location Mismatch (Current: 'A-1', Predicted: 'B-5')\n",
       "\n",
       "*   **Item ID:** 12\n",
       "    *   **Item Name:** Chair\n",
       "    *   **Current Location:** B-2\n",
       "    *   **Predicted Location:** B-5\n",
       "    *   **Anomaly Type(s):** Location Mismatch (Current: 'B-2', Predicted: 'B-5')"
      ],
      "text/plain": [
       "<IPython.core.display.Markdown object>"
      ]
     },
     "metadata": {},
     "output_type": "display_data"
    }
   ],
   "source": [
    "anomalies_detected = client.models.generate_content(\n",
    "    model=MODEL_ID,\n",
    "    contents=\n",
    "f'''Generate an anomalies section that lists all detected storage anomalies detected in a table. Include each item's current location, predicted location, item id, and name.\n",
    "Include the type of anomaly for each item.\n",
    "\n",
    "Data:\n",
    "{s.detect_anomalies(inventoryData)}\n",
    "'''\n",
    ")\n",
    "\n",
    "display(Markdown(anomalies_detected.text))"
   ]
  },
  {
   "cell_type": "markdown",
   "metadata": {},
   "source": [
    "## Summary"
   ]
  },
  {
   "cell_type": "code",
   "execution_count": null,
   "metadata": {},
   "outputs": [],
   "source": []
  },
  {
   "cell_type": "markdown",
   "metadata": {},
   "source": [
    "# PDF File Generation"
   ]
  },
  {
   "cell_type": "code",
   "execution_count": null,
   "metadata": {},
   "outputs": [],
   "source": []
  },
  {
   "cell_type": "markdown",
   "metadata": {
    "id": "65476e75ece0"
   },
   "source": [
    "## Set the temperature"
   ]
  },
  {
   "cell_type": "markdown",
   "metadata": {
    "id": "56f68c900144"
   },
   "source": [
    "Every prompt you send to the model includes parameters that control how the model generates responses. Use a `types.GenerateContentConfig` to set these, or omit it to use the defaults.\n",
    "\n",
    "Temperature controls the degree of randomness in token selection. Use higher values for more creative responses, and lower values for more deterministic responses."
   ]
  },
  {
   "cell_type": "markdown",
   "metadata": {
    "id": "e3c68071ed8b"
   },
   "source": [
    "Note: Although you can set the `candidate_count` in the generation_config, 2.0 and later models will only return a single candidate at the this time."
   ]
  },
  {
   "cell_type": "code",
   "execution_count": 14,
   "metadata": {
    "id": "c97c16e6a961"
   },
   "outputs": [
    {
     "data": {
      "text/markdown": [
       "Here are some cat facts for you:\n",
       "\n",
       "1.  Domestic cats spend about **70% of their day sleeping** and 15% grooming.\n",
       "2.  The average lifespan of an outdoor cat is significantly shorter (2-5 years) compared to an **indoor cat (10-15+ years)**.\n",
       "3.  Cats use their **whiskers** to \"feel\" the world around them, gauge openings, and detect changes in air currents. They are highly sensitive tactile organs.\n",
       "4.  A group of cats is called a **clowder**, a group of kittens is called a kindle.\n",
       "5.  Cats have a unique scent gland on their paws, which is why they **knead** — it's a way of marking territory and showing contentment."
      ],
      "text/plain": [
       "<IPython.core.display.Markdown object>"
      ]
     },
     "metadata": {},
     "output_type": "display_data"
    }
   ],
   "source": [
    "from google.genai import types\n",
    "\n",
    "response = client.models.generate_content(\n",
    "    model=MODEL_ID,\n",
    "    contents='Give me a numbered list of cat facts.',\n",
    "    config=types.GenerateContentConfig(\n",
    "        max_output_tokens=2000,\n",
    "        temperature=1.9,\n",
    "        stop_sequences=['\\n6'] # Limit to 5 facts.\n",
    "    )\n",
    ")\n",
    "\n",
    "display(Markdown(response.text))"
   ]
  },
  {
   "cell_type": "markdown",
   "metadata": {
    "id": "gvkDhXtHgol7"
   },
   "source": [
    "## Learn more\n",
    "\n",
    "There's lots more to learn!\n",
    "\n",
    "* For more fun prompts, check out [Market a Jetpack](https://github.com/google-gemini/cookbook/blob/main/examples/Market_a_Jet_Backpack.ipynb).\n",
    "* Check out the [safety quickstart](https://github.com/google-gemini/cookbook/blob/main/quickstarts/Safety.ipynb) next to learn about the Gemini API's configurable safety settings, and what to do if your prompt is blocked.\n",
    "* For lots more details on using the Python SDK, check out the [get started notebook](./Get_started.ipynb) or the [documentation's quickstart](https://ai.google.dev/tutorials/python_quickstart)."
   ]
  }
 ],
 "metadata": {
  "colab": {
   "name": "Prompting.ipynb",
   "toc_visible": true
  },
  "google": {
   "image_path": "/static/site-assets/images/docs/logo-python.svg",
   "keywords": [
    "examples",
    "gemini",
    "beginner",
    "googleai",
    "quickstart",
    "python",
    "text",
    "chat",
    "vision",
    "embed"
   ]
  },
  "kernelspec": {
   "display_name": "Python [conda env:it3100] *",
   "language": "python",
   "name": "conda-env-it3100-py"
  },
  "language_info": {
   "codemirror_mode": {
    "name": "ipython",
    "version": 3
   },
   "file_extension": ".py",
   "mimetype": "text/x-python",
   "name": "python",
   "nbconvert_exporter": "python",
   "pygments_lexer": "ipython3",
   "version": "3.9.18"
  }
 },
 "nbformat": 4,
 "nbformat_minor": 4
}
