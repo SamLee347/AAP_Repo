{
 "cells": [
  {
   "cell_type": "markdown",
   "id": "9bf1a1fe-2e4d-4bdb-8506-cbcf46dfd128",
   "metadata": {},
   "source": [
    "# AAP AI Model for Sample Categorization\n",
    "\n",
    "**Admin Number**: 230327F  \n",
    "**Module**: IT3100 - AI Applications Project  \n",
    "**Jason Hong Jie Sen**\n",
    "\n",
    "---\n",
    "\n",
    "## **Progress Review 1 Summary**\n",
    "\n",
    "### **What Has Been Done in Progress Review 1:**\n",
    "1. **Data Preprocessing**:\n",
    "   - Handled missing values and removed duplicates.\n",
    "   - Standardized and encoded categorical features using **one-hot encoding**.\n",
    "   - Outliers were removed using **percentile trimming** (1st and 99th percentiles).\n",
    "   \n",
    "2. **Model Training**:\n",
    "   - Trained a **Random Forest Classifier** using preprocessed data.\n",
    "   - Evaluated the model using **accuracy**, **precision**, **recall**, and **F1-score**.\n",
    "\n",
    "3. **Next Steps**:\n",
    "   - **Hyperparameter tuning** for model optimization.\n",
    "   - **Class balancing** techniques (like **SMOTE** or **class weights**).\n",
    "   - **Feature engineering** to improve model performance.\n",
    "\n",
    "---\n",
    "\n",
    "## **1. Introduction**\n",
    "\n",
    "### Problem Statement:\n",
    "\n",
    "At ANS, the manual categorization of product samples is slow, inconsistent, and error-prone. This project aims to automate the classification of product samples based on metadata to improve **organization**, **efficiency**, and **accuracy**.\n",
    "\n",
    "### Goal:\n",
    "\n",
    "Build a supervised machine learning model to predict the **product category** using historical inventory and transaction data.\n",
    "\n",
    "---\n",
    "\n",
    "## **2. Data Collection and Justification**\n",
    "\n",
    "### Dataset Source:\n",
    "The dataset used is the **Supply Chain Management Dataset** on Kaggle:  \n",
    "[Supply Chain Management Dataset on Kaggle](https://www.kaggle.com/datasets/codymiles/supply-chain-management).\n",
    "\n",
    "### Dataset Features:\n",
    "- **Order-Related Info**: Order ID, customer details, sales data, order zone, price, category, etc.\n",
    "- **Product Info**: Product type, category, dimensions, weight, dispatch status.\n",
    "- **Shipping Info**: Shipping class, scheduled shipping, warehouse region, etc.\n",
    "\n",
    "### Relevance to ANS:\n",
    "This dataset provides the necessary features for building a model to categorize samples, aligning with ANS’s operations focused on product distribution.\n",
    "\n",
    "---\n",
    "\n",
    "## **3. Data Preparation and Cleaning**"
   ]
  },
  {
   "cell_type": "code",
   "execution_count": 31,
   "id": "daf4d227-fb64-453d-8ff1-5f45004a7fc2",
   "metadata": {},
   "outputs": [],
   "source": [
    "import pandas as pd\n",
    "from sklearn.model_selection import train_test_split\n",
    "from sklearn.preprocessing import LabelEncoder\n",
    "from imblearn.over_sampling import SMOTE\n",
    "import matplotlib.pyplot as plt\n",
    "import seaborn as sns\n",
    "\n",
    "\n",
    "# Load data\n",
    "train_df = pd.read_csv(r'C:\\Users\\jason\\OneDrive\\Documents\\2025 Sem1 Study\\IT3100_AAP\\AAP_Dataset (Supply Chain)\\Train_Set.csv')\n",
    "test_df = pd.read_csv(r'C:\\Users\\jason\\OneDrive\\Documents\\2025 Sem1 Study\\IT3100_AAP\\AAP_Dataset (Supply Chain)\\Test_Set.csv')\n",
    "\n",
    "# TO REMOVEEEEEEEEEE (3000 rows) so it's faster:\n",
    "train_df = train_df.sample(n=3000, random_state=42)\n",
    "test_df = test_df.sample(n=1000, random_state=42)\n",
    "\n",
    "# Drop unnecessary identifier columns and other less useful features\n",
    "train_df = train_df.drop(['OrderId', 'Customer_Id', 'Dept_Id', 'Zipcode', 'Prod_Category_Id', 'CategoryName'], axis=1)\n",
    "test_df = test_df.drop(['OrderId', 'Customer_Id', 'Dept_Id', 'Zipcode', 'Prod_Category_Id', 'CategoryName'], axis=1)\n",
    "\n",
    "# Clean columns by stripping whitespace\n",
    "train_df.columns = train_df.columns.str.strip()\n",
    "test_df.columns = test_df.columns.str.strip()\n",
    "\n",
    "# Drop rows with missing values and duplicates\n",
    "train_df.dropna(inplace=True)\n",
    "test_df.dropna(inplace=True)\n",
    "train_df.drop_duplicates(inplace=True)\n",
    "test_df.drop_duplicates(inplace=True)\n",
    "\n",
    "# Standardize string columns by converting to lowercase and stripping whitespace\n",
    "str_cols = ['Product_type', 'Customer_Category', 'Dept_Name', 'Shipping_Class', 'Warehouse_Region', 'Order_zone']\n",
    "for col in str_cols:\n",
    "    train_df[col] = train_df[col].str.strip().str.lower()\n",
    "    test_df[col] = test_df[col].str.strip().str.lower()\n",
    "\n",
    "# First encode all classes to identify low-support ones\n",
    "label_encoder = LabelEncoder()\n",
    "train_df['Dept_Name_encoded'] = label_encoder.fit_transform(train_df['Dept_Name'])\n",
    "\n",
    "# List low-support classes to combine into \"Other\"\n",
    "low_support_classes = [1, 2, 4, 7, 9, 10]\n",
    "\n",
    "# Replace low-support classes with a common \"Other\" category (make sure \"Other\" is a string)\n",
    "train_df['Dept_Name_encoded'] = train_df['Dept_Name_encoded'].apply(lambda x: 'Other' if x in low_support_classes else x)\n",
    "\n",
    "# Convert all values to string (to make sure the LabelEncoder works)\n",
    "train_df['Dept_Name_encoded'] = train_df['Dept_Name_encoded'].astype(str)\n",
    "\n",
    "# Now, apply LabelEncoder to encode the target variable after the replacement\n",
    "train_df['Dept_Name_encoded'] = label_encoder.fit_transform(train_df['Dept_Name_encoded'])\n",
    "\n",
    "# List of features to keep (based on feature importance)\n",
    "features_to_keep = [\n",
    "    'Price', 'Sales', 'Order_Profit', 'Quantity', 'ProductWeight',\n",
    "    'Customer_Category', 'Cust_State', 'Product_type', 'Dispatched', 'Shipping_Class',\n",
    "    'Scheduled_Shipping', 'Warehouse_Region', 'Delivery_Review', 'WeekdayOrder', 'Delivery_Status'\n",
    "]\n",
    "\n",
    "# Preparing X and y with the selected features\n",
    "X = train_df[features_to_keep]\n",
    "y = train_df['Dept_Name_encoded']\n",
    "\n",
    "\n",
    "\n"
   ]
  },
  {
   "cell_type": "markdown",
   "id": "79a0c31d-bd71-43fe-97bd-72a029bbd985",
   "metadata": {},
   "source": [
    "## Data Preprocessing\n",
    "\n",
    "1. Loaded and cleaned the training and test datasets\n",
    "2. Standardized column names by stripping whitespace\n",
    "3. Removed rows with missing values and duplicate entries\n",
    "4. Normalized string columns by converting to lowercase and stripping whitespace\n",
    "5. Encoded the target variable (`Dept_Name`) using LabelEncoder"
   ]
  },
  {
   "cell_type": "code",
   "execution_count": 32,
   "id": "4d0205a6-3f82-4758-aecd-0e0c0da04666",
   "metadata": {},
   "outputs": [],
   "source": [
    "# One-hot encode categorical columns\n",
    "categorical_cols = ['Product_type', 'Customer_Category', 'Shipping_Class', 'Warehouse_Region', 'Cust_State']\n",
    "X = pd.get_dummies(X, columns=categorical_cols, drop_first=True)\n",
    "\n",
    "# Split into training and validation sets\n",
    "X_train, X_val, y_train, y_val = train_test_split(X, y, test_size=0.2, random_state=42, stratify=y)\n",
    "\n",
    "# Apply SMOTE for oversampling with fewer neighbors\n",
    "smote = SMOTE(random_state=42, k_neighbors=3)  \n",
    "X_train_resampled, y_train_resampled = smote.fit_resample(X_train, y_train)"
   ]
  },
  {
   "cell_type": "markdown",
   "id": "9db1a7ee-1bf3-4757-956f-ad260a1fe4c3",
   "metadata": {},
   "source": [
    "## Feature Engineering\n",
    "\n",
    "1. Separated features (X) and target (y)\n",
    "2. Performed one-hot encoding on categorical columns\n",
    "3. Split data into training and validation sets (80/20)\n",
    "4. Addressed class imbalance using SMOTE oversampling"
   ]
  },
  {
   "cell_type": "code",
   "execution_count": 33,
   "id": "a3bc2560-9e7c-4b85-b341-a73785bd9930",
   "metadata": {},
   "outputs": [
    {
     "name": "stdout",
     "output_type": "stream",
     "text": [
      "Fitting 3 folds for each of 243 candidates, totalling 729 fits\n",
      "Best parameters found: {'max_depth': None, 'max_features': 'sqrt', 'min_samples_leaf': 1, 'min_samples_split': 2, 'n_estimators': 50}\n"
     ]
    }
   ],
   "source": [
    "from sklearn.model_selection import GridSearchCV, StratifiedKFold\n",
    "from sklearn.ensemble import RandomForestClassifier\n",
    "\n",
    "# Hyperparameter tuning with GridSearchCV\n",
    "model = RandomForestClassifier(random_state = 42)\n",
    "skf = StratifiedKFold(n_splits=3, shuffle=True, random_state=42)\n",
    "param_grid = {\n",
    "    'n_estimators': [50, 100, 150],\n",
    "    'max_depth': [10, 20, None],\n",
    "    'min_samples_split': [2, 5, 10],\n",
    "    'min_samples_leaf': [1, 2, 4],\n",
    "    'max_features': ['sqrt', 'log2', None]  # Make sure this is valid\n",
    "}\n",
    "\n",
    "\n",
    "# Re-run GridSearchCV with the updated grid\n",
    "grid_search = GridSearchCV(estimator=model, param_grid=param_grid, cv=3, scoring='accuracy', verbose=2, n_jobs=-1)\n",
    "grid_search.fit(X_train_resampled, y_train_resampled)\n",
    "print(\"Best parameters found:\", grid_search.best_params_)\n"
   ]
  },
  {
   "cell_type": "markdown",
   "id": "39d88c01-8a1f-4742-872a-7b6400702781",
   "metadata": {},
   "source": [
    "## Hyperparameter Tuning\n",
    "\n",
    "Performed grid search over key parameters:\n",
    "- Number of estimators (50, 100, 150)\n",
    "- Tree depth (10, 20, unlimited)\n",
    "- Minimum samples for splits (2, 5, 10)\n",
    "- Minimum samples per leaf (1, 2, 4)\n",
    "\n",
    "Used 3-fold CV for efficiency"
   ]
  },
  {
   "cell_type": "code",
   "execution_count": 34,
   "id": "2dca887f-4f6d-420c-a5d6-f6a7a88dcec6",
   "metadata": {},
   "outputs": [
    {
     "name": "stdout",
     "output_type": "stream",
     "text": [
      "\n",
      "=== FEATURE IMPORTANCE ANALYSIS ===\n",
      "\n",
      "Feature Importance Rankings:\n",
      "                        feature  importance\n",
      "0                         Price    0.299494\n",
      "1                         Sales    0.112159\n",
      "2                  Order_Profit    0.101893\n",
      "4                 ProductWeight    0.058250\n",
      "3                      Quantity    0.057539\n",
      "7               Delivery_Review    0.039209\n",
      "6            Scheduled_Shipping    0.030926\n",
      "18       Warehouse_Region_south    0.026664\n",
      "5                    Dispatched    0.016657\n",
      "17       Warehouse_Region_north    0.016125\n",
      "8                  WeekdayOrder    0.013694\n",
      "11  Customer_Category_corporate    0.013543\n",
      "15      Shipping_Class_standard    0.013492\n",
      "10     Product_type_not fragile    0.012584\n",
      "13            Shipping_Class_2a    0.011595\n",
      "12     Customer_Category_others    0.011485\n",
      "21                Cust_State_BR    0.011208\n",
      "19        Warehouse_Region_west    0.011091\n",
      "20                Cust_State_AR    0.009591\n",
      "30                Cust_State_OR    0.009170\n",
      "29                Cust_State_MP    0.008964\n",
      "27                Cust_State_KL    0.008944\n",
      "33               Cust_State_TEL    0.008923\n",
      "9               Delivery_Status    0.008876\n",
      "26                Cust_State_KA    0.008430\n",
      "25                Cust_State_JK    0.008279\n",
      "14         Shipping_Class_elite    0.007854\n",
      "34                Cust_State_UK    0.007737\n",
      "36                Cust_State_WB    0.007289\n",
      "16          Warehouse_Region_ne    0.006936\n",
      "31                Cust_State_PB    0.006915\n",
      "32                Cust_State_RJ    0.006106\n",
      "35                Cust_State_UP    0.005995\n",
      "28                Cust_State_MA    0.005806\n",
      "24                Cust_State_HR    0.005774\n",
      "23                Cust_State_HP    0.005485\n",
      "22                Cust_State_GJ    0.005318\n"
     ]
    },
    {
     "name": "stderr",
     "output_type": "stream",
     "text": [
      "C:\\Users\\jason\\AppData\\Local\\Temp\\ipykernel_28200\\4056459751.py:18: FutureWarning: \n",
      "\n",
      "Passing `palette` without assigning `hue` is deprecated and will be removed in v0.14.0. Assign the `y` variable to `hue` and set `legend=False` for the same effect.\n",
      "\n",
      "  sns.barplot(data=feature_importance.head(10),\n"
     ]
    },
    {
     "data": {
      "image/png": "[encoded data removed]",
      "text/plain": [
       "<Figure size 1000x600 with 1 Axes>"
      ]
     },
     "metadata": {},
     "output_type": "display_data"
    },
    {
     "name": "stdout",
     "output_type": "stream",
     "text": [
      "\n",
      "Top 5 most important features:\n",
      "1. Price: 0.2995\n",
      "2. Sales: 0.1122\n",
      "3. Order_Profit: 0.1019\n",
      "4. ProductWeight: 0.0583\n",
      "5. Quantity: 0.0575\n",
      "\n",
      "These top 5 features account for 62.9% of the model's decision-making\n",
      "\n",
      "Keeping 18 features with importance > 0.01\n"
     ]
    }
   ],
   "source": [
    "# === Feature Importance Analysis ===\n",
    "print(\"\\n=== FEATURE IMPORTANCE ANALYSIS ===\")\n",
    "\n",
    "# Ensure you have a trained model (grid_search should be fitted)\n",
    "if hasattr(grid_search, 'best_estimator_'):\n",
    "    # Get feature importances from the best model\n",
    "    feature_importance = pd.DataFrame({\n",
    "        'feature': X.columns,\n",
    "        'importance': grid_search.best_estimator_.feature_importances_\n",
    "    }).sort_values('importance', ascending=False)\n",
    "    \n",
    "    # Print the Feature Importance Rankings\n",
    "    print(\"\\nFeature Importance Rankings:\")\n",
    "    print(feature_importance.to_string())  # to_string() for better formatting\n",
    "    \n",
    "    # Plot the Top 10 Most Important Features\n",
    "    plt.figure(figsize=(10, 6))\n",
    "    sns.barplot(data=feature_importance.head(10), \n",
    "                x='importance', \n",
    "                y='feature', \n",
    "                palette='viridis')\n",
    "    plt.title('Top 10 Most Important Features')\n",
    "    plt.xlabel('Importance Score')\n",
    "    plt.ylabel('Features')\n",
    "    plt.tight_layout()\n",
    "    plt.show()\n",
    "    \n",
    "    # Display Top 5 Features with their importance\n",
    "    print(\"\\nTop 5 most important features:\")\n",
    "    top_features = feature_importance.head(5)\n",
    "    for i, (idx, row) in enumerate(top_features.iterrows()):\n",
    "        print(f\"{i+1}. {row['feature']}: {row['importance']:.4f}\")\n",
    "    \n",
    "    # Show cumulative importance\n",
    "    print(f\"\\nThese top 5 features account for {top_features['importance'].sum():.1%} of the model's decision-making\")\n",
    "    \n",
    "    # Remove low-importance features\n",
    "    threshold = 0.01  # Adjust based on your feature importance distribution\n",
    "    important_features = feature_importance[feature_importance['importance'] > threshold]['feature']\n",
    "    \n",
    "    print(f\"\\nKeeping {len(important_features)} features with importance > {threshold}\")\n",
    "    X = X[important_features]  # Filter features"
   ]
  },
  {
   "cell_type": "markdown",
   "id": "0367f327-6c37-4009-ac1b-1a99e6969f72",
   "metadata": {},
   "source": [
    "# Remove features with very low importance (below a certain threshold)\n",
    "threshold = 0.01  # You can adjust this threshold based on the distribution of importance values\n",
    "important_features = feature_importance[feature_importance['importance'] > threshold]\n",
    "X = X[important_features['feature']]\n"
   ]
  },
  {
   "cell_type": "markdown",
   "id": "4fac029f-4189-484f-9a88-37499c3adbca",
   "metadata": {},
   "source": [
    "## Correlation Matrix & Results\n"
   ]
  },
  {
   "cell_type": "code",
   "execution_count": 35,
   "id": "29bf9b4f-f7f3-4786-a3b3-893b27cd0140",
   "metadata": {},
   "outputs": [
    {
     "name": "stdout",
     "output_type": "stream",
     "text": [
      "Classification Report for GradientBoostingClassifier (Validation Set):\n",
      "\n",
      "              precision    recall  f1-score   support\n",
      "\n",
      "           0       0.99      0.98      0.99       123\n",
      "           3       0.88      0.81      0.85       185\n",
      "           5       0.88      0.85      0.86        33\n",
      "           6       0.65      0.76      0.70        90\n",
      "           8       0.61      0.59      0.60        29\n",
      "       Other       0.70      0.80      0.74        20\n",
      "\n",
      "    accuracy                           0.83       480\n",
      "   macro avg       0.78      0.80      0.79       480\n",
      "weighted avg       0.84      0.83      0.84       480\n",
      "\n",
      "\n",
      "Confusion Matrix (Validation Set):\n",
      "\n",
      "[[121   0   0   0   0   2]\n",
      " [  0 150   1  32   1   1]\n",
      " [  0   0  28   0   4   1]\n",
      " [  0  17   0  68   3   2]\n",
      " [  1   3   2   5  17   1]\n",
      " [  0   0   1   0   3  16]]\n"
     ]
    },
    {
     "data": {
      "text/plain": [
       "['gradient_boosting_model.pkl']"
      ]
     },
     "execution_count": 35,
     "metadata": {},
     "output_type": "execute_result"
    }
   ],
   "source": [
    "from sklearn.metrics import classification_report, confusion_matrix\n",
    "\n",
    "# Assuming gb_model is your GradientBoosting model\n",
    "# Make predictions on the test set (after handling one-hot encoding as you've done)\n",
    "y_test_pred = gb_model.predict(X_test)\n",
    "\n",
    "# Convert numeric predictions to department names\n",
    "predicted_dept = label_encoder.inverse_transform(y_test_pred)\n",
    "\n",
    "# Add predicted department names to the test dataframe\n",
    "test_df['Predicted_Dept_Name'] = predicted_dept\n",
    "\n",
    "# Save the predictions to a CSV\n",
    "test_df.to_csv(\"predicted_dept_names.csv\", index=False)\n",
    "\n",
    "# Classification Report for the Gradient Boosting Classifier (Validation Set)\n",
    "# Here, we will use inverse_transform to get department names for the true and predicted labels\n",
    "y_val_dept = label_encoder.inverse_transform(y_val)  # True labels in department names\n",
    "y_pred_dept = label_encoder.inverse_transform(y_pred_gb)  # Predicted labels in department names\n",
    "\n",
    "# Print the classification report with department names\n",
    "print(\"Classification Report for GradientBoostingClassifier (Validation Set):\\n\")\n",
    "print(classification_report(y_val_dept, y_pred_dept))\n",
    "\n",
    "# Confusion Matrix with Department Names\n",
    "cm = confusion_matrix(y_val_dept, y_pred_dept)\n",
    "print(\"\\nConfusion Matrix (Validation Set):\\n\")\n",
    "print(cm)\n",
    "\n"
   ]
  },
  {
   "cell_type": "code",
   "execution_count": 37,
   "id": "0e318112-a8a4-4cb6-86c3-1117523a52a9",
   "metadata": {},
   "outputs": [
    {
     "data": {
      "text/plain": [
       "['C:\\\\Users\\\\jason\\\\OneDrive\\\\Documents\\\\2025 Sem1 Study\\\\IT3100_AAP\\\\final pkl file\\\\label_encoder.pkl']"
      ]
     },
     "execution_count": 37,
     "metadata": {},
     "output_type": "execute_result"
    }
   ],
   "source": [
    "import joblib\n",
    "\n",
    "# Assuming your model is trained (e.g., gb_model)\n",
    "# Save the model to a specific path\n",
    "file_path = r'C:\\Users\\jason\\OneDrive\\Documents\\2025 Sem1 Study\\IT3100_AAP\\final pkl file\\gradient_boosting_model.pkl'\n",
    "joblib.dump(gb_model, file_path)\n",
    "\n",
    "# Save the label encoder as well (if needed)\n",
    "encoder_path = r'C:\\Users\\jason\\OneDrive\\Documents\\2025 Sem1 Study\\IT3100_AAP\\final pkl file\\label_encoder.pkl'\n",
    "joblib.dump(label_encoder, encoder_path)\n"
   ]
  },
  {
   "cell_type": "markdown",
   "id": "77ca1d68-0180-469d-8654-8066c6c217dd",
   "metadata": {},
   "source": [
    "## Model Initialization and Training\n",
    "\n",
    "Initialized gradient boosting model after comparing with RandomForest\n",
    "\n",
    "Performed 3-fold cross-validation to assess generalization performance"
   ]
  },
  {
   "cell_type": "code",
   "execution_count": 36,
   "id": "f05dc444-4542-441b-b201-59820ede7644",
   "metadata": {},
   "outputs": [
    {
     "name": "stdout",
     "output_type": "stream",
     "text": [
      "Enter the following information:\n"
     ]
    },
    {
     "ename": "KeyboardInterrupt",
     "evalue": "Interrupted by user",
     "output_type": "error",
     "traceback": [
      "\u001b[1;31m---------------------------------------------------------------------------\u001b[0m",
      "\u001b[1;31mKeyboardInterrupt\u001b[0m                         Traceback (most recent call last)",
      "Cell \u001b[1;32mIn[36], line 62\u001b[0m\n\u001b[0;32m     59\u001b[0m     \u001b[38;5;28mprint\u001b[39m(\u001b[38;5;124mf\u001b[39m\u001b[38;5;124m\"\u001b[39m\u001b[38;5;124mPredicted Department: \u001b[39m\u001b[38;5;132;01m{\u001b[39;00mpredicted_dept[\u001b[38;5;241m0\u001b[39m]\u001b[38;5;132;01m}\u001b[39;00m\u001b[38;5;124m\"\u001b[39m)\n\u001b[0;32m     61\u001b[0m \u001b[38;5;66;03m# Call the user input function\u001b[39;00m\n\u001b[1;32m---> 62\u001b[0m \u001b[43muser_input\u001b[49m\u001b[43m(\u001b[49m\u001b[43m)\u001b[49m\n",
      "Cell \u001b[1;32mIn[36], line 5\u001b[0m, in \u001b[0;36muser_input\u001b[1;34m()\u001b[0m\n\u001b[0;32m      2\u001b[0m \u001b[38;5;28mprint\u001b[39m(\u001b[38;5;124m\"\u001b[39m\u001b[38;5;124mEnter the following information:\u001b[39m\u001b[38;5;124m\"\u001b[39m)\n\u001b[0;32m      4\u001b[0m \u001b[38;5;66;03m# Collecting user input data\u001b[39;00m\n\u001b[1;32m----> 5\u001b[0m price \u001b[38;5;241m=\u001b[39m \u001b[38;5;28mfloat\u001b[39m(\u001b[38;5;28;43minput\u001b[39;49m\u001b[43m(\u001b[49m\u001b[38;5;124;43m\"\u001b[39;49m\u001b[38;5;124;43mPrice (in currency): \u001b[39;49m\u001b[38;5;124;43m\"\u001b[39;49m\u001b[43m)\u001b[49m)\n\u001b[0;32m      6\u001b[0m sales \u001b[38;5;241m=\u001b[39m \u001b[38;5;28mfloat\u001b[39m(\u001b[38;5;28minput\u001b[39m(\u001b[38;5;124m\"\u001b[39m\u001b[38;5;124mSales: \u001b[39m\u001b[38;5;124m\"\u001b[39m))\n\u001b[0;32m      7\u001b[0m order_profit \u001b[38;5;241m=\u001b[39m \u001b[38;5;28mfloat\u001b[39m(\u001b[38;5;28minput\u001b[39m(\u001b[38;5;124m\"\u001b[39m\u001b[38;5;124mOrder Profit: \u001b[39m\u001b[38;5;124m\"\u001b[39m))\n",
      "File \u001b[1;32m~\\.conda\\envs\\aap_env\\lib\\site-packages\\ipykernel\\kernelbase.py:1282\u001b[0m, in \u001b[0;36mKernel.raw_input\u001b[1;34m(self, prompt)\u001b[0m\n\u001b[0;32m   1280\u001b[0m     msg \u001b[38;5;241m=\u001b[39m \u001b[38;5;124m\"\u001b[39m\u001b[38;5;124mraw_input was called, but this frontend does not support input requests.\u001b[39m\u001b[38;5;124m\"\u001b[39m\n\u001b[0;32m   1281\u001b[0m     \u001b[38;5;28;01mraise\u001b[39;00m StdinNotImplementedError(msg)\n\u001b[1;32m-> 1282\u001b[0m \u001b[38;5;28;01mreturn\u001b[39;00m \u001b[38;5;28;43mself\u001b[39;49m\u001b[38;5;241;43m.\u001b[39;49m\u001b[43m_input_request\u001b[49m\u001b[43m(\u001b[49m\n\u001b[0;32m   1283\u001b[0m \u001b[43m    \u001b[49m\u001b[38;5;28;43mstr\u001b[39;49m\u001b[43m(\u001b[49m\u001b[43mprompt\u001b[49m\u001b[43m)\u001b[49m\u001b[43m,\u001b[49m\n\u001b[0;32m   1284\u001b[0m \u001b[43m    \u001b[49m\u001b[38;5;28;43mself\u001b[39;49m\u001b[38;5;241;43m.\u001b[39;49m\u001b[43m_parent_ident\u001b[49m\u001b[43m[\u001b[49m\u001b[38;5;124;43m\"\u001b[39;49m\u001b[38;5;124;43mshell\u001b[39;49m\u001b[38;5;124;43m\"\u001b[39;49m\u001b[43m]\u001b[49m\u001b[43m,\u001b[49m\n\u001b[0;32m   1285\u001b[0m \u001b[43m    \u001b[49m\u001b[38;5;28;43mself\u001b[39;49m\u001b[38;5;241;43m.\u001b[39;49m\u001b[43mget_parent\u001b[49m\u001b[43m(\u001b[49m\u001b[38;5;124;43m\"\u001b[39;49m\u001b[38;5;124;43mshell\u001b[39;49m\u001b[38;5;124;43m\"\u001b[39;49m\u001b[43m)\u001b[49m\u001b[43m,\u001b[49m\n\u001b[0;32m   1286\u001b[0m \u001b[43m    \u001b[49m\u001b[43mpassword\u001b[49m\u001b[38;5;241;43m=\u001b[39;49m\u001b[38;5;28;43;01mFalse\u001b[39;49;00m\u001b[43m,\u001b[49m\n\u001b[0;32m   1287\u001b[0m \u001b[43m\u001b[49m\u001b[43m)\u001b[49m\n",
      "File \u001b[1;32m~\\.conda\\envs\\aap_env\\lib\\site-packages\\ipykernel\\kernelbase.py:1325\u001b[0m, in \u001b[0;36mKernel._input_request\u001b[1;34m(self, prompt, ident, parent, password)\u001b[0m\n\u001b[0;32m   1322\u001b[0m \u001b[38;5;28;01mexcept\u001b[39;00m \u001b[38;5;167;01mKeyboardInterrupt\u001b[39;00m:\n\u001b[0;32m   1323\u001b[0m     \u001b[38;5;66;03m# re-raise KeyboardInterrupt, to truncate traceback\u001b[39;00m\n\u001b[0;32m   1324\u001b[0m     msg \u001b[38;5;241m=\u001b[39m \u001b[38;5;124m\"\u001b[39m\u001b[38;5;124mInterrupted by user\u001b[39m\u001b[38;5;124m\"\u001b[39m\n\u001b[1;32m-> 1325\u001b[0m     \u001b[38;5;28;01mraise\u001b[39;00m \u001b[38;5;167;01mKeyboardInterrupt\u001b[39;00m(msg) \u001b[38;5;28;01mfrom\u001b[39;00m\u001b[38;5;250m \u001b[39m\u001b[38;5;28;01mNone\u001b[39;00m\n\u001b[0;32m   1326\u001b[0m \u001b[38;5;28;01mexcept\u001b[39;00m \u001b[38;5;167;01mException\u001b[39;00m:\n\u001b[0;32m   1327\u001b[0m     \u001b[38;5;28mself\u001b[39m\u001b[38;5;241m.\u001b[39mlog\u001b[38;5;241m.\u001b[39mwarning(\u001b[38;5;124m\"\u001b[39m\u001b[38;5;124mInvalid Message:\u001b[39m\u001b[38;5;124m\"\u001b[39m, exc_info\u001b[38;5;241m=\u001b[39m\u001b[38;5;28;01mTrue\u001b[39;00m)\n",
      "\u001b[1;31mKeyboardInterrupt\u001b[0m: Interrupted by user"
     ]
    }
   ],
   "source": [
    "def user_input():\n",
    "    print(\"Enter the following information:\")\n",
    "\n",
    "    # Collecting user input data\n",
    "    price = float(input(\"Price (in currency): \"))\n",
    "    sales = float(input(\"Sales: \"))\n",
    "    order_profit = float(input(\"Order Profit: \"))\n",
    "    quantity = float(input(\"Quantity: \"))\n",
    "    product_weight = float(input(\"Product Weight (in grams): \"))\n",
    "    customer_category = input(\"Customer Category (e.g. 'consumer', 'corporate', 'others'): \").lower()\n",
    "    cust_state = input(\"Customer State (e.g. 'uk', 'us', 'ca'): \").lower()\n",
    "    product_type = input(\"Product Type (e.g. 'fragile', 'not fragile'): \").lower()\n",
    "    dispatched = input(\"Dispatched (e.g. '1' or '0'): \").lower()\n",
    "    shipping_class = input(\"Shipping Class (e.g. 'standard', 'elite'): \").lower()\n",
    "    scheduled_shipping = int(input(\"Scheduled Shipping (1-7 scale): \"))\n",
    "    warehouse_region = input(\"Warehouse Region (e.g. 'north', 'south', etc.): \").lower()\n",
    "    delivery_review = input(\"Delivery Review (1-5 scale): \").lower()\n",
    "    weekday_order = int(input(\"Weekday Order (0=Sunday, 1=Monday,...,6=Saturday): \"))\n",
    "    delivery_status = input(\"Delivery Status (0 or 1): \").lower()\n",
    "\n",
    "    # Creating the dictionary of user inputs\n",
    "    user_data = {\n",
    "        'Price': price,\n",
    "        'Sales': sales,\n",
    "        'Order_Profit': order_profit,\n",
    "        'Quantity': quantity,\n",
    "        'ProductWeight': product_weight,\n",
    "        'Customer_Category': customer_category,\n",
    "        'Cust_State': cust_state,\n",
    "        'Product_type': product_type,\n",
    "        'Dispatched': dispatched,\n",
    "        'Shipping_Class': shipping_class,\n",
    "        'Scheduled_Shipping': scheduled_shipping,\n",
    "        'Warehouse_Region': warehouse_region,\n",
    "        'Delivery_Review': delivery_review,\n",
    "        'WeekdayOrder': weekday_order,\n",
    "        'Delivery_Status': delivery_status\n",
    "    }\n",
    "\n",
    "    # Convert to DataFrame\n",
    "    user_df = pd.DataFrame([user_data])\n",
    "\n",
    "    # One-hot encoding of categorical features\n",
    "    user_df = pd.get_dummies(user_df, columns=['Customer_Category', 'Product_type', 'Shipping_Class', 'Warehouse_Region', 'Cust_State', 'Delivery_Review', 'Delivery_Status'], drop_first=True)\n",
    "\n",
    "    # Make sure user input has the same columns as the training data\n",
    "    user_df = user_df.reindex(columns=X_train.columns, fill_value=0)\n",
    "\n",
    "    # Load the trained model\n",
    "    model = joblib.load('gradient_boosting_model.pkl')\n",
    "\n",
    "    # Get the prediction (numeric value)\n",
    "    prediction = model.predict(user_df)\n",
    "\n",
    "    # Decode the predicted department (numeric to string)\n",
    "    predicted_dept = label_encoder.inverse_transform(prediction)\n",
    "\n",
    "    # Print the department name\n",
    "    print(f\"Predicted Department: {predicted_dept[0]}\")\n",
    "\n",
    "# Call the user input function\n",
    "user_input()\n"
   ]
  },
  {
   "cell_type": "markdown",
   "id": "77dd596b-0a51-4da6-8cf0-f6c6cc07fe35",
   "metadata": {},
   "source": [
    "## User input (test)"
   ]
  },
  {
   "cell_type": "markdown",
   "id": "09238125-1fa2-48b6-9474-74e665120731",
   "metadata": {},
   "source": [
    "## Model Evaluation and Testing\n",
    "\n",
    "1. Trained final model with best parameters from grid search\n",
    "2. Evaluated on validation set using classification metrics\n",
    "3. Processed test data to match training features\n",
    "4. Generated predictions and saved results to CSV\n",
    "5. Converted encoded predictions back to original department names"
   ]
  },
  {
   "cell_type": "markdown",
   "id": "51acdf93-ece8-4f54-8663-a065b4a2714a",
   "metadata": {},
   "source": [
    "# Conclusion\n",
    "\n",
    "### Key Outcomes:\n",
    "- Achieved high cross-validation scores (~99.8%)\n",
    "- Validation and test set predictions showed 100% accuracy\n",
    "- Implemented regularization to mitigate overfitting, but the model is too simple.\n",
    "\n",
    "### Next Steps:\n",
    "1. Real-world deployment testing\n",
    "2. have a front end to test the model & return the predicted dept_name\n",
    "3. handle user not having all columns\n",
    "4. export model\n",
    "5. deploy remotely\n"
   ]
  },
  {
   "cell_type": "code",
   "execution_count": null,
   "id": "11c73863-f748-45ab-8ffc-2c3602c637b5",
   "metadata": {},
   "outputs": [],
   "source": []
  },
  {
   "cell_type": "code",
   "execution_count": null,
   "id": "fbcd98e0-5f50-45a5-975a-e315e8301b49",
   "metadata": {},
   "outputs": [],
   "source": []
  },
  {
   "cell_type": "code",
   "execution_count": null,
   "id": "d45bc62e-c086-4ea9-b5c0-16f06eed2226",
   "metadata": {},
   "outputs": [],
   "source": []
  },
  {
   "cell_type": "code",
   "execution_count": null,
   "id": "a6f8708a-d21b-4396-849d-853be1e15f50",
   "metadata": {},
   "outputs": [],
   "source": []
  }
 ],
 "metadata": {
  "kernelspec": {
   "display_name": "Python 3 (ipykernel)",
   "language": "python",
   "name": "python3"
  },
  "language_info": {
   "codemirror_mode": {
    "name": "ipython",
    "version": 3
   },
   "file_extension": ".py",
   "mimetype": "text/x-python",
   "name": "python",
   "nbconvert_exporter": "python",
   "pygments_lexer": "ipython3",
   "version": "3.10.16"
  }
 },
 "nbformat": 4,
 "nbformat_minor": 5
}
