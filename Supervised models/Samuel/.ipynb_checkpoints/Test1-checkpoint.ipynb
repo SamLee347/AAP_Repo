{
 "cells": [
  {
   "cell_type": "code",
   "execution_count": 4,
   "id": "1ea32832-2609-412d-8bd0-f9cf7e30b8b8",
   "metadata": {},
   "outputs": [
    {
     "name": "stdout",
     "output_type": "stream",
     "text": [
      "1\n"
     ]
    }
   ],
   "source": [
    "x = 1\n",
    "\n",
    "print(x)"
   ]
  },
  {
   "cell_type": "code",
   "execution_count": 16,
   "id": "42b85cdf-8bf3-4f91-ad30-6e56a2aed5a5",
   "metadata": {},
   "outputs": [],
   "source": [
    "import sklearn\n",
    "\n",
    "sklearn.show_versions();"
   ]
  },
  {
   "cell_type": "code",
   "execution_count": 22,
   "id": "ae7be6b4-a744-4c0a-adf5-db86982a41ab",
   "metadata": {},
   "outputs": [
    {
     "name": "stdout",
     "output_type": "stream",
     "text": [
      "2.19.0\n"
     ]
    }
   ],
   "source": [
    "import tensorflow as tf\n",
    "\n",
    "print(tf.__version__)"
   ]
  }
 ],
 "metadata": {
  "kernelspec": {
   "display_name": "Python [conda env:IT3100] *",
   "language": "python",
   "name": "conda-env-IT3100-py"
  },
  "language_info": {
   "codemirror_mode": {
    "name": "ipython",
    "version": 3
   },
   "file_extension": ".py",
   "mimetype": "text/x-python",
   "name": "python",
   "nbconvert_exporter": "python",
   "pygments_lexer": "ipython3",
   "version": "3.12.9"
  }
 },
 "nbformat": 4,
 "nbformat_minor": 5
}
