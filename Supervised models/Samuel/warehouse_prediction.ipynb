{
 "cells": [
  {
   "cell_type": "markdown",
   "id": "b9dea245-1e86-4d43-8681-499b0a8abc3f",
   "metadata": {},
   "source": [
    "# Item Storage Prediction Model"
   ]
  },
  {
   "cell_type": "markdown",
   "id": "a447bcb8-32ce-4ad2-9c15-b3ba7e7945a1",
   "metadata": {},
   "source": [
    "Module: IT3100\n",
    "\n",
    "By: Samuel Lee (233221B)"
   ]
  },
  {
   "cell_type": "markdown",
   "id": "02a6eccb-b9f5-4b73-96c2-43e275f6ce8c",
   "metadata": {},
   "source": [
    "### The Problem:"
   ]
  },
  {
   "cell_type": "markdown",
   "id": "d3c7f715-8e46-4d52-9f25-a5671c99d6c5",
   "metadata": {},
   "source": [
    "ANS Import & Export experiences many issues with item mismanagement and retreival in storage, with samples often being lost. To address this issue, the goal of this model is to predict the location where each item should be stored in the warehouse, based on the item's quantity, priority, type, weight, and size."
   ]
  },
  {
   "cell_type": "markdown",
   "id": "506843ce-2b45-4a6f-baf6-46af1a3b9a34",
   "metadata": {},
   "source": [
    "### The Goal:"
   ]
  },
  {
   "cell_type": "markdown",
   "id": "8610bad2-2612-4784-9817-a86c90d95695",
   "metadata": {},
   "source": [
    "Create a supervised model that can determine the storage location of a sample, based on its input data."
   ]
  },
  {
   "cell_type": "markdown",
   "id": "d41f07e8-8e75-45f9-aa79-ba8dfd5baa55",
   "metadata": {},
   "source": [
    "## Data Collection"
   ]
  },
  {
   "cell_type": "markdown",
   "id": "168d04cb-f8fa-4bae-a6b4-1b99c62f1cff",
   "metadata": {},
   "source": [
    "### Initial Dataset"
   ]
  },
  {
   "cell_type": "markdown",
   "id": "87cda991-7b83-4ad1-a047-6332e584c8fe",
   "metadata": {},
   "source": [
    "Dataset Link: https://www.kaggle.com/datasets/yusufdelikkaya/online-sales-dataset"
   ]
  },
  {
   "cell_type": "markdown",
   "id": "300b6f25-421f-4251-9991-60994bc52ab1",
   "metadata": {},
   "source": [
    "Before settling on the final dataset used for this model, a separate dataset containing information on online sales was experimented with."
   ]
  },
  {
   "cell_type": "markdown",
   "id": "4081ba0d-af96-4470-b913-0b61d110dd91",
   "metadata": {},
   "source": [
    "#### Dataset Features:\n",
    "- InvoiceNo\n",
    "- StockCode\n",
    "- Description\n",
    "- Quantity\n",
    "- InvoiceDate\n",
    "- UnitPrice\n",
    "- CustomerID\n",
    "- Country\n",
    "- Discount\n",
    "- PaymentMethod\n",
    "- ShippingCost\n",
    "- Category\n",
    "- SalesChannel\n",
    "- ReturnStatus\n",
    "- ShipmentProvider\n",
    "- WarehouseLocation\n",
    "- OrderPriority"
   ]
  },
  {
   "cell_type": "markdown",
   "id": "ce7e4ab5-9a20-4ffb-b368-ab12c279be4c",
   "metadata": {},
   "source": [
    "#### Why use this dataset?"
   ]
  },
  {
   "cell_type": "markdown",
   "id": "4b316d47-e82f-41b3-83f7-ee3b9a1f7b01",
   "metadata": {},
   "source": [
    "Initially, this dataset was used as it aligned well with the problem statement, containing detailed information on various products, their categories, descriptions, and warehouse locations. Additionally, the dataset page contained detailed documentation on the source of the data, its uses, and the different features in the dataset. After attempting to use the data to train a model however, the data was found to insufficient in determining the warehouse location, with the model accuracy plateauing at ~20% each time training was performed."
   ]
  },
  {
   "cell_type": "markdown",
   "id": "d84fcff3-c49a-4df7-bf49-50f310c189bd",
   "metadata": {},
   "source": [
    "### The Final Dataset"
   ]
  },
  {
   "cell_type": "markdown",
   "id": "545023d0-9dfa-45ad-8f44-abdbfd1cc38d",
   "metadata": {},
   "source": [
    "Dataset: https://www.kaggle.com/datasets/metztl1/warehouse-dataset-2023 "
   ]
  },
  {
   "cell_type": "markdown",
   "id": "8ae5c463-f45f-49c3-b6b8-6fbecda2e160",
   "metadata": {},
   "source": [
    "This is the final dataset that was settled on to be used to train the model, following unsuccessful training with the previously used dataset."
   ]
  },
  {
   "cell_type": "markdown",
   "id": "88c26b59-54a5-4e7f-a975-ab569593efcf",
   "metadata": {},
   "source": [
    "#### Dataset Features:\n",
    "- Order_ID\n",
    "- Product_ID\n",
    "- Order_Quantity\n",
    "- Priority\n",
    "- Product_Type\n",
    "- Location\n",
    "- Weight\n",
    "- Size"
   ]
  },
  {
   "cell_type": "markdown",
   "id": "bc9e1c2c-6dc4-4cf6-9a04-67f27b717147",
   "metadata": {},
   "source": [
    "#### Why use this dataset?"
   ]
  },
  {
   "cell_type": "markdown",
   "id": "08cbbf5c-3fa5-4068-926d-3c332cdf06ea",
   "metadata": {},
   "source": [
    "Compared to the previous dataset used, the current dataset contains information much more relevant to the model task, with more ordinal data such as item priority, weight, size, and quantity. The current dataset also closely aligns with the problem statement, with data on items stored in the warehouse, and the section of the warehouse each item is stored in (E.g. A-5, B-2, C-6, etc...), which is crucial for classification. Finally, the dataset contains a suitable number of entries for training, with 1500 entries contained in the dataset."
   ]
  },
  {
   "cell_type": "markdown",
   "id": "f0811ff5-c19a-4876-ae96-b38d7646022b",
   "metadata": {},
   "source": [
    "## Importing the Libraries"
   ]
  },
  {
   "cell_type": "markdown",
   "id": "0fbfc220-4f8f-4441-8644-e5bdc019caa4",
   "metadata": {},
   "source": [
    "First, we import the necessary libraries to be used for the data preparation and the model"
   ]
  },
  {
   "cell_type": "code",
   "execution_count": 1,
   "id": "658862d7-e207-4421-bfd0-d46111bec124",
   "metadata": {
    "editable": true,
    "slideshow": {
     "slide_type": ""
    },
    "tags": []
   },
   "outputs": [],
   "source": [
    "import os\n",
    "import tensorflow as tf\n",
    "from tensorflow import keras as keras\n",
    "import keras.layers as layers\n",
    "from keras.applications import vgg16\n",
    "from sklearn.metrics import classification_report\n",
    "import matplotlib.pyplot as plt\n",
    "import numpy as np\n",
    "import pandas as pd\n",
    "import scipy\n",
    "import requests, io, zipfile\n",
    "from scipy.io import arff\n",
    "from sklearn.impute import SimpleImputer\n",
    "from sklearn.compose import ColumnTransformer\n",
    "from sklearn.preprocessing import OneHotEncoder\n",
    "from sklearn.preprocessing import LabelEncoder\n",
    "from keras.utils import to_categorical\n",
    "from sklearn.model_selection import train_test_split\n",
    "from sklearn.ensemble import RandomForestClassifier\n",
    "from sklearn.metrics import classification_report, accuracy_score, confusion_matrix, ConfusionMatrixDisplay\n",
    "import seaborn as sns"
   ]
  },
  {
   "cell_type": "markdown",
   "id": "82aab0b6-278e-4954-ba93-a40babebc8ff",
   "metadata": {},
   "source": [
    "## Reading the dataset"
   ]
  },
  {
   "cell_type": "markdown",
   "id": "a6ea56dc-891d-46da-ae03-0bd22b431c05",
   "metadata": {},
   "source": [
    "The warehouse dataset is downloaded and stored in the project folder as a .csv file. Here, we read the file using pandas, storing it as \"df\"."
   ]
  },
  {
   "cell_type": "code",
   "execution_count": 2,
   "id": "d9a38f65-d1ea-4b9b-8f3b-94f38bc5be88",
   "metadata": {},
   "outputs": [
    {
     "data": {
      "text/html": [
       "<div>\n",
       "<style scoped>\n",
       "    .dataframe tbody tr th:only-of-type {\n",
       "        vertical-align: middle;\n",
       "    }\n",
       "\n",
       "    .dataframe tbody tr th {\n",
       "        vertical-align: top;\n",
       "    }\n",
       "\n",
       "    .dataframe thead th {\n",
       "        text-align: right;\n",
       "    }\n",
       "</style>\n",
       "<table border=\"1\" class=\"dataframe\">\n",
       "  <thead>\n",
       "    <tr style=\"text-align: right;\">\n",
       "      <th></th>\n",
       "      <th>Order_ID</th>\n",
       "      <th>Product_ID</th>\n",
       "      <th>Order_Quantity</th>\n",
       "      <th>Priority</th>\n",
       "      <th>Product_Type</th>\n",
       "      <th>Location</th>\n",
       "      <th>Weight</th>\n",
       "      <th>Size</th>\n",
       "    </tr>\n",
       "  </thead>\n",
       "  <tbody>\n",
       "    <tr>\n",
       "      <th>0</th>\n",
       "      <td>10111</td>\n",
       "      <td>P001</td>\n",
       "      <td>9</td>\n",
       "      <td>High</td>\n",
       "      <td>Sports</td>\n",
       "      <td>A-5</td>\n",
       "      <td>9.78</td>\n",
       "      <td>Small</td>\n",
       "    </tr>\n",
       "    <tr>\n",
       "      <th>1</th>\n",
       "      <td>10112</td>\n",
       "      <td>P002</td>\n",
       "      <td>13</td>\n",
       "      <td>High</td>\n",
       "      <td>Electronics</td>\n",
       "      <td>A-5</td>\n",
       "      <td>5.42</td>\n",
       "      <td>Medium</td>\n",
       "    </tr>\n",
       "    <tr>\n",
       "      <th>2</th>\n",
       "      <td>10113</td>\n",
       "      <td>P003</td>\n",
       "      <td>16</td>\n",
       "      <td>Low</td>\n",
       "      <td>Clothing</td>\n",
       "      <td>B-2</td>\n",
       "      <td>7.51</td>\n",
       "      <td>Large</td>\n",
       "    </tr>\n",
       "    <tr>\n",
       "      <th>3</th>\n",
       "      <td>10114</td>\n",
       "      <td>P004</td>\n",
       "      <td>5</td>\n",
       "      <td>High</td>\n",
       "      <td>Home Goods</td>\n",
       "      <td>C-1</td>\n",
       "      <td>8.39</td>\n",
       "      <td>Small</td>\n",
       "    </tr>\n",
       "    <tr>\n",
       "      <th>4</th>\n",
       "      <td>10115</td>\n",
       "      <td>P005</td>\n",
       "      <td>5</td>\n",
       "      <td>Low</td>\n",
       "      <td>Electronics</td>\n",
       "      <td>A-6</td>\n",
       "      <td>7.47</td>\n",
       "      <td>Large</td>\n",
       "    </tr>\n",
       "    <tr>\n",
       "      <th>...</th>\n",
       "      <td>...</td>\n",
       "      <td>...</td>\n",
       "      <td>...</td>\n",
       "      <td>...</td>\n",
       "      <td>...</td>\n",
       "      <td>...</td>\n",
       "      <td>...</td>\n",
       "      <td>...</td>\n",
       "    </tr>\n",
       "    <tr>\n",
       "      <th>1495</th>\n",
       "      <td>1042</td>\n",
       "      <td>P042</td>\n",
       "      <td>9</td>\n",
       "      <td>Medium</td>\n",
       "      <td>Sports</td>\n",
       "      <td>C-3</td>\n",
       "      <td>4.41</td>\n",
       "      <td>Small</td>\n",
       "    </tr>\n",
       "    <tr>\n",
       "      <th>1496</th>\n",
       "      <td>1038</td>\n",
       "      <td>P038</td>\n",
       "      <td>24</td>\n",
       "      <td>Medium</td>\n",
       "      <td>Sports</td>\n",
       "      <td>B-5</td>\n",
       "      <td>4.68</td>\n",
       "      <td>Small</td>\n",
       "    </tr>\n",
       "    <tr>\n",
       "      <th>1497</th>\n",
       "      <td>1028</td>\n",
       "      <td>P028</td>\n",
       "      <td>20</td>\n",
       "      <td>Medium</td>\n",
       "      <td>Electronics</td>\n",
       "      <td>C-2</td>\n",
       "      <td>1.79</td>\n",
       "      <td>Small</td>\n",
       "    </tr>\n",
       "    <tr>\n",
       "      <th>1498</th>\n",
       "      <td>1022</td>\n",
       "      <td>P022</td>\n",
       "      <td>19</td>\n",
       "      <td>High</td>\n",
       "      <td>Sports</td>\n",
       "      <td>B-3</td>\n",
       "      <td>4.32</td>\n",
       "      <td>Small</td>\n",
       "    </tr>\n",
       "    <tr>\n",
       "      <th>1499</th>\n",
       "      <td>1030</td>\n",
       "      <td>P030</td>\n",
       "      <td>11</td>\n",
       "      <td>Low</td>\n",
       "      <td>Clothing</td>\n",
       "      <td>A-4</td>\n",
       "      <td>1.02</td>\n",
       "      <td>Medium</td>\n",
       "    </tr>\n",
       "  </tbody>\n",
       "</table>\n",
       "<p>1500 rows × 8 columns</p>\n",
       "</div>"
      ],
      "text/plain": [
       "      Order_ID Product_ID  Order_Quantity Priority Product_Type Location  \\\n",
       "0        10111       P001               9     High       Sports      A-5   \n",
       "1        10112       P002              13     High  Electronics      A-5   \n",
       "2        10113       P003              16      Low     Clothing      B-2   \n",
       "3        10114       P004               5     High   Home Goods      C-1   \n",
       "4        10115       P005               5      Low  Electronics      A-6   \n",
       "...        ...        ...             ...      ...          ...      ...   \n",
       "1495      1042       P042               9   Medium       Sports      C-3   \n",
       "1496      1038       P038              24   Medium       Sports      B-5   \n",
       "1497      1028       P028              20   Medium  Electronics      C-2   \n",
       "1498      1022       P022              19     High       Sports      B-3   \n",
       "1499      1030       P030              11      Low     Clothing      A-4   \n",
       "\n",
       "      Weight    Size  \n",
       "0       9.78   Small  \n",
       "1       5.42  Medium  \n",
       "2       7.51   Large  \n",
       "3       8.39   Small  \n",
       "4       7.47   Large  \n",
       "...      ...     ...  \n",
       "1495    4.41   Small  \n",
       "1496    4.68   Small  \n",
       "1497    1.79   Small  \n",
       "1498    4.32   Small  \n",
       "1499    1.02  Medium  \n",
       "\n",
       "[1500 rows x 8 columns]"
      ]
     },
     "execution_count": 2,
     "metadata": {},
     "output_type": "execute_result"
    }
   ],
   "source": [
    "df = pd.read_csv(\"Updated Warehouse Data.csv\")\n",
    "df"
   ]
  },
  {
   "cell_type": "markdown",
   "id": "96186136-d833-410b-9b49-d4a69f831984",
   "metadata": {},
   "source": [
    "## Data Visualization"
   ]
  },
  {
   "cell_type": "markdown",
   "id": "238a8476-f412-48f6-a486-8ac66c4d3b5e",
   "metadata": {},
   "source": [
    "#### Number of items per storage section"
   ]
  },
  {
   "cell_type": "code",
   "execution_count": 3,
   "id": "3d85d5ce-85b1-41cf-8006-bd76d99e5dcc",
   "metadata": {},
   "outputs": [
    {
     "data": {
      "image/png": "[encoded data removed]",
      "text/plain": [
       "<Figure size 1000x600 with 1 Axes>"
      ]
     },
     "metadata": {},
     "output_type": "display_data"
    }
   ],
   "source": [
    "items_per_location = df.groupby('Location')['Order_Quantity'].sum()\n",
    "\n",
    "# Sort the result\n",
    "items_per_location = items_per_location.sort_values(ascending=False)\n",
    "\n",
    "# Plot using matplotlib\n",
    "plt.figure(figsize=(10, 6))\n",
    "items_per_location.plot(kind='bar', color='skyblue', edgecolor='black')\n",
    "\n",
    "plt.title('Total Items per Storage Section (Location)')\n",
    "plt.xlabel('Storage Location')\n",
    "plt.ylabel('Total Order Quantity')\n",
    "plt.xticks(rotation=45)\n",
    "plt.tight_layout()\n",
    "plt.grid(axis='y', linestyle='--', alpha=0.7)\n",
    "\n",
    "plt.show()"
   ]
  },
  {
   "cell_type": "markdown",
   "id": "66ce8868-a42c-45ee-a672-3d161e85990b",
   "metadata": {},
   "source": [
    "#### Heatmap"
   ]
  },
  {
   "cell_type": "code",
   "execution_count": 4,
   "id": "a965e276-cdb9-40c7-bd2d-86ba83c85071",
   "metadata": {},
   "outputs": [
    {
     "data": {
      "image/png": "[encoded data removed]",
      "text/plain": [
       "<Figure size 1000x800 with 2 Axes>"
      ]
     },
     "metadata": {},
     "output_type": "display_data"
    }
   ],
   "source": [
    "# Encode categorical features\n",
    "df_encoded = df.copy()\n",
    "categorical_cols = ['Priority', 'Product_Type', 'Location', 'Size']\n",
    "\n",
    "# Convert categorical columns to category codes\n",
    "for col in categorical_cols:\n",
    "    df_encoded[col] = df_encoded[col].astype('category').cat.codes\n",
    "\n",
    "# Compute correlation matrix\n",
    "corr_matrix = df_encoded.corr(numeric_only=True)\n",
    "\n",
    "# Plot heatmap\n",
    "plt.figure(figsize=(10, 8))\n",
    "sns.heatmap(corr_matrix, annot=True, cmap='coolwarm', fmt='.2f', linewidths=0.5)\n",
    "\n",
    "plt.title('Correlation Heatmap of Dataset Features')\n",
    "plt.tight_layout()\n",
    "plt.show()"
   ]
  },
  {
   "cell_type": "markdown",
   "id": "7ece9fe5-44b3-46af-9bd3-9331d6c8ede5",
   "metadata": {},
   "source": [
    "## Data Preparation"
   ]
  },
  {
   "cell_type": "markdown",
   "id": "47d94aa7-58e2-45ee-8b0f-c76ba236ce9c",
   "metadata": {},
   "source": [
    "#### Dropping unnecessary features"
   ]
  },
  {
   "cell_type": "markdown",
   "id": "4366eb53-c63e-47aa-8aae-41efd59aaf0c",
   "metadata": {},
   "source": [
    "Here, we drop the features in the dataset that are unecessary in training the model. As the Order_ID and Product_ID contain only unique values, with no correlation with the other features in the dataset, we drop them to help reduce the number of features input into the model for training. This also helps to prevent overfitting as the model could otherwise end up relying on the IDs in the training data for making predictions, making it less reliable when making predictions for unseen data."
   ]
  },
  {
   "cell_type": "code",
   "execution_count": 5,
   "id": "f44e80a5-1cdb-4fca-8e62-055b9b568ba2",
   "metadata": {},
   "outputs": [
    {
     "data": {
      "text/html": [
       "<div>\n",
       "<style scoped>\n",
       "    .dataframe tbody tr th:only-of-type {\n",
       "        vertical-align: middle;\n",
       "    }\n",
       "\n",
       "    .dataframe tbody tr th {\n",
       "        vertical-align: top;\n",
       "    }\n",
       "\n",
       "    .dataframe thead th {\n",
       "        text-align: right;\n",
       "    }\n",
       "</style>\n",
       "<table border=\"1\" class=\"dataframe\">\n",
       "  <thead>\n",
       "    <tr style=\"text-align: right;\">\n",
       "      <th></th>\n",
       "      <th>Order_Quantity</th>\n",
       "      <th>Priority</th>\n",
       "      <th>Product_Type</th>\n",
       "      <th>Location</th>\n",
       "      <th>Weight</th>\n",
       "      <th>Size</th>\n",
       "    </tr>\n",
       "  </thead>\n",
       "  <tbody>\n",
       "    <tr>\n",
       "      <th>0</th>\n",
       "      <td>9</td>\n",
       "      <td>High</td>\n",
       "      <td>Sports</td>\n",
       "      <td>A-5</td>\n",
       "      <td>9.78</td>\n",
       "      <td>Small</td>\n",
       "    </tr>\n",
       "    <tr>\n",
       "      <th>1</th>\n",
       "      <td>13</td>\n",
       "      <td>High</td>\n",
       "      <td>Electronics</td>\n",
       "      <td>A-5</td>\n",
       "      <td>5.42</td>\n",
       "      <td>Medium</td>\n",
       "    </tr>\n",
       "    <tr>\n",
       "      <th>2</th>\n",
       "      <td>16</td>\n",
       "      <td>Low</td>\n",
       "      <td>Clothing</td>\n",
       "      <td>B-2</td>\n",
       "      <td>7.51</td>\n",
       "      <td>Large</td>\n",
       "    </tr>\n",
       "    <tr>\n",
       "      <th>3</th>\n",
       "      <td>5</td>\n",
       "      <td>High</td>\n",
       "      <td>Home Goods</td>\n",
       "      <td>C-1</td>\n",
       "      <td>8.39</td>\n",
       "      <td>Small</td>\n",
       "    </tr>\n",
       "    <tr>\n",
       "      <th>4</th>\n",
       "      <td>5</td>\n",
       "      <td>Low</td>\n",
       "      <td>Electronics</td>\n",
       "      <td>A-6</td>\n",
       "      <td>7.47</td>\n",
       "      <td>Large</td>\n",
       "    </tr>\n",
       "    <tr>\n",
       "      <th>...</th>\n",
       "      <td>...</td>\n",
       "      <td>...</td>\n",
       "      <td>...</td>\n",
       "      <td>...</td>\n",
       "      <td>...</td>\n",
       "      <td>...</td>\n",
       "    </tr>\n",
       "    <tr>\n",
       "      <th>1495</th>\n",
       "      <td>9</td>\n",
       "      <td>Medium</td>\n",
       "      <td>Sports</td>\n",
       "      <td>C-3</td>\n",
       "      <td>4.41</td>\n",
       "      <td>Small</td>\n",
       "    </tr>\n",
       "    <tr>\n",
       "      <th>1496</th>\n",
       "      <td>24</td>\n",
       "      <td>Medium</td>\n",
       "      <td>Sports</td>\n",
       "      <td>B-5</td>\n",
       "      <td>4.68</td>\n",
       "      <td>Small</td>\n",
       "    </tr>\n",
       "    <tr>\n",
       "      <th>1497</th>\n",
       "      <td>20</td>\n",
       "      <td>Medium</td>\n",
       "      <td>Electronics</td>\n",
       "      <td>C-2</td>\n",
       "      <td>1.79</td>\n",
       "      <td>Small</td>\n",
       "    </tr>\n",
       "    <tr>\n",
       "      <th>1498</th>\n",
       "      <td>19</td>\n",
       "      <td>High</td>\n",
       "      <td>Sports</td>\n",
       "      <td>B-3</td>\n",
       "      <td>4.32</td>\n",
       "      <td>Small</td>\n",
       "    </tr>\n",
       "    <tr>\n",
       "      <th>1499</th>\n",
       "      <td>11</td>\n",
       "      <td>Low</td>\n",
       "      <td>Clothing</td>\n",
       "      <td>A-4</td>\n",
       "      <td>1.02</td>\n",
       "      <td>Medium</td>\n",
       "    </tr>\n",
       "  </tbody>\n",
       "</table>\n",
       "<p>1500 rows × 6 columns</p>\n",
       "</div>"
      ],
      "text/plain": [
       "      Order_Quantity Priority Product_Type Location  Weight    Size\n",
       "0                  9     High       Sports      A-5    9.78   Small\n",
       "1                 13     High  Electronics      A-5    5.42  Medium\n",
       "2                 16      Low     Clothing      B-2    7.51   Large\n",
       "3                  5     High   Home Goods      C-1    8.39   Small\n",
       "4                  5      Low  Electronics      A-6    7.47   Large\n",
       "...              ...      ...          ...      ...     ...     ...\n",
       "1495               9   Medium       Sports      C-3    4.41   Small\n",
       "1496              24   Medium       Sports      B-5    4.68   Small\n",
       "1497              20   Medium  Electronics      C-2    1.79   Small\n",
       "1498              19     High       Sports      B-3    4.32   Small\n",
       "1499              11      Low     Clothing      A-4    1.02  Medium\n",
       "\n",
       "[1500 rows x 6 columns]"
      ]
     },
     "execution_count": 5,
     "metadata": {},
     "output_type": "execute_result"
    }
   ],
   "source": [
    "df1 = df\n",
    "df1 = df1.drop(['Order_ID','Product_ID'],axis=1)\n",
    "df1"
   ]
  },
  {
   "cell_type": "markdown",
   "id": "20c3c521-71e7-4bde-80ca-f30d38e0634a",
   "metadata": {},
   "source": [
    "#### Removing any Missing Values"
   ]
  },
  {
   "cell_type": "markdown",
   "id": "cb3bc4ce-c410-4ee1-874f-0bb911ad392a",
   "metadata": {},
   "source": [
    "It is common practice in data preparation to drop/replace any null values. Here we run the code used to drop all null values in the dataset."
   ]
  },
  {
   "cell_type": "code",
   "execution_count": 6,
   "id": "c2986e69-eec1-457a-89bd-bcbcf54f9490",
   "metadata": {
    "editable": true,
    "slideshow": {
     "slide_type": ""
    },
    "tags": []
   },
   "outputs": [
    {
     "data": {
      "text/html": [
       "<div>\n",
       "<style scoped>\n",
       "    .dataframe tbody tr th:only-of-type {\n",
       "        vertical-align: middle;\n",
       "    }\n",
       "\n",
       "    .dataframe tbody tr th {\n",
       "        vertical-align: top;\n",
       "    }\n",
       "\n",
       "    .dataframe thead th {\n",
       "        text-align: right;\n",
       "    }\n",
       "</style>\n",
       "<table border=\"1\" class=\"dataframe\">\n",
       "  <thead>\n",
       "    <tr style=\"text-align: right;\">\n",
       "      <th></th>\n",
       "      <th>Order_Quantity</th>\n",
       "      <th>Priority</th>\n",
       "      <th>Product_Type</th>\n",
       "      <th>Location</th>\n",
       "      <th>Weight</th>\n",
       "      <th>Size</th>\n",
       "    </tr>\n",
       "  </thead>\n",
       "  <tbody>\n",
       "    <tr>\n",
       "      <th>0</th>\n",
       "      <td>9</td>\n",
       "      <td>High</td>\n",
       "      <td>Sports</td>\n",
       "      <td>A-5</td>\n",
       "      <td>9.78</td>\n",
       "      <td>Small</td>\n",
       "    </tr>\n",
       "    <tr>\n",
       "      <th>1</th>\n",
       "      <td>13</td>\n",
       "      <td>High</td>\n",
       "      <td>Electronics</td>\n",
       "      <td>A-5</td>\n",
       "      <td>5.42</td>\n",
       "      <td>Medium</td>\n",
       "    </tr>\n",
       "    <tr>\n",
       "      <th>2</th>\n",
       "      <td>16</td>\n",
       "      <td>Low</td>\n",
       "      <td>Clothing</td>\n",
       "      <td>B-2</td>\n",
       "      <td>7.51</td>\n",
       "      <td>Large</td>\n",
       "    </tr>\n",
       "    <tr>\n",
       "      <th>3</th>\n",
       "      <td>5</td>\n",
       "      <td>High</td>\n",
       "      <td>Home Goods</td>\n",
       "      <td>C-1</td>\n",
       "      <td>8.39</td>\n",
       "      <td>Small</td>\n",
       "    </tr>\n",
       "    <tr>\n",
       "      <th>4</th>\n",
       "      <td>5</td>\n",
       "      <td>Low</td>\n",
       "      <td>Electronics</td>\n",
       "      <td>A-6</td>\n",
       "      <td>7.47</td>\n",
       "      <td>Large</td>\n",
       "    </tr>\n",
       "    <tr>\n",
       "      <th>...</th>\n",
       "      <td>...</td>\n",
       "      <td>...</td>\n",
       "      <td>...</td>\n",
       "      <td>...</td>\n",
       "      <td>...</td>\n",
       "      <td>...</td>\n",
       "    </tr>\n",
       "    <tr>\n",
       "      <th>1495</th>\n",
       "      <td>9</td>\n",
       "      <td>Medium</td>\n",
       "      <td>Sports</td>\n",
       "      <td>C-3</td>\n",
       "      <td>4.41</td>\n",
       "      <td>Small</td>\n",
       "    </tr>\n",
       "    <tr>\n",
       "      <th>1496</th>\n",
       "      <td>24</td>\n",
       "      <td>Medium</td>\n",
       "      <td>Sports</td>\n",
       "      <td>B-5</td>\n",
       "      <td>4.68</td>\n",
       "      <td>Small</td>\n",
       "    </tr>\n",
       "    <tr>\n",
       "      <th>1497</th>\n",
       "      <td>20</td>\n",
       "      <td>Medium</td>\n",
       "      <td>Electronics</td>\n",
       "      <td>C-2</td>\n",
       "      <td>1.79</td>\n",
       "      <td>Small</td>\n",
       "    </tr>\n",
       "    <tr>\n",
       "      <th>1498</th>\n",
       "      <td>19</td>\n",
       "      <td>High</td>\n",
       "      <td>Sports</td>\n",
       "      <td>B-3</td>\n",
       "      <td>4.32</td>\n",
       "      <td>Small</td>\n",
       "    </tr>\n",
       "    <tr>\n",
       "      <th>1499</th>\n",
       "      <td>11</td>\n",
       "      <td>Low</td>\n",
       "      <td>Clothing</td>\n",
       "      <td>A-4</td>\n",
       "      <td>1.02</td>\n",
       "      <td>Medium</td>\n",
       "    </tr>\n",
       "  </tbody>\n",
       "</table>\n",
       "<p>1500 rows × 6 columns</p>\n",
       "</div>"
      ],
      "text/plain": [
       "      Order_Quantity Priority Product_Type Location  Weight    Size\n",
       "0                  9     High       Sports      A-5    9.78   Small\n",
       "1                 13     High  Electronics      A-5    5.42  Medium\n",
       "2                 16      Low     Clothing      B-2    7.51   Large\n",
       "3                  5     High   Home Goods      C-1    8.39   Small\n",
       "4                  5      Low  Electronics      A-6    7.47   Large\n",
       "...              ...      ...          ...      ...     ...     ...\n",
       "1495               9   Medium       Sports      C-3    4.41   Small\n",
       "1496              24   Medium       Sports      B-5    4.68   Small\n",
       "1497              20   Medium  Electronics      C-2    1.79   Small\n",
       "1498              19     High       Sports      B-3    4.32   Small\n",
       "1499              11      Low     Clothing      A-4    1.02  Medium\n",
       "\n",
       "[1500 rows x 6 columns]"
      ]
     },
     "execution_count": 6,
     "metadata": {},
     "output_type": "execute_result"
    }
   ],
   "source": [
    "df2 = df1\n",
    "df2 = df2.dropna()\n",
    "df2"
   ]
  },
  {
   "cell_type": "markdown",
   "id": "5dc36076-9bb7-426e-9c03-f8baad29d8b8",
   "metadata": {},
   "source": [
    "Upon running the code, we can see that there were no null values in the dataset to begin with; The number of rows remains unchanged. Regardless, it is still good practice to perform this step."
   ]
  },
  {
   "cell_type": "markdown",
   "id": "dbeaae0c-4a48-4e39-9d2c-efcdcc6a73a0",
   "metadata": {},
   "source": [
    "#### Extracting the values into feature and target"
   ]
  },
  {
   "cell_type": "markdown",
   "id": "645e133e-cb61-47ec-9e3d-ef857a640523",
   "metadata": {},
   "source": [
    "As the goal of the model is to predict the location of storage, we set the Location as the target (y), with the remaining features in the dataset as the features (x)"
   ]
  },
  {
   "cell_type": "code",
   "execution_count": 7,
   "id": "ca15f0a6-4e3f-4e2a-b236-5d84678d9cc0",
   "metadata": {
    "editable": true,
    "slideshow": {
     "slide_type": ""
    },
    "tags": []
   },
   "outputs": [
    {
     "name": "stdout",
     "output_type": "stream",
     "text": [
      "[[9 'High' 'Sports' 9.78 'Small']\n",
      " [13 'High' 'Electronics' 5.42 'Medium']\n",
      " [16 'Low' 'Clothing' 7.51 'Large']\n",
      " ...\n",
      " [20 'Medium' 'Electronics' 1.79 'Small']\n",
      " [19 'High' 'Sports' 4.32 'Small']\n",
      " [11 'Low' 'Clothing' 1.02 'Medium']]\n",
      "['A-5' 'A-5' 'B-2' ... 'C-2' 'B-3' 'A-4']\n",
      "Labels: ['A-5' 'B-2' 'C-1' 'A-6' 'A-3' 'B-1' 'A-2' 'C-2' 'B-6' 'C-3' 'B-4' 'B-3'\n",
      " 'A-1' 'C-5' 'C-6' 'A-4' 'B-5' 'C-4']\n"
     ]
    }
   ],
   "source": [
    "x = df2.drop(df2.columns[3], axis=1).values\n",
    "y = df2['Location'].values\n",
    "print(x)\n",
    "print(y)\n",
    "print(f\"Labels: {df2['Location'].unique()}\")"
   ]
  },
  {
   "cell_type": "markdown",
   "id": "4c11bce3-ff5b-4faa-a0c7-24bd66bb5024",
   "metadata": {},
   "source": [
    "#### Encoding the Categorical Data"
   ]
  },
  {
   "cell_type": "markdown",
   "id": "b5c8522d-b6cd-4827-b76f-952e897c1897",
   "metadata": {},
   "source": [
    "At this step, we encode the categorical data into a format readable by the model. We use one-hot encoding to encode the non-numerical features (Priority, Product_Type, and Size), as the model is only able read numerical values, and the use of one-hot encoding helps to prevent any unintended ordering of the data. We also encode the target using LabelEncoder."
   ]
  },
  {
   "cell_type": "code",
   "execution_count": 8,
   "id": "8747392f-a015-4d46-ac6a-531197bb36f5",
   "metadata": {
    "editable": true,
    "slideshow": {
     "slide_type": ""
    },
    "tags": []
   },
   "outputs": [],
   "source": [
    "ct = ColumnTransformer(transformers=[('encoder', OneHotEncoder(sparse_output=False), [1,2,4])], remainder='passthrough')\n",
    "x_final = np.array(ct.fit_transform(x))"
   ]
  },
  {
   "cell_type": "code",
   "execution_count": 9,
   "id": "3e4c55c8-701a-4afb-9da7-04919dfe9313",
   "metadata": {
    "editable": true,
    "slideshow": {
     "slide_type": ""
    },
    "tags": []
   },
   "outputs": [
    {
     "name": "stdout",
     "output_type": "stream",
     "text": [
      "[0.0 0.0 1.0 0.0 1.0 0.0 0.0 0.0 0.0 1.0 20 1.79]\n",
      "C-2\n"
     ]
    }
   ],
   "source": [
    "index = 1497\n",
    "\n",
    "print(x_final[index])\n",
    "print(y[index])"
   ]
  },
  {
   "cell_type": "markdown",
   "id": "594d59d9-57f2-4416-ba7b-7f12558a1aa6",
   "metadata": {},
   "source": [
    "#### Splitting the Dataset into Training and Validation sets"
   ]
  },
  {
   "cell_type": "markdown",
   "id": "632c9a0a-ac94-42fc-adba-6fea3e2794ce",
   "metadata": {},
   "source": [
    "Here we split the dataset into 80% training data abd 20% testing data, an optimal ratio for the modelling phase. We also add random_state = 42 to randomize the order of the data, allowing the model training to be more robust."
   ]
  },
  {
   "cell_type": "code",
   "execution_count": 10,
   "id": "5eee5154-a286-4abb-b5e8-4fc15455fa13",
   "metadata": {},
   "outputs": [],
   "source": [
    "X_train, X_test, y_train, y_test = train_test_split(x_final, y, test_size = 0.2, random_state = 42)\n",
    "X_train = np.array(X_train).astype(np.float32)\n",
    "X_test = np.array(X_test).astype(np.float32)"
   ]
  },
  {
   "cell_type": "code",
   "execution_count": 11,
   "id": "74a273ad-2f0e-4aea-a814-c59a776c7318",
   "metadata": {},
   "outputs": [
    {
     "name": "stdout",
     "output_type": "stream",
     "text": [
      "[[ 0.    1.    0.   ...  0.   17.    4.52]\n",
      " [ 1.    0.    0.   ...  1.   17.    6.39]\n",
      " [ 1.    0.    0.   ...  0.   20.    2.25]\n",
      " ...\n",
      " [ 0.    1.    0.   ...  1.   17.    4.52]\n",
      " [ 0.    1.    0.   ...  0.   12.    7.24]\n",
      " [ 0.    1.    0.   ...  0.    8.    8.66]]\n"
     ]
    }
   ],
   "source": [
    "print(X_train)"
   ]
  },
  {
   "cell_type": "code",
   "execution_count": 12,
   "id": "3b7ade90-2e11-435a-924d-008792e92bcd",
   "metadata": {},
   "outputs": [
    {
     "name": "stdout",
     "output_type": "stream",
     "text": [
      "[[ 0.    1.    0.   ...  0.   12.    7.24]\n",
      " [ 0.    1.    0.   ...  1.    7.    7.37]\n",
      " [ 1.    0.    0.   ...  0.   13.    7.67]\n",
      " ...\n",
      " [ 0.    1.    0.   ...  0.   23.    5.89]\n",
      " [ 0.    1.    0.   ...  0.   24.    8.2 ]\n",
      " [ 1.    0.    0.   ...  0.    7.    4.41]]\n"
     ]
    }
   ],
   "source": [
    "print(X_test)"
   ]
  },
  {
   "cell_type": "code",
   "execution_count": 13,
   "id": "34eea5f9-8cfe-4245-b331-fab2e2dea27d",
   "metadata": {},
   "outputs": [
    {
     "name": "stdout",
     "output_type": "stream",
     "text": [
      "['C-6' 'B-6' 'A-6' ... 'C-6' 'C-4' 'A-2']\n"
     ]
    }
   ],
   "source": [
    "print(y_train)"
   ]
  },
  {
   "cell_type": "code",
   "execution_count": 14,
   "id": "8f1df06e-3c69-4574-8aea-6fa36e972b33",
   "metadata": {},
   "outputs": [
    {
     "name": "stdout",
     "output_type": "stream",
     "text": [
      "['C-4' 'B-4' 'C-1' 'B-6' 'A-5' 'C-3' 'A-5' 'B-6' 'A-6' 'B-6' 'B-6' 'C-1'\n",
      " 'B-3' 'B-6' 'C-3' 'B-6' 'C-2' 'B-1' 'C-1' 'B-5' 'B-4' 'C-1' 'C-1' 'A-6'\n",
      " 'B-5' 'B-6' 'A-5' 'A-6' 'B-1' 'A-6' 'B-3' 'A-4' 'B-5' 'B-4' 'C-3' 'A-2'\n",
      " 'C-3' 'A-4' 'B-2' 'C-3' 'B-6' 'B-2' 'A-4' 'A-6' 'C-3' 'A-6' 'A-5' 'B-3'\n",
      " 'C-4' 'B-6' 'A-5' 'C-1' 'C-2' 'C-6' 'A-5' 'A-2' 'B-4' 'B-4' 'C-3' 'A-5'\n",
      " 'B-6' 'B-2' 'A-6' 'C-6' 'B-6' 'B-6' 'C-3' 'B-4' 'A-2' 'B-1' 'A-6' 'A-6'\n",
      " 'A-1' 'C-4' 'B-1' 'A-1' 'A-2' 'B-4' 'B-3' 'B-3' 'B-6' 'A-4' 'C-1' 'A-2'\n",
      " 'A-4' 'C-6' 'A-1' 'C-6' 'C-1' 'B-2' 'B-6' 'B-1' 'A-4' 'A-2' 'B-6' 'C-6'\n",
      " 'B-4' 'A-4' 'B-6' 'B-1' 'C-1' 'B-5' 'A-2' 'B-4' 'B-6' 'C-3' 'A-1' 'C-3'\n",
      " 'B-6' 'B-6' 'C-1' 'B-4' 'A-2' 'A-3' 'C-6' 'C-1' 'B-6' 'C-1' 'B-6' 'B-4'\n",
      " 'B-6' 'A-6' 'C-3' 'A-5' 'C-5' 'B-1' 'A-2' 'C-6' 'A-2' 'B-1' 'A-4' 'C-5'\n",
      " 'C-1' 'B-4' 'B-4' 'A-6' 'B-1' 'B-6' 'B-3' 'A-1' 'A-6' 'C-1' 'C-4' 'A-3'\n",
      " 'B-6' 'A-5' 'B-6' 'B-1' 'B-3' 'C-4' 'C-3' 'A-6' 'B-5' 'B-6' 'C-6' 'A-2'\n",
      " 'C-6' 'C-3' 'C-4' 'A-3' 'C-1' 'B-5' 'B-5' 'A-2' 'B-3' 'B-4' 'C-1' 'B-1'\n",
      " 'A-6' 'A-5' 'A-5' 'A-5' 'C-1' 'B-4' 'C-1' 'B-6' 'B-1' 'B-4' 'A-3' 'B-1'\n",
      " 'B-1' 'A-5' 'B-5' 'A-5' 'B-6' 'A-2' 'A-5' 'B-4' 'C-3' 'C-3' 'C-1' 'A-6'\n",
      " 'C-1' 'A-2' 'A-6' 'B-3' 'A-4' 'A-6' 'C-3' 'C-1' 'A-2' 'B-6' 'C-1' 'A-3'\n",
      " 'B-3' 'B-1' 'B-2' 'A-1' 'C-1' 'B-5' 'A-1' 'A-5' 'B-1' 'B-5' 'A-4' 'C-1'\n",
      " 'C-1' 'B-6' 'C-6' 'C-2' 'C-1' 'A-6' 'C-6' 'A-1' 'A-6' 'A-6' 'B-2' 'B-2'\n",
      " 'B-1' 'A-6' 'A-2' 'C-1' 'C-2' 'B-6' 'C-3' 'A-2' 'A-2' 'C-1' 'A-5' 'C-1'\n",
      " 'A-5' 'C-3' 'B-4' 'B-6' 'A-6' 'A-6' 'A-5' 'A-2' 'B-5' 'C-6' 'B-4' 'B-6'\n",
      " 'B-2' 'B-6' 'B-5' 'C-1' 'A-1' 'B-6' 'A-2' 'A-5' 'B-5' 'B-4' 'A-6' 'B-6'\n",
      " 'C-1' 'B-6' 'C-5' 'C-3' 'A-5' 'B-6' 'C-3' 'A-2' 'A-1' 'A-6' 'C-5' 'C-6'\n",
      " 'A-2' 'C-3' 'C-1' 'A-4' 'A-5' 'A-5' 'C-4' 'C-2' 'A-5' 'A-2' 'B-4' 'B-3'\n",
      " 'B-6' 'B-1' 'A-2' 'C-6' 'C-6' 'B-6' 'C-1' 'C-5' 'C-1' 'B-6' 'A-5' 'C-2']\n"
     ]
    }
   ],
   "source": [
    "print(y_test)"
   ]
  },
  {
   "cell_type": "markdown",
   "id": "e8653d7a-1c32-4261-a2b9-3a1df58aa7a7",
   "metadata": {},
   "source": [
    "# Making the Model"
   ]
  },
  {
   "cell_type": "markdown",
   "id": "05a5e0db-f082-4dac-af51-5c3c05dc7d7c",
   "metadata": {},
   "source": [
    "## Random Forest Model"
   ]
  },
  {
   "cell_type": "markdown",
   "id": "3445d891-5cec-4827-8199-c51913e23934",
   "metadata": {},
   "source": [
    "For creating the model, we must first determine what type of model should be used. The goal of the model is to predict the location where each item should be stored in the warehouse, with a code for each section. To determine the location, the model must choose a location based on the features provided in the input, which is a clear case of multi-class classification. Now that we know the nature of the task, there are several types of models available, such as decision trees, random forest, and neural networks, all of which can be used to perform multi-class classification. For this model, we will make use of Random Forest for several reasons:\n",
    "1. It is more computationally efficient compared to a neural network\n",
    "2. There is less tuning required compared to a neural network\n",
    "3. The dataset is on the smaller side, and Random Forest would have a lower risk of overfitting in this case compared to a neural network.\n",
    "4. The data is structured and tabular, well suited for Random Forest."
   ]
  },
  {
   "cell_type": "markdown",
   "id": "2b771f40-2fb4-4b90-af08-f98ad784bb64",
   "metadata": {},
   "source": [
    "Here, we create the random forest model, setting the number of trees created at 100, and adding random_state to randomize the data input into each node. We then train the model, inputting the training data and labels."
   ]
  },
  {
   "cell_type": "code",
   "execution_count": 15,
   "id": "682c0086-63b3-44db-98b8-aa780e84e577",
   "metadata": {},
   "outputs": [
    {
     "data": {
      "text/html": [
       "<style>#sk-container-id-1 {\n",
       "  /* Definition of color scheme common for light and dark mode */\n",
       "  --sklearn-color-text: #000;\n",
       "  --sklearn-color-text-muted: #666;\n",
       "  --sklearn-color-line: gray;\n",
       "  /* Definition of color scheme for unfitted estimators */\n",
       "  --sklearn-color-unfitted-level-0: #fff5e6;\n",
       "  --sklearn-color-unfitted-level-1: #f6e4d2;\n",
       "  --sklearn-color-unfitted-level-2: #ffe0b3;\n",
       "  --sklearn-color-unfitted-level-3: chocolate;\n",
       "  /* Definition of color scheme for fitted estimators */\n",
       "  --sklearn-color-fitted-level-0: #f0f8ff;\n",
       "  --sklearn-color-fitted-level-1: #d4ebff;\n",
       "  --sklearn-color-fitted-level-2: #b3dbfd;\n",
       "  --sklearn-color-fitted-level-3: cornflowerblue;\n",
       "\n",
       "  /* Specific color for light theme */\n",
       "  --sklearn-color-text-on-default-background: var(--sg-text-color, var(--theme-code-foreground, var(--jp-content-font-color1, black)));\n",
       "  --sklearn-color-background: var(--sg-background-color, var(--theme-background, var(--jp-layout-color0, white)));\n",
       "  --sklearn-color-border-box: var(--sg-text-color, var(--theme-code-foreground, var(--jp-content-font-color1, black)));\n",
       "  --sklearn-color-icon: #696969;\n",
       "\n",
       "  @media (prefers-color-scheme: dark) {\n",
       "    /* Redefinition of color scheme for dark theme */\n",
       "    --sklearn-color-text-on-default-background: var(--sg-text-color, var(--theme-code-foreground, var(--jp-content-font-color1, white)));\n",
       "    --sklearn-color-background: var(--sg-background-color, var(--theme-background, var(--jp-layout-color0, #111)));\n",
       "    --sklearn-color-border-box: var(--sg-text-color, var(--theme-code-foreground, var(--jp-content-font-color1, white)));\n",
       "    --sklearn-color-icon: #878787;\n",
       "  }\n",
       "}\n",
       "\n",
       "#sk-container-id-1 {\n",
       "  color: var(--sklearn-color-text);\n",
       "}\n",
       "\n",
       "#sk-container-id-1 pre {\n",
       "  padding: 0;\n",
       "}\n",
       "\n",
       "#sk-container-id-1 input.sk-hidden--visually {\n",
       "  border: 0;\n",
       "  clip: rect(1px 1px 1px 1px);\n",
       "  clip: rect(1px, 1px, 1px, 1px);\n",
       "  height: 1px;\n",
       "  margin: -1px;\n",
       "  overflow: hidden;\n",
       "  padding: 0;\n",
       "  position: absolute;\n",
       "  width: 1px;\n",
       "}\n",
       "\n",
       "#sk-container-id-1 div.sk-dashed-wrapped {\n",
       "  border: 1px dashed var(--sklearn-color-line);\n",
       "  margin: 0 0.4em 0.5em 0.4em;\n",
       "  box-sizing: border-box;\n",
       "  padding-bottom: 0.4em;\n",
       "  background-color: var(--sklearn-color-background);\n",
       "}\n",
       "\n",
       "#sk-container-id-1 div.sk-container {\n",
       "  /* jupyter's `normalize.less` sets `[hidden] { display: none; }`\n",
       "     but bootstrap.min.css set `[hidden] { display: none !important; }`\n",
       "     so we also need the `!important` here to be able to override the\n",
       "     default hidden behavior on the sphinx rendered scikit-learn.org.\n",
       "     See: https://github.com/scikit-learn/scikit-learn/issues/21755 */\n",
       "  display: inline-block !important;\n",
       "  position: relative;\n",
       "}\n",
       "\n",
       "#sk-container-id-1 div.sk-text-repr-fallback {\n",
       "  display: none;\n",
       "}\n",
       "\n",
       "div.sk-parallel-item,\n",
       "div.sk-serial,\n",
       "div.sk-item {\n",
       "  /* draw centered vertical line to link estimators */\n",
       "  background-image: linear-gradient(var(--sklearn-color-text-on-default-background), var(--sklearn-color-text-on-default-background));\n",
       "  background-size: 2px 100%;\n",
       "  background-repeat: no-repeat;\n",
       "  background-position: center center;\n",
       "}\n",
       "\n",
       "/* Parallel-specific style estimator block */\n",
       "\n",
       "#sk-container-id-1 div.sk-parallel-item::after {\n",
       "  content: \"\";\n",
       "  width: 100%;\n",
       "  border-bottom: 2px solid var(--sklearn-color-text-on-default-background);\n",
       "  flex-grow: 1;\n",
       "}\n",
       "\n",
       "#sk-container-id-1 div.sk-parallel {\n",
       "  display: flex;\n",
       "  align-items: stretch;\n",
       "  justify-content: center;\n",
       "  background-color: var(--sklearn-color-background);\n",
       "  position: relative;\n",
       "}\n",
       "\n",
       "#sk-container-id-1 div.sk-parallel-item {\n",
       "  display: flex;\n",
       "  flex-direction: column;\n",
       "}\n",
       "\n",
       "#sk-container-id-1 div.sk-parallel-item:first-child::after {\n",
       "  align-self: flex-end;\n",
       "  width: 50%;\n",
       "}\n",
       "\n",
       "#sk-container-id-1 div.sk-parallel-item:last-child::after {\n",
       "  align-self: flex-start;\n",
       "  width: 50%;\n",
       "}\n",
       "\n",
       "#sk-container-id-1 div.sk-parallel-item:only-child::after {\n",
       "  width: 0;\n",
       "}\n",
       "\n",
       "/* Serial-specific style estimator block */\n",
       "\n",
       "#sk-container-id-1 div.sk-serial {\n",
       "  display: flex;\n",
       "  flex-direction: column;\n",
       "  align-items: center;\n",
       "  background-color: var(--sklearn-color-background);\n",
       "  padding-right: 1em;\n",
       "  padding-left: 1em;\n",
       "}\n",
       "\n",
       "\n",
       "/* Toggleable style: style used for estimator/Pipeline/ColumnTransformer box that is\n",
       "clickable and can be expanded/collapsed.\n",
       "- Pipeline and ColumnTransformer use this feature and define the default style\n",
       "- Estimators will overwrite some part of the style using the `sk-estimator` class\n",
       "*/\n",
       "\n",
       "/* Pipeline and ColumnTransformer style (default) */\n",
       "\n",
       "#sk-container-id-1 div.sk-toggleable {\n",
       "  /* Default theme specific background. It is overwritten whether we have a\n",
       "  specific estimator or a Pipeline/ColumnTransformer */\n",
       "  background-color: var(--sklearn-color-background);\n",
       "}\n",
       "\n",
       "/* Toggleable label */\n",
       "#sk-container-id-1 label.sk-toggleable__label {\n",
       "  cursor: pointer;\n",
       "  display: flex;\n",
       "  width: 100%;\n",
       "  margin-bottom: 0;\n",
       "  padding: 0.5em;\n",
       "  box-sizing: border-box;\n",
       "  text-align: center;\n",
       "  align-items: start;\n",
       "  justify-content: space-between;\n",
       "  gap: 0.5em;\n",
       "}\n",
       "\n",
       "#sk-container-id-1 label.sk-toggleable__label .caption {\n",
       "  font-size: 0.6rem;\n",
       "  font-weight: lighter;\n",
       "  color: var(--sklearn-color-text-muted);\n",
       "}\n",
       "\n",
       "#sk-container-id-1 label.sk-toggleable__label-arrow:before {\n",
       "  /* Arrow on the left of the label */\n",
       "  content: \"▸\";\n",
       "  float: left;\n",
       "  margin-right: 0.25em;\n",
       "  color: var(--sklearn-color-icon);\n",
       "}\n",
       "\n",
       "#sk-container-id-1 label.sk-toggleable__label-arrow:hover:before {\n",
       "  color: var(--sklearn-color-text);\n",
       "}\n",
       "\n",
       "/* Toggleable content - dropdown */\n",
       "\n",
       "#sk-container-id-1 div.sk-toggleable__content {\n",
       "  max-height: 0;\n",
       "  max-width: 0;\n",
       "  overflow: hidden;\n",
       "  text-align: left;\n",
       "  /* unfitted */\n",
       "  background-color: var(--sklearn-color-unfitted-level-0);\n",
       "}\n",
       "\n",
       "#sk-container-id-1 div.sk-toggleable__content.fitted {\n",
       "  /* fitted */\n",
       "  background-color: var(--sklearn-color-fitted-level-0);\n",
       "}\n",
       "\n",
       "#sk-container-id-1 div.sk-toggleable__content pre {\n",
       "  margin: 0.2em;\n",
       "  border-radius: 0.25em;\n",
       "  color: var(--sklearn-color-text);\n",
       "  /* unfitted */\n",
       "  background-color: var(--sklearn-color-unfitted-level-0);\n",
       "}\n",
       "\n",
       "#sk-container-id-1 div.sk-toggleable__content.fitted pre {\n",
       "  /* unfitted */\n",
       "  background-color: var(--sklearn-color-fitted-level-0);\n",
       "}\n",
       "\n",
       "#sk-container-id-1 input.sk-toggleable__control:checked~div.sk-toggleable__content {\n",
       "  /* Expand drop-down */\n",
       "  max-height: 200px;\n",
       "  max-width: 100%;\n",
       "  overflow: auto;\n",
       "}\n",
       "\n",
       "#sk-container-id-1 input.sk-toggleable__control:checked~label.sk-toggleable__label-arrow:before {\n",
       "  content: \"▾\";\n",
       "}\n",
       "\n",
       "/* Pipeline/ColumnTransformer-specific style */\n",
       "\n",
       "#sk-container-id-1 div.sk-label input.sk-toggleable__control:checked~label.sk-toggleable__label {\n",
       "  color: var(--sklearn-color-text);\n",
       "  background-color: var(--sklearn-color-unfitted-level-2);\n",
       "}\n",
       "\n",
       "#sk-container-id-1 div.sk-label.fitted input.sk-toggleable__control:checked~label.sk-toggleable__label {\n",
       "  background-color: var(--sklearn-color-fitted-level-2);\n",
       "}\n",
       "\n",
       "/* Estimator-specific style */\n",
       "\n",
       "/* Colorize estimator box */\n",
       "#sk-container-id-1 div.sk-estimator input.sk-toggleable__control:checked~label.sk-toggleable__label {\n",
       "  /* unfitted */\n",
       "  background-color: var(--sklearn-color-unfitted-level-2);\n",
       "}\n",
       "\n",
       "#sk-container-id-1 div.sk-estimator.fitted input.sk-toggleable__control:checked~label.sk-toggleable__label {\n",
       "  /* fitted */\n",
       "  background-color: var(--sklearn-color-fitted-level-2);\n",
       "}\n",
       "\n",
       "#sk-container-id-1 div.sk-label label.sk-toggleable__label,\n",
       "#sk-container-id-1 div.sk-label label {\n",
       "  /* The background is the default theme color */\n",
       "  color: var(--sklearn-color-text-on-default-background);\n",
       "}\n",
       "\n",
       "/* On hover, darken the color of the background */\n",
       "#sk-container-id-1 div.sk-label:hover label.sk-toggleable__label {\n",
       "  color: var(--sklearn-color-text);\n",
       "  background-color: var(--sklearn-color-unfitted-level-2);\n",
       "}\n",
       "\n",
       "/* Label box, darken color on hover, fitted */\n",
       "#sk-container-id-1 div.sk-label.fitted:hover label.sk-toggleable__label.fitted {\n",
       "  color: var(--sklearn-color-text);\n",
       "  background-color: var(--sklearn-color-fitted-level-2);\n",
       "}\n",
       "\n",
       "/* Estimator label */\n",
       "\n",
       "#sk-container-id-1 div.sk-label label {\n",
       "  font-family: monospace;\n",
       "  font-weight: bold;\n",
       "  display: inline-block;\n",
       "  line-height: 1.2em;\n",
       "}\n",
       "\n",
       "#sk-container-id-1 div.sk-label-container {\n",
       "  text-align: center;\n",
       "}\n",
       "\n",
       "/* Estimator-specific */\n",
       "#sk-container-id-1 div.sk-estimator {\n",
       "  font-family: monospace;\n",
       "  border: 1px dotted var(--sklearn-color-border-box);\n",
       "  border-radius: 0.25em;\n",
       "  box-sizing: border-box;\n",
       "  margin-bottom: 0.5em;\n",
       "  /* unfitted */\n",
       "  background-color: var(--sklearn-color-unfitted-level-0);\n",
       "}\n",
       "\n",
       "#sk-container-id-1 div.sk-estimator.fitted {\n",
       "  /* fitted */\n",
       "  background-color: var(--sklearn-color-fitted-level-0);\n",
       "}\n",
       "\n",
       "/* on hover */\n",
       "#sk-container-id-1 div.sk-estimator:hover {\n",
       "  /* unfitted */\n",
       "  background-color: var(--sklearn-color-unfitted-level-2);\n",
       "}\n",
       "\n",
       "#sk-container-id-1 div.sk-estimator.fitted:hover {\n",
       "  /* fitted */\n",
       "  background-color: var(--sklearn-color-fitted-level-2);\n",
       "}\n",
       "\n",
       "/* Specification for estimator info (e.g. \"i\" and \"?\") */\n",
       "\n",
       "/* Common style for \"i\" and \"?\" */\n",
       "\n",
       ".sk-estimator-doc-link,\n",
       "a:link.sk-estimator-doc-link,\n",
       "a:visited.sk-estimator-doc-link {\n",
       "  float: right;\n",
       "  font-size: smaller;\n",
       "  line-height: 1em;\n",
       "  font-family: monospace;\n",
       "  background-color: var(--sklearn-color-background);\n",
       "  border-radius: 1em;\n",
       "  height: 1em;\n",
       "  width: 1em;\n",
       "  text-decoration: none !important;\n",
       "  margin-left: 0.5em;\n",
       "  text-align: center;\n",
       "  /* unfitted */\n",
       "  border: var(--sklearn-color-unfitted-level-1) 1pt solid;\n",
       "  color: var(--sklearn-color-unfitted-level-1);\n",
       "}\n",
       "\n",
       ".sk-estimator-doc-link.fitted,\n",
       "a:link.sk-estimator-doc-link.fitted,\n",
       "a:visited.sk-estimator-doc-link.fitted {\n",
       "  /* fitted */\n",
       "  border: var(--sklearn-color-fitted-level-1) 1pt solid;\n",
       "  color: var(--sklearn-color-fitted-level-1);\n",
       "}\n",
       "\n",
       "/* On hover */\n",
       "div.sk-estimator:hover .sk-estimator-doc-link:hover,\n",
       ".sk-estimator-doc-link:hover,\n",
       "div.sk-label-container:hover .sk-estimator-doc-link:hover,\n",
       ".sk-estimator-doc-link:hover {\n",
       "  /* unfitted */\n",
       "  background-color: var(--sklearn-color-unfitted-level-3);\n",
       "  color: var(--sklearn-color-background);\n",
       "  text-decoration: none;\n",
       "}\n",
       "\n",
       "div.sk-estimator.fitted:hover .sk-estimator-doc-link.fitted:hover,\n",
       ".sk-estimator-doc-link.fitted:hover,\n",
       "div.sk-label-container:hover .sk-estimator-doc-link.fitted:hover,\n",
       ".sk-estimator-doc-link.fitted:hover {\n",
       "  /* fitted */\n",
       "  background-color: var(--sklearn-color-fitted-level-3);\n",
       "  color: var(--sklearn-color-background);\n",
       "  text-decoration: none;\n",
       "}\n",
       "\n",
       "/* Span, style for the box shown on hovering the info icon */\n",
       ".sk-estimator-doc-link span {\n",
       "  display: none;\n",
       "  z-index: 9999;\n",
       "  position: relative;\n",
       "  font-weight: normal;\n",
       "  right: .2ex;\n",
       "  padding: .5ex;\n",
       "  margin: .5ex;\n",
       "  width: min-content;\n",
       "  min-width: 20ex;\n",
       "  max-width: 50ex;\n",
       "  color: var(--sklearn-color-text);\n",
       "  box-shadow: 2pt 2pt 4pt #999;\n",
       "  /* unfitted */\n",
       "  background: var(--sklearn-color-unfitted-level-0);\n",
       "  border: .5pt solid var(--sklearn-color-unfitted-level-3);\n",
       "}\n",
       "\n",
       ".sk-estimator-doc-link.fitted span {\n",
       "  /* fitted */\n",
       "  background: var(--sklearn-color-fitted-level-0);\n",
       "  border: var(--sklearn-color-fitted-level-3);\n",
       "}\n",
       "\n",
       ".sk-estimator-doc-link:hover span {\n",
       "  display: block;\n",
       "}\n",
       "\n",
       "/* \"?\"-specific style due to the `<a>` HTML tag */\n",
       "\n",
       "#sk-container-id-1 a.estimator_doc_link {\n",
       "  float: right;\n",
       "  font-size: 1rem;\n",
       "  line-height: 1em;\n",
       "  font-family: monospace;\n",
       "  background-color: var(--sklearn-color-background);\n",
       "  border-radius: 1rem;\n",
       "  height: 1rem;\n",
       "  width: 1rem;\n",
       "  text-decoration: none;\n",
       "  /* unfitted */\n",
       "  color: var(--sklearn-color-unfitted-level-1);\n",
       "  border: var(--sklearn-color-unfitted-level-1) 1pt solid;\n",
       "}\n",
       "\n",
       "#sk-container-id-1 a.estimator_doc_link.fitted {\n",
       "  /* fitted */\n",
       "  border: var(--sklearn-color-fitted-level-1) 1pt solid;\n",
       "  color: var(--sklearn-color-fitted-level-1);\n",
       "}\n",
       "\n",
       "/* On hover */\n",
       "#sk-container-id-1 a.estimator_doc_link:hover {\n",
       "  /* unfitted */\n",
       "  background-color: var(--sklearn-color-unfitted-level-3);\n",
       "  color: var(--sklearn-color-background);\n",
       "  text-decoration: none;\n",
       "}\n",
       "\n",
       "#sk-container-id-1 a.estimator_doc_link.fitted:hover {\n",
       "  /* fitted */\n",
       "  background-color: var(--sklearn-color-fitted-level-3);\n",
       "}\n",
       "</style><div id=\"sk-container-id-1\" class=\"sk-top-container\"><div class=\"sk-text-repr-fallback\"><pre>RandomForestClassifier(random_state=42)</pre><b>In a Jupyter environment, please rerun this cell to show the HTML representation or trust the notebook. <br />On GitHub, the HTML representation is unable to render, please try loading this page with nbviewer.org.</b></div><div class=\"sk-container\" hidden><div class=\"sk-item\"><div class=\"sk-estimator fitted sk-toggleable\"><input class=\"sk-toggleable__control sk-hidden--visually\" id=\"sk-estimator-id-1\" type=\"checkbox\" checked><label for=\"sk-estimator-id-1\" class=\"sk-toggleable__label fitted sk-toggleable__label-arrow\"><div><div>RandomForestClassifier</div></div><div><a class=\"sk-estimator-doc-link fitted\" rel=\"noreferrer\" target=\"_blank\" href=\"https://scikit-learn.org/1.6/modules/generated/sklearn.ensemble.RandomForestClassifier.html\">?<span>Documentation for RandomForestClassifier</span></a><span class=\"sk-estimator-doc-link fitted\">i<span>Fitted</span></span></div></label><div class=\"sk-toggleable__content fitted\"><pre>RandomForestClassifier(random_state=42)</pre></div> </div></div></div></div>"
      ],
      "text/plain": [
       "RandomForestClassifier(random_state=42)"
      ]
     },
     "execution_count": 15,
     "metadata": {},
     "output_type": "execute_result"
    }
   ],
   "source": [
    "rf_model = RandomForestClassifier(n_estimators=100, random_state=42)\n",
    "rf_model.fit(X_train, y_train)"
   ]
  },
  {
   "cell_type": "code",
   "execution_count": 16,
   "id": "87f501ce-bd09-47f9-877c-f177b7c4e1e5",
   "metadata": {
    "editable": true,
    "slideshow": {
     "slide_type": ""
    },
    "tags": []
   },
   "outputs": [],
   "source": [
    "y_pred = rf_model.predict(X_test)"
   ]
  },
  {
   "cell_type": "markdown",
   "id": "8a3271b2-1e89-4874-a44d-b9ddc54d7148",
   "metadata": {},
   "source": [
    "Here, we print the model's accuracy and performance:"
   ]
  },
  {
   "cell_type": "code",
   "execution_count": 17,
   "id": "2cbd4766-b7dd-4ca1-8be1-ea98f915eba9",
   "metadata": {
    "editable": true,
    "slideshow": {
     "slide_type": ""
    },
    "tags": []
   },
   "outputs": [
    {
     "name": "stdout",
     "output_type": "stream",
     "text": [
      "Accuracy: 0.96\n",
      "Classification Report:\n",
      "               precision    recall  f1-score   support\n",
      "\n",
      "         A-1       1.00      0.90      0.95        10\n",
      "         A-2       0.96      1.00      0.98        24\n",
      "         A-3       1.00      1.00      1.00         5\n",
      "         A-4       1.00      1.00      1.00        11\n",
      "         A-5       0.96      0.92      0.94        25\n",
      "         A-6       1.00      0.92      0.96        25\n",
      "         B-1       1.00      0.94      0.97        18\n",
      "         B-2       1.00      0.88      0.93         8\n",
      "         B-3       0.92      1.00      0.96        11\n",
      "         B-4       0.95      1.00      0.98        21\n",
      "         B-5       0.87      1.00      0.93        13\n",
      "         B-6       1.00      0.98      0.99        41\n",
      "         C-1       0.97      1.00      0.99        34\n",
      "         C-2       1.00      1.00      1.00         6\n",
      "         C-3       0.90      0.90      0.90        21\n",
      "         C-4       0.88      1.00      0.93         7\n",
      "         C-5       0.67      0.80      0.73         5\n",
      "         C-6       1.00      0.93      0.97        15\n",
      "\n",
      "    accuracy                           0.96       300\n",
      "   macro avg       0.95      0.95      0.95       300\n",
      "weighted avg       0.96      0.96      0.96       300\n",
      "\n"
     ]
    }
   ],
   "source": [
    "print(\"Accuracy:\", accuracy_score(y_test, y_pred))\n",
    "print(\"Classification Report:\\n\", classification_report(y_test, y_pred))"
   ]
  },
  {
   "cell_type": "markdown",
   "id": "f4517c8a-d4bb-4499-b670-428f82550526",
   "metadata": {},
   "source": [
    "From the results shown, we can evaluate the model's performance.\n",
    "\n",
    "Overall performance:\n",
    "- Accuracy: 0.96 (96%)\n",
    "    - The model correctly predicted 96% of the labels. This is a very strong result overall.\n",
    "- Weighted Avg (F1-score: 0.96)\n",
    "    - This score accounts for the imbalance in class support (number of samples per class) and shows excellent overall model performance.\n",
    " \n",
    "Per-class performance:\n",
    "- Perfect scores:\n",
    "    - The classes A-3, A-4, and C-2 all have a precision, recall, and f1-score of 1.00, indicating they were predicted perfectly.\n",
    "    - These classes likely had clearer patterns that could be easily observed by the model.\n",
    "- Weaker performance on smaller or harder-to-separate classes:\n",
    "    - B-2: Recall = 0.88 - 12% of class B-2 instances were missed.\n",
    "    - B-5: Precision = 0.87 - Out of all the predictions made for class B-5, 87% were predicted correctly, with 13% being false positives.\n",
    "    - C-4: Precision = 0.88 - Out of all the predictions made for class C-4, 88% were predicted correctly, with 12% being false positives.\n",
    "    - C-5: Recall = 0.67 - Only 67% of class C-5 instances were caught. Precision = 0.80 - Out of all the predictions made for class C-5, 80% were predicted correctly.\n",
    "\n",
    "Notably, class C-5 performs much worse in comparison to the other classes, with an f1-score of 0.73. This is significantly lower compared to the average of 0.96."
   ]
  },
  {
   "cell_type": "markdown",
   "id": "41a20741-a4c6-4802-a1d6-9e6aeb5d214f",
   "metadata": {},
   "source": [
    "#### Confusion Matrix"
   ]
  },
  {
   "cell_type": "markdown",
   "id": "09265a0f-6e5a-45ab-95e4-ca8426b331cf",
   "metadata": {},
   "source": [
    "Using the confusion matrix below, we can see the predictions made by the model using the test data. It lets us observe in detail what classes were falsely predicted, or misclassified for other classes."
   ]
  },
  {
   "cell_type": "code",
   "execution_count": 18,
   "id": "3faa1437-cad3-4064-afb9-d11293c5ef58",
   "metadata": {},
   "outputs": [
    {
     "data": {
      "text/plain": [
       "Text(0.5, 1.0, 'Confusion Matrix')"
      ]
     },
     "execution_count": 18,
     "metadata": {},
     "output_type": "execute_result"
    },
    {
     "data": {
      "image/png": "[encoded data removed]",
      "text/plain": [
       "<Figure size 800x600 with 2 Axes>"
      ]
     },
     "metadata": {},
     "output_type": "display_data"
    }
   ],
   "source": [
    "cm = confusion_matrix(y_test, y_pred)\n",
    "\n",
    "# Visualize the confusion matrix\n",
    "plt.figure(figsize=(8, 6))\n",
    "sns.heatmap(cm, annot=True, fmt='d', cmap='Blues', \n",
    "            xticklabels=np.unique(y_test), \n",
    "            yticklabels=np.unique(y_test))\n",
    "plt.xlabel('Predicted')\n",
    "plt.ylabel('Actual')\n",
    "plt.title('Confusion Matrix')"
   ]
  },
  {
   "cell_type": "markdown",
   "id": "ae66c290-1131-4d37-8051-fafd0cd287c9",
   "metadata": {},
   "source": [
    "### Fine-tuning"
   ]
  },
  {
   "cell_type": "markdown",
   "id": "ece7cab5-b0bd-43d1-a62a-5c680c33edb2",
   "metadata": {},
   "source": [
    "#### Finding the best Hyper-parameters using Grid Search"
   ]
  },
  {
   "cell_type": "markdown",
   "id": "b9bd8774-cfe2-4d04-a678-669c845ca3dd",
   "metadata": {},
   "source": [
    "Here we use a grid search to fine-tune the model, searching for the best hyper-parameters to use. This lets us efficiently and automatically tune the model to perform much more effectively, instead of manually editing and testing individual set of hyper-parameters."
   ]
  },
  {
   "cell_type": "code",
   "execution_count": 19,
   "id": "3fb49fdb-9fd0-4582-9ffa-28aefc3c8a1c",
   "metadata": {},
   "outputs": [
    {
     "name": "stdout",
     "output_type": "stream",
     "text": [
      "Fitting 5 folds for each of 324 candidates, totalling 1620 fits\n",
      "Best parameters: {'max_depth': None, 'max_features': None, 'min_samples_leaf': 1, 'min_samples_split': 2, 'n_estimators': 100}\n",
      "Best score: 0.9883\n"
     ]
    }
   ],
   "source": [
    "from sklearn.model_selection import GridSearchCV\n",
    "\n",
    "# Grid Search CV\n",
    "param_grid = {\n",
    "    'n_estimators': [100, 200, 300],\n",
    "    'max_depth': [None, 10, 20, 30],\n",
    "    'min_samples_split': [2, 5, 10],\n",
    "    'min_samples_leaf': [1, 2, 4],\n",
    "    'max_features': ['sqrt', 'log2', None]\n",
    "}\n",
    "\n",
    "grid_search = GridSearchCV(\n",
    "    estimator=RandomForestClassifier(random_state=42),\n",
    "    param_grid=param_grid,\n",
    "    cv=5,\n",
    "    scoring='accuracy',\n",
    "    verbose=1,\n",
    "    n_jobs=-1\n",
    ")\n",
    "\n",
    "# Fit the grid search to the data\n",
    "grid_search.fit(X_train, y_train)\n",
    "best_rf = grid_search.best_estimator_\n",
    "print(f\"Best parameters: {grid_search.best_params_}\")\n",
    "print(f\"Best score: {grid_search.best_score_:.4f}\")"
   ]
  },
  {
   "cell_type": "code",
   "execution_count": 20,
   "id": "c6c88386-e162-4e08-b0cf-7ee92be938b4",
   "metadata": {
    "editable": true,
    "slideshow": {
     "slide_type": ""
    },
    "tags": []
   },
   "outputs": [],
   "source": [
    "y_pred2 = best_rf.predict(X_test)"
   ]
  },
  {
   "cell_type": "code",
   "execution_count": 21,
   "id": "d99b66da-2877-4d47-a638-b7f78138c398",
   "metadata": {},
   "outputs": [
    {
     "name": "stdout",
     "output_type": "stream",
     "text": [
      "Accuracy: 0.99\n",
      "Classification Report:\n",
      "               precision    recall  f1-score   support\n",
      "\n",
      "         A-1       0.91      1.00      0.95        10\n",
      "         A-2       1.00      1.00      1.00        24\n",
      "         A-3       1.00      1.00      1.00         5\n",
      "         A-4       1.00      1.00      1.00        11\n",
      "         A-5       0.96      1.00      0.98        25\n",
      "         A-6       1.00      0.96      0.98        25\n",
      "         B-1       1.00      1.00      1.00        18\n",
      "         B-2       1.00      1.00      1.00         8\n",
      "         B-3       0.92      1.00      0.96        11\n",
      "         B-4       1.00      1.00      1.00        21\n",
      "         B-5       1.00      1.00      1.00        13\n",
      "         B-6       1.00      1.00      1.00        41\n",
      "         C-1       1.00      1.00      1.00        34\n",
      "         C-2       1.00      1.00      1.00         6\n",
      "         C-3       1.00      0.95      0.98        21\n",
      "         C-4       1.00      1.00      1.00         7\n",
      "         C-5       1.00      0.80      0.89         5\n",
      "         C-6       1.00      1.00      1.00        15\n",
      "\n",
      "    accuracy                           0.99       300\n",
      "   macro avg       0.99      0.98      0.99       300\n",
      "weighted avg       0.99      0.99      0.99       300\n",
      "\n"
     ]
    }
   ],
   "source": [
    "print(\"Accuracy:\", accuracy_score(y_test, y_pred2))\n",
    "print(\"Classification Report:\\n\", classification_report(y_test, y_pred2))"
   ]
  },
  {
   "cell_type": "markdown",
   "id": "a046f9eb-46bb-43c3-b652-f12885602611",
   "metadata": {
    "editable": true,
    "slideshow": {
     "slide_type": ""
    },
    "tags": []
   },
   "source": [
    "Evaluating the results for this model:\n",
    "\n",
    "Overall performance:\n",
    "\n",
    "Accuracy: 0.99 (99%)\n",
    "The model correctly predicted 99% of the labels. This is slightly better compared to the previous model, with about a 3% increase in overall accuracy, and reflects a near perfect overall accuracy.\n",
    "\n",
    "Weighted Avg (F1-score: 0.99)\n",
    "This score accounts for the imbalance in class support (number of samples per class) and shows a near-perfect overall model performance.\n",
    "\n",
    "Per-class performance:\n",
    "Perfect scores:\n",
    "The classes A-2, A-3, A-4, B-1, B-2, B-4, B-5, B-6, C-1, C-2, C-4, and C-6 all have a precision, recall, and f1-score of 1.00, indicating they were predicted perfectly. Compared to the previous model, there has been quite a leap in performance, predicting 12 classes with perfect accuraccy compared to the original 3. \n",
    "\n",
    "Though the accuracy for class C-5 is still lower compared to the average accuracy (0.89), it performs significantly better here, with a 16% increase in accuracy comapred to the previous model."
   ]
  },
  {
   "cell_type": "markdown",
   "id": "07693638-37a2-4208-9118-55cff6dcc279",
   "metadata": {},
   "source": [
    "#### Confusion Matrix"
   ]
  },
  {
   "cell_type": "markdown",
   "id": "9d16f305-515a-4546-9b0e-dd03557ad216",
   "metadata": {},
   "source": [
    "Using the confusion matrix below, we can see the predictions made by the model using the test data. It lets us observe in detail what classes were falsely predicted, or misclassified for other classes."
   ]
  },
  {
   "cell_type": "code",
   "execution_count": 22,
   "id": "124e07a4-94e6-4d35-94bc-930ccc00687f",
   "metadata": {},
   "outputs": [
    {
     "data": {
      "text/plain": [
       "Text(0.5, 1.0, 'Confusion Matrix')"
      ]
     },
     "execution_count": 22,
     "metadata": {},
     "output_type": "execute_result"
    },
    {
     "data": {
      "image/png": "[encoded data removed]",
      "text/plain": [
       "<Figure size 800x600 with 2 Axes>"
      ]
     },
     "metadata": {},
     "output_type": "display_data"
    }
   ],
   "source": [
    "cm = confusion_matrix(y_test, y_pred2)\n",
    "\n",
    "# Visualize the confusion matrix\n",
    "plt.figure(figsize=(8, 6))\n",
    "sns.heatmap(cm, annot=True, fmt='d', cmap='Blues', \n",
    "            xticklabels=np.unique(y_test), \n",
    "            yticklabels=np.unique(y_test))\n",
    "plt.xlabel('Predicted')\n",
    "plt.ylabel('Actual')\n",
    "plt.title('Confusion Matrix')"
   ]
  },
  {
   "cell_type": "markdown",
   "id": "36c990a8-5818-47d2-841b-438f5dcb7af5",
   "metadata": {},
   "source": [
    "## Exporting the Model"
   ]
  },
  {
   "cell_type": "markdown",
   "id": "df1c7824-21fa-4237-9688-9402a149c3b1",
   "metadata": {},
   "source": [
    "Here, we export the model using pickle. We will then be able to use to deploy the model locally as a flask application."
   ]
  },
  {
   "cell_type": "code",
   "execution_count": 23,
   "id": "7a524d61-2c01-410e-9571-b44567f85623",
   "metadata": {
    "editable": true,
    "slideshow": {
     "slide_type": ""
    },
    "tags": []
   },
   "outputs": [],
   "source": [
    "import pickle\n",
    "\n",
    "# Save the model\n",
    "with open('storage_prediction_model.pkl', 'wb') as file:\n",
    "    pickle.dump(best_rf, file)"
   ]
  },
  {
   "cell_type": "markdown",
   "id": "805e26af-391b-4211-a0d0-82acd8d5431f",
   "metadata": {
    "jp-MarkdownHeadingCollapsed": true
   },
   "source": [
    "### Neural Network (Unused)"
   ]
  },
  {
   "cell_type": "markdown",
   "id": "a4e96166-d2f9-416f-aaa1-f54f30fe4743",
   "metadata": {},
   "source": [
    "Note: This was the initial model developed for the task, which uses a neural network. While it performs well, the random forest model is more efficient and better suited to be used for the inventory management system."
   ]
  },
  {
   "cell_type": "markdown",
   "id": "bf1d8770-0920-4e7b-8b49-ff52e7f3192a",
   "metadata": {},
   "source": [
    "For this model, we use a neural network with softmax as the activation function at the output layer for multi-class classification. As the number of classes or different sections of storage contained in the dataset is 18, we use 18 neurons in the output layer, with one output neuron per class."
   ]
  },
  {
   "cell_type": "code",
   "execution_count": 24,
   "id": "5542d1b4-f751-4f5b-a5f1-f390ef324f79",
   "metadata": {},
   "outputs": [],
   "source": [
    "# def make_model():\n",
    "\n",
    "#     model = keras.models.Sequential()\n",
    "#     model.add(keras.layers.Input(shape=(12,)))\n",
    "#     model.add(keras.layers.Dense(32, activation='relu'))\n",
    "#     model.add(keras.layers.Dense(64, activation='relu'))\n",
    "#     model.add(keras.layers.Dense(64, activation='relu'))\n",
    "#     model.add(keras.layers.Dense(128, activation='relu'))\n",
    "#     model.add(keras.layers.Dense(18, activation='softmax'))\n",
    "\n",
    "#     return model\n",
    "\n",
    "# model = make_model()\n",
    "\n",
    "\n",
    "# model.summary()"
   ]
  },
  {
   "cell_type": "markdown",
   "id": "3ecae2df-9173-4994-b762-448259662d9a",
   "metadata": {},
   "source": [
    "Next, we compile the model. As the task performed by the model is multi-class classification, and the data is one-hot encoded, we use categorical crossentropy as the loss function. We also use adam (Adaptive Momentum Estimation) as an optimizer, allowing the learning rate to be adjusted as the model trains."
   ]
  },
  {
   "cell_type": "code",
   "execution_count": 25,
   "id": "21c8805c-73f6-447f-801c-dc7484003af8",
   "metadata": {},
   "outputs": [],
   "source": [
    "# model.compile(loss='categorical_crossentropy',\n",
    "#               optimizer=keras.optimizers.Adam(learning_rate=1e-4),\n",
    "#               metrics=['accuracy'])"
   ]
  },
  {
   "cell_type": "markdown",
   "id": "f6305e38-bf5e-4c90-85bd-6c5551aa5adb",
   "metadata": {},
   "source": [
    "We add code such that the model will store a log of its performance in a folder to be displayed and reviewed later using tensorboard."
   ]
  },
  {
   "cell_type": "code",
   "execution_count": 26,
   "id": "c7f9d0bf-87a8-4a6a-bb6d-98844aad2ac0",
   "metadata": {},
   "outputs": [],
   "source": [
    "# root_logdir = os.path.join(os.curdir, \"tb_logs\")\n",
    "\n",
    "# def get_run_logdir():    # use a new directory for each run\n",
    "# \timport time\n",
    "# \trun_id = time.strftime(\"run_%Y_%m_%d-%H_%M_%S\")\n",
    "# \treturn os.path.join(root_logdir, run_id)\n",
    "\n",
    "# run_logdir = get_run_logdir()\n",
    "\n",
    "# tb_callback = tf.keras.callbacks.TensorBoard(run_logdir)"
   ]
  },
  {
   "cell_type": "markdown",
   "id": "8be6c80b-3fc1-4764-a90a-4c9c71f91f25",
   "metadata": {},
   "source": [
    "Finally, we begin training the model, inputting the training and validation data. The model is trained for 250 epochs, storing a record of its performance using callback."
   ]
  },
  {
   "cell_type": "code",
   "execution_count": 27,
   "id": "dbb09f39-1f41-41f8-9fbc-cd36512d2a21",
   "metadata": {
    "editable": true,
    "slideshow": {
     "slide_type": ""
    },
    "tags": []
   },
   "outputs": [],
   "source": [
    "# model.fit(X_train,\n",
    "#           y_train,\n",
    "#           validation_data = (X_test, y_test),\n",
    "#           epochs=250,\n",
    "#           callbacks=[tb_callback])"
   ]
  },
  {
   "cell_type": "markdown",
   "id": "56b06d2c-1563-4632-9bc6-46ccc00eb65b",
   "metadata": {},
   "source": [
    "Now that the model has finished training, we use tensorboard to display its performance over each epoch as a graph, with both the training and validation accuracy being shown."
   ]
  },
  {
   "cell_type": "code",
   "execution_count": 28,
   "id": "ad11470a-9151-4805-9df5-fe7812dfae64",
   "metadata": {
    "editable": true,
    "scrolled": true,
    "slideshow": {
     "slide_type": ""
    },
    "tags": []
   },
   "outputs": [],
   "source": [
    "# %load_ext tensorboard\n",
    "# %tensorboard --logdir tb_logs --host localhost"
   ]
  },
  {
   "cell_type": "markdown",
   "id": "fc99e737-32ed-4ae2-ba94-aba5cad27350",
   "metadata": {},
   "source": [
    "From the results displayed, we can see that the model training went smoothly. Both the training and validation accuracy of the model increase at a consistent pace, and there is very little variance between the training and validation accuracy, showing that the model did not experience any overfitting. "
   ]
  }
 ],
 "metadata": {
  "kernelspec": {
   "display_name": "Python [conda env:it3100] *",
   "language": "python",
   "name": "conda-env-it3100-py"
  },
  "language_info": {
   "codemirror_mode": {
    "name": "ipython",
    "version": 3
   },
   "file_extension": ".py",
   "mimetype": "text/x-python",
   "name": "python",
   "nbconvert_exporter": "python",
   "pygments_lexer": "ipython3",
   "version": "3.9.23"
  }
 },
 "nbformat": 4,
 "nbformat_minor": 5
}
